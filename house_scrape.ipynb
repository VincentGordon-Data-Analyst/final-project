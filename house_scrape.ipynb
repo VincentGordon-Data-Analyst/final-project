{
 "cells": [
  {
   "cell_type": "code",
   "execution_count": 2,
   "metadata": {},
   "outputs": [],
   "source": [
    "from splinter import Browser\n",
    "from bs4 import BeautifulSoup as bs\n",
    "\n",
    "import requests"
   ]
  },
  {
   "cell_type": "code",
   "execution_count": 39,
   "metadata": {},
   "outputs": [],
   "source": [
    "# Set up Splinter\n",
    "executable_path = {'executable_path':\"C:\\Program Files (x86)\\msedgedriver.exe\"}\n",
    "browser = Browser('edge', **executable_path)\n",
    "\n",
    "# Url for buying \n",
    "url = \"https://www.royallepage.ca/en/search/homes/on/toronto/?search_str=Toronto%2C+ON%2C+CAN&csrfmiddlewaretoken=ZEUb1j0hxYEkV3xSu8ezbY169r5o4IQmq6OUHZK6FTChqngtV9EBdplVhZUDePvl&property_type=&house_type=&features=&listing_type=&lat=43.65352400000006&lng=-79.38390699999997&upper_lat=&upper_lng=&lower_lat=&lower_lng=&bypass=&radius=&zoom=&display_type=gallery-view&travel_time=false&travel_time_min=30&travel_time_mode=drive&travel_time_congestion=&da_id=&segment_id=&tier2=False&tier2_proximity=0&address=Toronto&method=homes&address_type=city&city_name=Toronto&prov_code=ON&school_id=&min_price=0&max_price=2500000&min_leaseprice=0&max_leaseprice=5000%2B&beds=0&baths=0&transactionType=SALE&keyword=&sortby=\"\n",
    "\n",
    "browser.visit(url)\n",
    "html = browser.html\n",
    "\n",
    "soup = bs(html, 'html.parser')"
   ]
  },
  {
   "cell_type": "code",
   "execution_count": 40,
   "metadata": {},
   "outputs": [
    {
     "name": "stdout",
     "output_type": "stream",
     "text": [
      "page:  1 -----\n",
      "page:  2 -----\n",
      "page:  3 -----\n"
     ]
    }
   ],
   "source": [
    "# Go throug first 3 pages to collect data\n",
    "for x in range(1, 4):\n",
    "    html = browser.html\n",
    "    soup = bs(html, 'html.parser')\n",
    "    links = soup.find_all(class_='address-1')\n",
    "    \n",
    "    # Get all address listings for buying    \n",
    "    house_listings = []\n",
    "    print('page: ', x, '-----')\n",
    "    for link in links:\n",
    "        house_listings.append(link.a['href'])\n",
    "    browser.find_by_css('.next').click()\n",
    "\n",
    "\n"
   ]
  },
  {
   "cell_type": "code",
   "execution_count": 64,
   "metadata": {},
   "outputs": [
    {
     "data": {
      "text/plain": [
       "46"
      ]
     },
     "execution_count": 64,
     "metadata": {},
     "output_type": "execute_result"
    }
   ],
   "source": [
    "# Number of listings\n",
    "len(house_listings)"
   ]
  },
  {
   "cell_type": "code",
   "execution_count": 42,
   "metadata": {},
   "outputs": [],
   "source": [
    "browser.quit()"
   ]
  },
  {
   "cell_type": "code",
   "execution_count": 62,
   "metadata": {},
   "outputs": [],
   "source": [
    "# Set up Splinter\n",
    "executable_path = {'executable_path':\"C:\\Program Files (x86)\\msedgedriver.exe\"}\n",
    "browser = Browser('edge', **executable_path)\n",
    "\n",
    "# Visit first two links\n",
    "house_listing_info = []\n",
    "\n",
    "for i in range(len(house_listings[:3])):\n",
    "    url = house_listings[i]\n",
    "    browser.visit(url)\n",
    "    html = browser.html\n",
    "    soup = bs(html, 'html.parser')\n",
    "    houses = {} \n",
    "\n",
    "    # Gather information on living space\n",
    "    living_space_section = soup.find('div', class_='property-meta-info')\n",
    "\n",
    "    # Get exact address\n",
    "    address = living_space_section.find('div', class_='title--h2 u-no-margins').text\n",
    "\n",
    "\n",
    "    # Get price\n",
    "    price = living_space_section.find('span', class_=\"title title--h1 price\").text.strip()\n",
    "    # print(f\"Listing price: {price}\")\n",
    "\n",
    "    # Get number of beds\n",
    "\n",
    "    bed_info = living_space_section.find('div', class_='bed-bath-box__item beds')\n",
    "    bed_count = bed_info.find('p', class_='bed-bath-box__value').text\n",
    "\n",
    "    # Get number of baths\n",
    "    bath_info = living_space_section.find('div', class_='bed-bath-box__item baths')\n",
    "    bath_count = bath_info.find('p', class_='bed-bath-box__value').text\n",
    "    \n",
    "    houses['address'] = address\n",
    "    houses['price'] = price\n",
    "    houses['number_of_beds'] = bed_count\n",
    "    houses['number_of_baths'] = bath_count\n",
    "\n",
    "    house_listing_info.append(houses)\n",
    "\n",
    "\n",
    "# # Gather information on building features\n",
    "# building_feature_section = soup.find('div', class_=\"details-row\")\n",
    "\n",
    "# labels = building_feature_section.find_all('span', class_='label')\n",
    "\n",
    "# feature_array = []\n",
    "# for label in labels:\n",
    "#     feature_array.append(label.text)\n",
    "# feature_array\n",
    "\n",
    "# values = building_feature_section.find_all('span', class_=\"value\")\n",
    "\n",
    "# feature_values_array = []\n",
    "# for value in values:\n",
    "#     feature_values_array.append(value.text)\n",
    "\n",
    "# feature_values_array\n",
    "\n",
    "\n",
    "browser.quit()\n",
    "\n"
   ]
  },
  {
   "cell_type": "code",
   "execution_count": 63,
   "metadata": {},
   "outputs": [
    {
     "data": {
      "text/plain": [
       "[{'address': '1701-80 Joe Shuster Way, Toronto, ON, M6K 1Y5',\n",
       "  'price': '$749,900',\n",
       "  'number_of_beds': '2 Beds',\n",
       "  'number_of_baths': '1 Bath'},\n",
       " {'address': '#909 -45 CHARLES ST E, Toronto, Ontario, M4Y 0B8',\n",
       "  'price': '$749,000',\n",
       "  'number_of_beds': '1+1 Beds',\n",
       "  'number_of_baths': '2 Baths'},\n",
       " {'address': '19 BUTTERWORTH AVE, Toronto, Ontario, M1L 1G9',\n",
       "  'price': '$739,900',\n",
       "  'number_of_beds': '2 Beds',\n",
       "  'number_of_baths': '1 Bath'}]"
      ]
     },
     "execution_count": 63,
     "metadata": {},
     "output_type": "execute_result"
    }
   ],
   "source": [
    "house_listing_info"
   ]
  },
  {
   "cell_type": "code",
   "execution_count": null,
   "metadata": {},
   "outputs": [],
   "source": []
  },
  {
   "cell_type": "code",
   "execution_count": 12,
   "metadata": {},
   "outputs": [
    {
     "data": {
      "text/plain": [
       "<div class=\"property-meta-info\">\n",
       "<div class=\"address-bar\">\n",
       "<div class=\"title--h2 u-no-margins\">1701-80 Joe Shuster Way, Toronto, ON, M6K 1Y5</div>\n",
       "</div>\n",
       "<div class=\"u-flexbox\">\n",
       "<div class=\"price-wrapper u-margin-right\">\n",
       "<span class=\"title title--h1 price\">\n",
       "<span>\n",
       "<span class=\"currency\">$</span>749,900\n",
       "            \n",
       "        \n",
       "        \n",
       "            \n",
       "            \n",
       "        \n",
       "    \n",
       "</span>\n",
       "</span>\n",
       "</div>\n",
       "<div class=\"bed-bath-box bed-bath-box--simple\">\n",
       "<div class=\"bed-bath-box__item beds\">\n",
       "<p class=\"bed-bath-box__value\">2 Beds</p>\n",
       "</div>\n",
       "<div class=\"bed-bath-box__item baths\">\n",
       "<p class=\"bed-bath-box__value\">1 Bath</p>\n",
       "</div>\n",
       "</div>\n",
       "</div>\n",
       "</div>"
      ]
     },
     "execution_count": 12,
     "metadata": {},
     "output_type": "execute_result"
    }
   ],
   "source": [
    "living_space_section = soup.find('div', class_='property-meta-info')\n",
    "living_space_section"
   ]
  },
  {
   "cell_type": "code",
   "execution_count": 13,
   "metadata": {},
   "outputs": [
    {
     "data": {
      "text/plain": [
       "'1701-80 Joe Shuster Way, Toronto, ON, M6K 1Y5'"
      ]
     },
     "execution_count": 13,
     "metadata": {},
     "output_type": "execute_result"
    }
   ],
   "source": [
    "# Get exact address\n",
    "address = living_space_section.find('div', class_='title--h2 u-no-margins').text\n",
    "address"
   ]
  },
  {
   "cell_type": "code",
   "execution_count": 14,
   "metadata": {},
   "outputs": [
    {
     "data": {
      "text/plain": [
       "'$749,900'"
      ]
     },
     "execution_count": 14,
     "metadata": {},
     "output_type": "execute_result"
    }
   ],
   "source": [
    "# Get price\n",
    "price = living_space_section.find('span', class_=\"title title--h1 price\").text.strip()\n",
    "price"
   ]
  },
  {
   "cell_type": "code",
   "execution_count": 15,
   "metadata": {},
   "outputs": [
    {
     "data": {
      "text/plain": [
       "('2 Beds', '1 Bath')"
      ]
     },
     "execution_count": 15,
     "metadata": {},
     "output_type": "execute_result"
    }
   ],
   "source": [
    "# Get number of beds\n",
    "\n",
    "bed_info = living_space_section.find('div', class_='bed-bath-box__item beds')\n",
    "bed_count = bed_info.find('p', class_='bed-bath-box__value').text\n",
    "\n",
    "# Get number of baths\n",
    "bath_info = living_space_section.find('div', class_='bed-bath-box__item baths')\n",
    "bath_count = bath_info.find('p', class_='bed-bath-box__value').text\n",
    "\n",
    "bed_count, bath_count"
   ]
  },
  {
   "attachments": {},
   "cell_type": "markdown",
   "metadata": {},
   "source": [
    "# Building Features"
   ]
  },
  {
   "cell_type": "code",
   "execution_count": 16,
   "metadata": {},
   "outputs": [
    {
     "data": {
      "text/plain": [
       "<div class=\"details-row\">\n",
       "<h4>Building Features:</h4>\n",
       "<ul class=\"property-features-list\">\n",
       "<li>\n",
       "<span class=\"label\">Style:</span>\n",
       "<span class=\"value\">Apartment</span>\n",
       "</li>\n",
       "<li>\n",
       "<span class=\"label\">Heat Included:</span>\n",
       "<span class=\"value\">No</span>\n",
       "</li>\n",
       "<li>\n",
       "<span class=\"label\">Hydro Included:</span>\n",
       "<span class=\"value\">No</span>\n",
       "</li>\n",
       "<li>\n",
       "<span class=\"label\">Air Conditioning:</span>\n",
       "<span class=\"value\">Yes</span>\n",
       "</li>\n",
       "<li>\n",
       "<span class=\"label\">Balcony:</span>\n",
       "<span class=\"value\">Terr</span>\n",
       "</li>\n",
       "<li>\n",
       "<span class=\"label\">Basement:</span>\n",
       "<span class=\"value\">None</span>\n",
       "</li>\n",
       "<li>\n",
       "<span class=\"label\">Exposure:</span>\n",
       "<span class=\"value\">NE</span>\n",
       "</li>\n",
       "<li>\n",
       "<span class=\"label\">Exterior:</span>\n",
       "<span class=\"value\">Brick Front</span>\n",
       "</li>\n",
       "<li>\n",
       "<span class=\"label\">Fireplace/Stove:</span>\n",
       "<span class=\"value\">No</span>\n",
       "</li>\n",
       "<li>\n",
       "<span class=\"label\">Garage Type:</span>\n",
       "<span class=\"value\">Surface</span>\n",
       "</li>\n",
       "<li>\n",
       "<span class=\"label\">Locker:</span>\n",
       "<span class=\"value\">Owned</span>\n",
       "</li>\n",
       "<li>\n",
       "<span class=\"label\">Heat Type:</span>\n",
       "<span class=\"value\">Forced Air</span>\n",
       "</li>\n",
       "<li>\n",
       "<span class=\"label\">Heat Source:</span>\n",
       "<span class=\"value\">Gas</span>\n",
       "</li>\n",
       "</ul>\n",
       "</div>"
      ]
     },
     "execution_count": 16,
     "metadata": {},
     "output_type": "execute_result"
    }
   ],
   "source": [
    "building_feature_section = soup.find('div', class_=\"details-row\")\n",
    "building_feature_section"
   ]
  },
  {
   "cell_type": "code",
   "execution_count": 19,
   "metadata": {},
   "outputs": [
    {
     "data": {
      "text/plain": [
       "['Style:',\n",
       " 'Heat Included:',\n",
       " 'Hydro Included:',\n",
       " 'Air Conditioning:',\n",
       " 'Balcony:',\n",
       " 'Basement:',\n",
       " 'Exposure:',\n",
       " 'Exterior:',\n",
       " 'Fireplace/Stove:',\n",
       " 'Garage Type:',\n",
       " 'Locker:',\n",
       " 'Heat Type:',\n",
       " 'Heat Source:']"
      ]
     },
     "execution_count": 19,
     "metadata": {},
     "output_type": "execute_result"
    }
   ],
   "source": [
    "labels = building_feature_section.find_all('span', class_='label')\n",
    "\n",
    "feature_array = []\n",
    "for label in labels:\n",
    "    feature_array.append(label.text)\n",
    "feature_array"
   ]
  },
  {
   "cell_type": "code",
   "execution_count": 18,
   "metadata": {},
   "outputs": [
    {
     "data": {
      "text/plain": [
       "['Apartment',\n",
       " 'No',\n",
       " 'No',\n",
       " 'Yes',\n",
       " 'Terr',\n",
       " 'None',\n",
       " 'NE',\n",
       " 'Brick Front',\n",
       " 'No',\n",
       " 'Surface',\n",
       " 'Owned',\n",
       " 'Forced Air',\n",
       " 'Gas']"
      ]
     },
     "execution_count": 18,
     "metadata": {},
     "output_type": "execute_result"
    }
   ],
   "source": [
    "values = building_feature_section.find_all('span', class_=\"value\")\n",
    "\n",
    "feature_values_array = []\n",
    "for value in values:\n",
    "    feature_values_array.append(value.text)\n",
    "\n",
    "feature_values_array"
   ]
  },
  {
   "cell_type": "code",
   "execution_count": null,
   "metadata": {},
   "outputs": [],
   "source": []
  },
  {
   "cell_type": "code",
   "execution_count": null,
   "metadata": {},
   "outputs": [],
   "source": [
    "browser.quit()"
   ]
  },
  {
   "cell_type": "code",
   "execution_count": null,
   "metadata": {},
   "outputs": [],
   "source": []
  }
 ],
 "metadata": {
  "kernelspec": {
   "display_name": "base",
   "language": "python",
   "name": "python3"
  },
  "language_info": {
   "codemirror_mode": {
    "name": "ipython",
    "version": 3
   },
   "file_extension": ".py",
   "mimetype": "text/x-python",
   "name": "python",
   "nbconvert_exporter": "python",
   "pygments_lexer": "ipython3",
   "version": "3.9.12"
  },
  "orig_nbformat": 4
 },
 "nbformat": 4,
 "nbformat_minor": 2
}
