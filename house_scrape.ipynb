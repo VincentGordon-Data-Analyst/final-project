{
 "cells": [
  {
   "cell_type": "code",
   "execution_count": 3,
   "metadata": {},
   "outputs": [],
   "source": [
    "from splinter import Browser\n",
    "from bs4 import BeautifulSoup as bs\n",
    "\n",
    "from selenium import webdriver \n",
    "from webdriver_manager.microsoft import EdgeChromiumDriverManager\n",
    "\n",
    "driver = webdriver.Edge(EdgeChromiumDriverManager().install())\n",
    "\n",
    "import requests"
   ]
  },
  {
   "cell_type": "code",
   "execution_count": 61,
   "metadata": {},
   "outputs": [],
   "source": [
    "# Set up Splinter\n",
    "executable_path = {'executable_path':\"C:\\Program Files (x86)\\msedgedriver.exe\"}\n",
    "browser = Browser('edge', **executable_path)\n",
    "\n",
    "# Url for buying \n",
    "url = \"https://www.royallepage.ca/en/search/homes/on/toronto/?search_str=Toronto%2C+ON%2C+CAN&csrfmiddlewaretoken=V5y9016tqj9zbVHZCY73r9SjZYOrYXtzp15QjmRv8LC4pSuAGL2kLQZ2Wp2t4H9Y&property_type=&house_type=&features=&listing_type=&lat=43.65352400000006&lng=-79.38390699999997&upper_lat=&upper_lng=&lower_lat=&lower_lng=&bypass=&radius=&zoom=&display_type=gallery-view&travel_time=&travel_time_min=30&travel_time_mode=drive&travel_time_congestion=&da_id=&segment_id=&tier2=False&tier2_proximity=0&address=Toronto&method=homes&address_type=city&city_name=Toronto&prov_code=ON&school_id=&min_price=0&max_price=5000000%2B&min_leaseprice=0&max_leaseprice=5000%2B&beds=0&baths=0&transactionType=SALE&keyword=&sortby=\"\n",
    "\n",
    "browser.visit(url)\n",
    "html = browser.html\n",
    "\n",
    "soup = bs(html, 'html.parser')"
   ]
  },
  {
   "cell_type": "code",
   "execution_count": 62,
   "metadata": {},
   "outputs": [
    {
     "data": {
      "text/plain": [
       "['https://www.royallepage.ca/en/property/ontario/toronto/125-wedgewood-dr/19451189/mlsc6014073/',\n",
       " 'https://www.royallepage.ca/en/property/ontario/toronto/1931-gerrard-st-e/19452272/mlse6014373/',\n",
       " 'https://www.royallepage.ca/en/property/ontario/toronto/75-city-view-dr/19448145/mlsw6012967/',\n",
       " 'https://www.royallepage.ca/en/property/ontario/toronto/75-city-view-dr/19443128/mlsw6011607/',\n",
       " 'https://www.royallepage.ca/en/property/ontario/toronto/62-edenvale-cres/19445723/mlsw6012211/']"
      ]
     },
     "execution_count": 62,
     "metadata": {},
     "output_type": "execute_result"
    }
   ],
   "source": [
    "# Get all address listings for buying\n",
    "links = soup.find_all('address', class_='address-1')\n",
    "\n",
    "# Create address array\n",
    "address = []\n",
    "for link in links:\n",
    "    address.append(link.a['href'])\n",
    "    \n",
    "# Display first 5 address\n",
    "address[:5]"
   ]
  },
  {
   "cell_type": "code",
   "execution_count": 63,
   "metadata": {},
   "outputs": [],
   "source": [
    "browser.quit()"
   ]
  },
  {
   "cell_type": "code",
   "execution_count": 64,
   "metadata": {},
   "outputs": [],
   "source": [
    "# Set up Splinter\n",
    "executable_path = {'executable_path':\"C:\\Program Files (x86)\\msedgedriver.exe\"}\n",
    "browser = Browser('edge', **executable_path)\n",
    "\n",
    "# Visit first link\n",
    "url = address[0]\n",
    "browser.visit(url)\n",
    "html = browser.html\n",
    "soup = bs(html, 'html.parser')\n",
    "\n"
   ]
  },
  {
   "cell_type": "code",
   "execution_count": 133,
   "metadata": {},
   "outputs": [
    {
     "data": {
      "text/plain": [
       "<div class=\"property-meta-info\">\n",
       "<div class=\"address-bar\">\n",
       "<div class=\"title--h2 u-no-margins\">125 WEDGEWOOD DR, Toronto, Ontario, M2M 2H6</div>\n",
       "</div>\n",
       "<div class=\"u-flexbox\">\n",
       "<div class=\"price-wrapper u-margin-right\">\n",
       "<span class=\"title title--h1 price\">\n",
       "<span>\n",
       "<span class=\"currency\">$</span>1,950,000\n",
       "            \n",
       "        \n",
       "        \n",
       "            \n",
       "            \n",
       "        \n",
       "    \n",
       "</span>\n",
       "</span>\n",
       "</div>\n",
       "<div class=\"bed-bath-box bed-bath-box--simple\">\n",
       "<div class=\"bed-bath-box__item beds\">\n",
       "<p class=\"bed-bath-box__value\">3 Beds</p>\n",
       "</div>\n",
       "<div class=\"bed-bath-box__item baths\">\n",
       "<p class=\"bed-bath-box__value\">1 Bath</p>\n",
       "</div>\n",
       "</div>\n",
       "</div>\n",
       "</div>"
      ]
     },
     "execution_count": 133,
     "metadata": {},
     "output_type": "execute_result"
    }
   ],
   "source": [
    "info_section = soup.find('div', class_='property-meta-info')\n",
    "info_section"
   ]
  },
  {
   "cell_type": "code",
   "execution_count": 139,
   "metadata": {},
   "outputs": [
    {
     "data": {
      "text/plain": [
       "'125 WEDGEWOOD DR, Toronto, Ontario, M2M 2H6'"
      ]
     },
     "execution_count": 139,
     "metadata": {},
     "output_type": "execute_result"
    }
   ],
   "source": [
    "# Get exact address\n",
    "address = info_section.find('div', class_='title--h2 u-no-margins').text\n",
    "address"
   ]
  },
  {
   "cell_type": "code",
   "execution_count": 145,
   "metadata": {},
   "outputs": [
    {
     "data": {
      "text/plain": [
       "'$1,950,000'"
      ]
     },
     "execution_count": 145,
     "metadata": {},
     "output_type": "execute_result"
    }
   ],
   "source": [
    "# Get price\n",
    "price = info_section.find('span', class_=\"title title--h1 price\").text.strip()\n",
    "price"
   ]
  },
  {
   "cell_type": "code",
   "execution_count": 158,
   "metadata": {},
   "outputs": [
    {
     "data": {
      "text/plain": [
       "('3 Beds', '1 Bath')"
      ]
     },
     "execution_count": 158,
     "metadata": {},
     "output_type": "execute_result"
    }
   ],
   "source": [
    "# Get number of beds\n",
    "\n",
    "bed_info = info_section.find('div', class_='bed-bath-box__item beds')\n",
    "bed_count = bed_info.find('p', class_='bed-bath-box__value').text\n",
    "\n",
    "# Get number of baths\n",
    "bath_info = info_section.find('div', class_='bed-bath-box__item baths')\n",
    "bath_count = bath_info.find('p', class_='bed-bath-box__value').text\n",
    "\n",
    "bed_count, bath_count"
   ]
  },
  {
   "cell_type": "code",
   "execution_count": 129,
   "metadata": {},
   "outputs": [
    {
     "name": "stdout",
     "output_type": "stream",
     "text": [
      "Number of bed(s) for listing: 3 Beds\n",
      "Number of bath(s) for listing: 1 Bath\n"
     ]
    }
   ],
   "source": [
    "import re\n",
    "\n",
    "# Get information on number of beds\n",
    "bed_bath_info_box = soup.find('div', class_='bed-bath-box')\n",
    "\n",
    "bed = bed_bath_info_box.find('div', class_='bed-bath-box__item beds')\n",
    "bed_value = re.findall(\"B\", bed.find('p', class_='bed-bath-box__value').text).strip()\n",
    "\n",
    "\n",
    "print(f\"Number of bed(s) for listing: {bed_value}\")\n",
    "\n",
    "\n",
    "# # Get information on number of baths\n",
    "\n",
    "bath = bed_bath_info_box.find('div', class_='bed-bath-box__item baths')\n",
    "\n",
    "bath_value = bath.find('p', class_='bed-bath-box__value').text\n",
    "bath_value\n",
    "\n",
    "print(f\"Number of bath(s) for listing: {bath_value}\")\n"
   ]
  },
  {
   "cell_type": "code",
   "execution_count": null,
   "metadata": {},
   "outputs": [],
   "source": []
  },
  {
   "cell_type": "code",
   "execution_count": null,
   "metadata": {},
   "outputs": [],
   "source": []
  },
  {
   "cell_type": "code",
   "execution_count": null,
   "metadata": {},
   "outputs": [],
   "source": []
  },
  {
   "cell_type": "code",
   "execution_count": 30,
   "metadata": {},
   "outputs": [],
   "source": [
    "browser.quit()"
   ]
  },
  {
   "cell_type": "code",
   "execution_count": null,
   "metadata": {},
   "outputs": [],
   "source": []
  }
 ],
 "metadata": {
  "kernelspec": {
   "display_name": "base",
   "language": "python",
   "name": "python3"
  },
  "language_info": {
   "codemirror_mode": {
    "name": "ipython",
    "version": 3
   },
   "file_extension": ".py",
   "mimetype": "text/x-python",
   "name": "python",
   "nbconvert_exporter": "python",
   "pygments_lexer": "ipython3",
   "version": "3.9.12"
  },
  "orig_nbformat": 4
 },
 "nbformat": 4,
 "nbformat_minor": 2
}
