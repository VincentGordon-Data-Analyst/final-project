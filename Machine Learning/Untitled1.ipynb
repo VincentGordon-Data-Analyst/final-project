{
 "cells": [
  {
   "cell_type": "code",
   "execution_count": 1,
   "id": "ff324c6d",
   "metadata": {},
   "outputs": [],
   "source": [
    "import numpy as np\n",
    "from sklearn.linear_model import LinearRegression\n",
    "import pandas as pd\n",
    "import matplotlib.pyplot as plt"
   ]
  },
  {
   "cell_type": "code",
   "execution_count": 10,
   "id": "dc22592b",
   "metadata": {},
   "outputs": [
    {
     "ename": "SyntaxError",
     "evalue": "invalid syntax (2115773596.py, line 1)",
     "output_type": "error",
     "traceback": [
      "\u001b[1;36m  Input \u001b[1;32mIn [10]\u001b[1;36m\u001b[0m\n\u001b[1;33m    df = pd.read_csv(\"house.csv\",delimiter=,)\u001b[0m\n\u001b[1;37m                                           ^\u001b[0m\n\u001b[1;31mSyntaxError\u001b[0m\u001b[1;31m:\u001b[0m invalid syntax\n"
     ]
    }
   ],
   "source": [
    "df = pd.read_csv(\"house.csv\",delimiter=,)"
   ]
  },
  {
   "cell_type": "code",
   "execution_count": 8,
   "id": "97aa3bfd",
   "metadata": {},
   "outputs": [
    {
     "data": {
      "text/html": [
       "<div>\n",
       "<style scoped>\n",
       "    .dataframe tbody tr th:only-of-type {\n",
       "        vertical-align: middle;\n",
       "    }\n",
       "\n",
       "    .dataframe tbody tr th {\n",
       "        vertical-align: top;\n",
       "    }\n",
       "\n",
       "    .dataframe thead th {\n",
       "        text-align: right;\n",
       "    }\n",
       "</style>\n",
       "<table border=\"1\" class=\"dataframe\">\n",
       "  <thead>\n",
       "    <tr style=\"text-align: right;\">\n",
       "      <th></th>\n",
       "      <th>longitude,latitude,housing_median_age,total_rooms,total_bedrooms,population,households,median_income,median_house_value,ocean_proximity</th>\n",
       "    </tr>\n",
       "  </thead>\n",
       "  <tbody>\n",
       "    <tr>\n",
       "      <th>0</th>\n",
       "      <td>-122.23,37.88,41.0,880.0,129.0,322.0,126.0,8.3...</td>\n",
       "    </tr>\n",
       "    <tr>\n",
       "      <th>1</th>\n",
       "      <td>-122.22,37.86,21.0,7099.0,1106.0,2401.0,1138.0...</td>\n",
       "    </tr>\n",
       "    <tr>\n",
       "      <th>2</th>\n",
       "      <td>-122.24,37.85,52.0,1467.0,190.0,496.0,177.0,7....</td>\n",
       "    </tr>\n",
       "    <tr>\n",
       "      <th>3</th>\n",
       "      <td>-122.25,37.85,52.0,1274.0,235.0,558.0,219.0,5....</td>\n",
       "    </tr>\n",
       "    <tr>\n",
       "      <th>4</th>\n",
       "      <td>-122.25,37.85,52.0,1627.0,280.0,565.0,259.0,3....</td>\n",
       "    </tr>\n",
       "    <tr>\n",
       "      <th>...</th>\n",
       "      <td>...</td>\n",
       "    </tr>\n",
       "    <tr>\n",
       "      <th>20635</th>\n",
       "      <td>-121.09,39.48,25.0,1665.0,374.0,845.0,330.0,1....</td>\n",
       "    </tr>\n",
       "    <tr>\n",
       "      <th>20636</th>\n",
       "      <td>-121.21,39.49,18.0,697.0,150.0,356.0,114.0,2.5...</td>\n",
       "    </tr>\n",
       "    <tr>\n",
       "      <th>20637</th>\n",
       "      <td>-121.22,39.43,17.0,2254.0,485.0,1007.0,433.0,1...</td>\n",
       "    </tr>\n",
       "    <tr>\n",
       "      <th>20638</th>\n",
       "      <td>-121.32,39.43,18.0,1860.0,409.0,741.0,349.0,1....</td>\n",
       "    </tr>\n",
       "    <tr>\n",
       "      <th>20639</th>\n",
       "      <td>-121.24,39.37,16.0,2785.0,616.0,1387.0,530.0,2...</td>\n",
       "    </tr>\n",
       "  </tbody>\n",
       "</table>\n",
       "<p>20640 rows × 1 columns</p>\n",
       "</div>"
      ],
      "text/plain": [
       "      longitude,latitude,housing_median_age,total_rooms,total_bedrooms,population,households,median_income,median_house_value,ocean_proximity\n",
       "0      -122.23,37.88,41.0,880.0,129.0,322.0,126.0,8.3...                                                                                     \n",
       "1      -122.22,37.86,21.0,7099.0,1106.0,2401.0,1138.0...                                                                                     \n",
       "2      -122.24,37.85,52.0,1467.0,190.0,496.0,177.0,7....                                                                                     \n",
       "3      -122.25,37.85,52.0,1274.0,235.0,558.0,219.0,5....                                                                                     \n",
       "4      -122.25,37.85,52.0,1627.0,280.0,565.0,259.0,3....                                                                                     \n",
       "...                                                  ...                                                                                     \n",
       "20635  -121.09,39.48,25.0,1665.0,374.0,845.0,330.0,1....                                                                                     \n",
       "20636  -121.21,39.49,18.0,697.0,150.0,356.0,114.0,2.5...                                                                                     \n",
       "20637  -121.22,39.43,17.0,2254.0,485.0,1007.0,433.0,1...                                                                                     \n",
       "20638  -121.32,39.43,18.0,1860.0,409.0,741.0,349.0,1....                                                                                     \n",
       "20639  -121.24,39.37,16.0,2785.0,616.0,1387.0,530.0,2...                                                                                     \n",
       "\n",
       "[20640 rows x 1 columns]"
      ]
     },
     "execution_count": 8,
     "metadata": {},
     "output_type": "execute_result"
    }
   ],
   "source": [
    "df"
   ]
  },
  {
   "cell_type": "code",
   "execution_count": null,
   "id": "590b9b4c",
   "metadata": {},
   "outputs": [],
   "source": []
  }
 ],
 "metadata": {
  "kernelspec": {
   "display_name": "Python 3 (ipykernel)",
   "language": "python",
   "name": "python3"
  },
  "language_info": {
   "codemirror_mode": {
    "name": "ipython",
    "version": 3
   },
   "file_extension": ".py",
   "mimetype": "text/x-python",
   "name": "python",
   "nbconvert_exporter": "python",
   "pygments_lexer": "ipython3",
   "version": "3.9.12"
  }
 },
 "nbformat": 4,
 "nbformat_minor": 5
}
