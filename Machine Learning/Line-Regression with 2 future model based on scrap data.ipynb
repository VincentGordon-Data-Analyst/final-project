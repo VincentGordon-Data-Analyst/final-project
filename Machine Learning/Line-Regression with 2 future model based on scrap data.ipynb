{
 "cells": [
  {
   "cell_type": "code",
   "execution_count": 12,
   "id": "9e2fbf66",
   "metadata": {},
   "outputs": [],
   "source": [
    "import numpy as np\n",
    "import pandas as pd \n",
    "from sklearn.linear_model import LinearRegression\n",
    "\n",
    "from sklearn.preprocessing import StandardScaler\n",
    "from sklearn.model_selection import train_test_split\n",
    "from sklearn.metrics import mean_squared_error, r2_score\n",
    "import seaborn as sns"
   ]
  },
  {
   "cell_type": "code",
   "execution_count": 2,
   "id": "67956e84",
   "metadata": {},
   "outputs": [],
   "source": [
    "df2= pd.read_csv(\"../Web Scraping/predicting_house_price.csv\")"
   ]
  },
  {
   "cell_type": "code",
   "execution_count": 3,
   "id": "f2a0da85",
   "metadata": {
    "scrolled": true
   },
   "outputs": [
    {
     "data": {
      "text/html": [
       "<div>\n",
       "<style scoped>\n",
       "    .dataframe tbody tr th:only-of-type {\n",
       "        vertical-align: middle;\n",
       "    }\n",
       "\n",
       "    .dataframe tbody tr th {\n",
       "        vertical-align: top;\n",
       "    }\n",
       "\n",
       "    .dataframe thead th {\n",
       "        text-align: right;\n",
       "    }\n",
       "</style>\n",
       "<table border=\"1\" class=\"dataframe\">\n",
       "  <thead>\n",
       "    <tr style=\"text-align: right;\">\n",
       "      <th></th>\n",
       "      <th>Unnamed: 0</th>\n",
       "      <th>lat</th>\n",
       "      <th>lon</th>\n",
       "      <th>city</th>\n",
       "      <th>style</th>\n",
       "      <th>building_type</th>\n",
       "      <th>cooling_type</th>\n",
       "      <th>heating_type</th>\n",
       "      <th>price</th>\n",
       "      <th>number_of_beds</th>\n",
       "      <th>number_of_baths</th>\n",
       "      <th>extra_space</th>\n",
       "      <th>fire_place</th>\n",
       "    </tr>\n",
       "  </thead>\n",
       "  <tbody>\n",
       "    <tr>\n",
       "      <th>0</th>\n",
       "      <td>0</td>\n",
       "      <td>43.333410</td>\n",
       "      <td>-79.882930</td>\n",
       "      <td>Waterdown</td>\n",
       "      <td>Townhouse</td>\n",
       "      <td>Row / Townhouse</td>\n",
       "      <td>Central air conditioning</td>\n",
       "      <td>Forced air</td>\n",
       "      <td>749900.0</td>\n",
       "      <td>2</td>\n",
       "      <td>3</td>\n",
       "      <td>0</td>\n",
       "      <td>0</td>\n",
       "    </tr>\n",
       "    <tr>\n",
       "      <th>1</th>\n",
       "      <td>1</td>\n",
       "      <td>43.856371</td>\n",
       "      <td>-79.337682</td>\n",
       "      <td>Markham</td>\n",
       "      <td>Detached</td>\n",
       "      <td>House</td>\n",
       "      <td>Central air conditioning</td>\n",
       "      <td>Forced air</td>\n",
       "      <td>2998000.0</td>\n",
       "      <td>5</td>\n",
       "      <td>8</td>\n",
       "      <td>1</td>\n",
       "      <td>1</td>\n",
       "    </tr>\n",
       "    <tr>\n",
       "      <th>2</th>\n",
       "      <td>2</td>\n",
       "      <td>43.670890</td>\n",
       "      <td>-79.316931</td>\n",
       "      <td>Toronto</td>\n",
       "      <td>Detached</td>\n",
       "      <td>House</td>\n",
       "      <td>Central air conditioning</td>\n",
       "      <td>Forced air</td>\n",
       "      <td>2599900.0</td>\n",
       "      <td>3</td>\n",
       "      <td>4</td>\n",
       "      <td>0</td>\n",
       "      <td>1</td>\n",
       "    </tr>\n",
       "    <tr>\n",
       "      <th>3</th>\n",
       "      <td>3</td>\n",
       "      <td>43.589623</td>\n",
       "      <td>-79.644388</td>\n",
       "      <td>Mississauga</td>\n",
       "      <td>Semi-Detached</td>\n",
       "      <td>House</td>\n",
       "      <td>Central air conditioning</td>\n",
       "      <td>Forced air</td>\n",
       "      <td>2499850.0</td>\n",
       "      <td>4</td>\n",
       "      <td>4</td>\n",
       "      <td>1</td>\n",
       "      <td>0</td>\n",
       "    </tr>\n",
       "    <tr>\n",
       "      <th>4</th>\n",
       "      <td>4</td>\n",
       "      <td>43.447436</td>\n",
       "      <td>-79.666672</td>\n",
       "      <td>Oakville</td>\n",
       "      <td>Detached</td>\n",
       "      <td>House</td>\n",
       "      <td>Central air conditioning</td>\n",
       "      <td>Forced air</td>\n",
       "      <td>1999000.0</td>\n",
       "      <td>5</td>\n",
       "      <td>4</td>\n",
       "      <td>0</td>\n",
       "      <td>1</td>\n",
       "    </tr>\n",
       "    <tr>\n",
       "      <th>...</th>\n",
       "      <td>...</td>\n",
       "      <td>...</td>\n",
       "      <td>...</td>\n",
       "      <td>...</td>\n",
       "      <td>...</td>\n",
       "      <td>...</td>\n",
       "      <td>...</td>\n",
       "      <td>...</td>\n",
       "      <td>...</td>\n",
       "      <td>...</td>\n",
       "      <td>...</td>\n",
       "      <td>...</td>\n",
       "      <td>...</td>\n",
       "    </tr>\n",
       "    <tr>\n",
       "      <th>604</th>\n",
       "      <td>628</td>\n",
       "      <td>43.968686</td>\n",
       "      <td>-78.651357</td>\n",
       "      <td>Clarington</td>\n",
       "      <td>Detached</td>\n",
       "      <td>House</td>\n",
       "      <td>Central air conditioning</td>\n",
       "      <td>Forced air</td>\n",
       "      <td>699900.0</td>\n",
       "      <td>3</td>\n",
       "      <td>3</td>\n",
       "      <td>0</td>\n",
       "      <td>1</td>\n",
       "    </tr>\n",
       "    <tr>\n",
       "      <th>605</th>\n",
       "      <td>629</td>\n",
       "      <td>43.256080</td>\n",
       "      <td>-79.872858</td>\n",
       "      <td>Hamilton</td>\n",
       "      <td>Townhouse</td>\n",
       "      <td>Row / Townhouse</td>\n",
       "      <td>Central air conditioning</td>\n",
       "      <td>Forced air</td>\n",
       "      <td>699900.0</td>\n",
       "      <td>3</td>\n",
       "      <td>2</td>\n",
       "      <td>0</td>\n",
       "      <td>0</td>\n",
       "    </tr>\n",
       "    <tr>\n",
       "      <th>606</th>\n",
       "      <td>630</td>\n",
       "      <td>42.303830</td>\n",
       "      <td>-82.818927</td>\n",
       "      <td>Lakeshore</td>\n",
       "      <td>Detached</td>\n",
       "      <td>House</td>\n",
       "      <td>Central air conditioning</td>\n",
       "      <td>Forced air</td>\n",
       "      <td>699900.0</td>\n",
       "      <td>3</td>\n",
       "      <td>3</td>\n",
       "      <td>1</td>\n",
       "      <td>0</td>\n",
       "    </tr>\n",
       "    <tr>\n",
       "      <th>607</th>\n",
       "      <td>631</td>\n",
       "      <td>42.283820</td>\n",
       "      <td>-82.997089</td>\n",
       "      <td>Windsor</td>\n",
       "      <td>Townhouse</td>\n",
       "      <td>Row / Townhouse</td>\n",
       "      <td>Central air conditioning</td>\n",
       "      <td>Forced air</td>\n",
       "      <td>699888.0</td>\n",
       "      <td>2</td>\n",
       "      <td>3</td>\n",
       "      <td>1</td>\n",
       "      <td>0</td>\n",
       "    </tr>\n",
       "    <tr>\n",
       "      <th>608</th>\n",
       "      <td>632</td>\n",
       "      <td>43.451291</td>\n",
       "      <td>-80.492782</td>\n",
       "      <td>Kitchener</td>\n",
       "      <td>Detached</td>\n",
       "      <td>House</td>\n",
       "      <td>Central air conditioning</td>\n",
       "      <td>Forced air</td>\n",
       "      <td>699000.0</td>\n",
       "      <td>3</td>\n",
       "      <td>2</td>\n",
       "      <td>0</td>\n",
       "      <td>0</td>\n",
       "    </tr>\n",
       "  </tbody>\n",
       "</table>\n",
       "<p>609 rows × 13 columns</p>\n",
       "</div>"
      ],
      "text/plain": [
       "     Unnamed: 0        lat        lon         city          style  \\\n",
       "0             0  43.333410 -79.882930    Waterdown      Townhouse   \n",
       "1             1  43.856371 -79.337682      Markham       Detached   \n",
       "2             2  43.670890 -79.316931      Toronto       Detached   \n",
       "3             3  43.589623 -79.644388  Mississauga  Semi-Detached   \n",
       "4             4  43.447436 -79.666672     Oakville       Detached   \n",
       "..          ...        ...        ...          ...            ...   \n",
       "604         628  43.968686 -78.651357   Clarington       Detached   \n",
       "605         629  43.256080 -79.872858     Hamilton      Townhouse   \n",
       "606         630  42.303830 -82.818927    Lakeshore       Detached   \n",
       "607         631  42.283820 -82.997089      Windsor      Townhouse   \n",
       "608         632  43.451291 -80.492782    Kitchener       Detached   \n",
       "\n",
       "       building_type              cooling_type heating_type      price  \\\n",
       "0    Row / Townhouse  Central air conditioning   Forced air   749900.0   \n",
       "1              House  Central air conditioning   Forced air  2998000.0   \n",
       "2              House  Central air conditioning   Forced air  2599900.0   \n",
       "3              House  Central air conditioning   Forced air  2499850.0   \n",
       "4              House  Central air conditioning   Forced air  1999000.0   \n",
       "..               ...                       ...          ...        ...   \n",
       "604            House  Central air conditioning   Forced air   699900.0   \n",
       "605  Row / Townhouse  Central air conditioning   Forced air   699900.0   \n",
       "606            House  Central air conditioning   Forced air   699900.0   \n",
       "607  Row / Townhouse  Central air conditioning   Forced air   699888.0   \n",
       "608            House  Central air conditioning   Forced air   699000.0   \n",
       "\n",
       "     number_of_beds  number_of_baths  extra_space  fire_place  \n",
       "0                 2                3            0           0  \n",
       "1                 5                8            1           1  \n",
       "2                 3                4            0           1  \n",
       "3                 4                4            1           0  \n",
       "4                 5                4            0           1  \n",
       "..              ...              ...          ...         ...  \n",
       "604               3                3            0           1  \n",
       "605               3                2            0           0  \n",
       "606               3                3            1           0  \n",
       "607               2                3            1           0  \n",
       "608               3                2            0           0  \n",
       "\n",
       "[609 rows x 13 columns]"
      ]
     },
     "execution_count": 3,
     "metadata": {},
     "output_type": "execute_result"
    }
   ],
   "source": [
    "df2"
   ]
  },
  {
   "cell_type": "code",
   "execution_count": 4,
   "id": "55a65466",
   "metadata": {},
   "outputs": [],
   "source": [
    "df2=df2.ffill()"
   ]
  },
  {
   "cell_type": "code",
   "execution_count": 5,
   "id": "8fc5bcdb",
   "metadata": {
    "scrolled": false
   },
   "outputs": [
    {
     "data": {
      "text/html": [
       "<div>\n",
       "<style scoped>\n",
       "    .dataframe tbody tr th:only-of-type {\n",
       "        vertical-align: middle;\n",
       "    }\n",
       "\n",
       "    .dataframe tbody tr th {\n",
       "        vertical-align: top;\n",
       "    }\n",
       "\n",
       "    .dataframe thead th {\n",
       "        text-align: right;\n",
       "    }\n",
       "</style>\n",
       "<table border=\"1\" class=\"dataframe\">\n",
       "  <thead>\n",
       "    <tr style=\"text-align: right;\">\n",
       "      <th></th>\n",
       "      <th>Unnamed: 0</th>\n",
       "      <th>lat</th>\n",
       "      <th>lon</th>\n",
       "      <th>city</th>\n",
       "      <th>style</th>\n",
       "      <th>building_type</th>\n",
       "      <th>cooling_type</th>\n",
       "      <th>heating_type</th>\n",
       "      <th>price</th>\n",
       "      <th>number_of_beds</th>\n",
       "      <th>number_of_baths</th>\n",
       "      <th>extra_space</th>\n",
       "      <th>fire_place</th>\n",
       "    </tr>\n",
       "  </thead>\n",
       "  <tbody>\n",
       "    <tr>\n",
       "      <th>0</th>\n",
       "      <td>0</td>\n",
       "      <td>43.333410</td>\n",
       "      <td>-79.882930</td>\n",
       "      <td>Waterdown</td>\n",
       "      <td>Townhouse</td>\n",
       "      <td>Row / Townhouse</td>\n",
       "      <td>Central air conditioning</td>\n",
       "      <td>Forced air</td>\n",
       "      <td>749900.0</td>\n",
       "      <td>2</td>\n",
       "      <td>3</td>\n",
       "      <td>0</td>\n",
       "      <td>0</td>\n",
       "    </tr>\n",
       "    <tr>\n",
       "      <th>1</th>\n",
       "      <td>1</td>\n",
       "      <td>43.856371</td>\n",
       "      <td>-79.337682</td>\n",
       "      <td>Markham</td>\n",
       "      <td>Detached</td>\n",
       "      <td>House</td>\n",
       "      <td>Central air conditioning</td>\n",
       "      <td>Forced air</td>\n",
       "      <td>2998000.0</td>\n",
       "      <td>5</td>\n",
       "      <td>8</td>\n",
       "      <td>1</td>\n",
       "      <td>1</td>\n",
       "    </tr>\n",
       "    <tr>\n",
       "      <th>2</th>\n",
       "      <td>2</td>\n",
       "      <td>43.670890</td>\n",
       "      <td>-79.316931</td>\n",
       "      <td>Toronto</td>\n",
       "      <td>Detached</td>\n",
       "      <td>House</td>\n",
       "      <td>Central air conditioning</td>\n",
       "      <td>Forced air</td>\n",
       "      <td>2599900.0</td>\n",
       "      <td>3</td>\n",
       "      <td>4</td>\n",
       "      <td>0</td>\n",
       "      <td>1</td>\n",
       "    </tr>\n",
       "    <tr>\n",
       "      <th>3</th>\n",
       "      <td>3</td>\n",
       "      <td>43.589623</td>\n",
       "      <td>-79.644388</td>\n",
       "      <td>Mississauga</td>\n",
       "      <td>Semi-Detached</td>\n",
       "      <td>House</td>\n",
       "      <td>Central air conditioning</td>\n",
       "      <td>Forced air</td>\n",
       "      <td>2499850.0</td>\n",
       "      <td>4</td>\n",
       "      <td>4</td>\n",
       "      <td>1</td>\n",
       "      <td>0</td>\n",
       "    </tr>\n",
       "    <tr>\n",
       "      <th>4</th>\n",
       "      <td>4</td>\n",
       "      <td>43.447436</td>\n",
       "      <td>-79.666672</td>\n",
       "      <td>Oakville</td>\n",
       "      <td>Detached</td>\n",
       "      <td>House</td>\n",
       "      <td>Central air conditioning</td>\n",
       "      <td>Forced air</td>\n",
       "      <td>1999000.0</td>\n",
       "      <td>5</td>\n",
       "      <td>4</td>\n",
       "      <td>0</td>\n",
       "      <td>1</td>\n",
       "    </tr>\n",
       "  </tbody>\n",
       "</table>\n",
       "</div>"
      ],
      "text/plain": [
       "   Unnamed: 0        lat        lon         city          style  \\\n",
       "0           0  43.333410 -79.882930    Waterdown      Townhouse   \n",
       "1           1  43.856371 -79.337682      Markham       Detached   \n",
       "2           2  43.670890 -79.316931      Toronto       Detached   \n",
       "3           3  43.589623 -79.644388  Mississauga  Semi-Detached   \n",
       "4           4  43.447436 -79.666672     Oakville       Detached   \n",
       "\n",
       "     building_type              cooling_type heating_type      price  \\\n",
       "0  Row / Townhouse  Central air conditioning   Forced air   749900.0   \n",
       "1            House  Central air conditioning   Forced air  2998000.0   \n",
       "2            House  Central air conditioning   Forced air  2599900.0   \n",
       "3            House  Central air conditioning   Forced air  2499850.0   \n",
       "4            House  Central air conditioning   Forced air  1999000.0   \n",
       "\n",
       "   number_of_beds  number_of_baths  extra_space  fire_place  \n",
       "0               2                3            0           0  \n",
       "1               5                8            1           1  \n",
       "2               3                4            0           1  \n",
       "3               4                4            1           0  \n",
       "4               5                4            0           1  "
      ]
     },
     "execution_count": 5,
     "metadata": {},
     "output_type": "execute_result"
    }
   ],
   "source": [
    "df2.head()"
   ]
  },
  {
   "cell_type": "code",
   "execution_count": 6,
   "id": "06fa5bf5",
   "metadata": {},
   "outputs": [],
   "source": [
    "df=df2[['number_of_beds','number_of_beds']]"
   ]
  },
  {
   "cell_type": "code",
   "execution_count": 9,
   "id": "2743422a",
   "metadata": {},
   "outputs": [
    {
     "data": {
      "text/html": [
       "<div>\n",
       "<style scoped>\n",
       "    .dataframe tbody tr th:only-of-type {\n",
       "        vertical-align: middle;\n",
       "    }\n",
       "\n",
       "    .dataframe tbody tr th {\n",
       "        vertical-align: top;\n",
       "    }\n",
       "\n",
       "    .dataframe thead th {\n",
       "        text-align: right;\n",
       "    }\n",
       "</style>\n",
       "<table border=\"1\" class=\"dataframe\">\n",
       "  <thead>\n",
       "    <tr style=\"text-align: right;\">\n",
       "      <th></th>\n",
       "      <th>number_of_beds</th>\n",
       "      <th>number_of_beds</th>\n",
       "    </tr>\n",
       "  </thead>\n",
       "  <tbody>\n",
       "    <tr>\n",
       "      <th>0</th>\n",
       "      <td>2</td>\n",
       "      <td>2</td>\n",
       "    </tr>\n",
       "    <tr>\n",
       "      <th>1</th>\n",
       "      <td>5</td>\n",
       "      <td>5</td>\n",
       "    </tr>\n",
       "    <tr>\n",
       "      <th>2</th>\n",
       "      <td>3</td>\n",
       "      <td>3</td>\n",
       "    </tr>\n",
       "    <tr>\n",
       "      <th>3</th>\n",
       "      <td>4</td>\n",
       "      <td>4</td>\n",
       "    </tr>\n",
       "    <tr>\n",
       "      <th>4</th>\n",
       "      <td>5</td>\n",
       "      <td>5</td>\n",
       "    </tr>\n",
       "    <tr>\n",
       "      <th>...</th>\n",
       "      <td>...</td>\n",
       "      <td>...</td>\n",
       "    </tr>\n",
       "    <tr>\n",
       "      <th>604</th>\n",
       "      <td>3</td>\n",
       "      <td>3</td>\n",
       "    </tr>\n",
       "    <tr>\n",
       "      <th>605</th>\n",
       "      <td>3</td>\n",
       "      <td>3</td>\n",
       "    </tr>\n",
       "    <tr>\n",
       "      <th>606</th>\n",
       "      <td>3</td>\n",
       "      <td>3</td>\n",
       "    </tr>\n",
       "    <tr>\n",
       "      <th>607</th>\n",
       "      <td>2</td>\n",
       "      <td>2</td>\n",
       "    </tr>\n",
       "    <tr>\n",
       "      <th>608</th>\n",
       "      <td>3</td>\n",
       "      <td>3</td>\n",
       "    </tr>\n",
       "  </tbody>\n",
       "</table>\n",
       "<p>609 rows × 2 columns</p>\n",
       "</div>"
      ],
      "text/plain": [
       "     number_of_beds  number_of_beds\n",
       "0                 2               2\n",
       "1                 5               5\n",
       "2                 3               3\n",
       "3                 4               4\n",
       "4                 5               5\n",
       "..              ...             ...\n",
       "604               3               3\n",
       "605               3               3\n",
       "606               3               3\n",
       "607               2               2\n",
       "608               3               3\n",
       "\n",
       "[609 rows x 2 columns]"
      ]
     },
     "execution_count": 9,
     "metadata": {},
     "output_type": "execute_result"
    }
   ],
   "source": [
    "df"
   ]
  },
  {
   "cell_type": "code",
   "execution_count": 18,
   "id": "9d474ea3",
   "metadata": {},
   "outputs": [],
   "source": [
    "y=df2['price']"
   ]
  },
  {
   "cell_type": "code",
   "execution_count": 20,
   "id": "e79a3a27",
   "metadata": {},
   "outputs": [
    {
     "data": {
      "text/plain": [
       "<AxesSubplot:xlabel='extra_space', ylabel='price'>"
      ]
     },
     "execution_count": 20,
     "metadata": {},
     "output_type": "execute_result"
    },
    {
     "data": {
      "image/png": "[encoded data removed]",
      "text/plain": [
       "<Figure size 432x288 with 1 Axes>"
      ]
     },
     "metadata": {
      "needs_background": "light"
     },
     "output_type": "display_data"
    }
   ],
   "source": [
    "sns.regplot(x=df2[['extra_space']],y=y)"
   ]
  },
  {
   "cell_type": "code",
   "execution_count": 21,
   "id": "1d1bf15f",
   "metadata": {},
   "outputs": [],
   "source": [
    "df_data_scaled = StandardScaler().fit_transform(df)"
   ]
  },
  {
   "cell_type": "code",
   "execution_count": 22,
   "id": "7dceebf8",
   "metadata": {},
   "outputs": [
    {
     "data": {
      "text/plain": [
       "array([[-1.52748142, -1.52748142],\n",
       "       [ 2.22851933,  2.22851933],\n",
       "       [-0.27548117, -0.27548117],\n",
       "       ...,\n",
       "       [-0.27548117, -0.27548117],\n",
       "       [-1.52748142, -1.52748142],\n",
       "       [-0.27548117, -0.27548117]])"
      ]
     },
     "execution_count": 22,
     "metadata": {},
     "output_type": "execute_result"
    }
   ],
   "source": [
    "df_data_scaled"
   ]
  },
  {
   "cell_type": "code",
   "execution_count": 24,
   "id": "31876093",
   "metadata": {},
   "outputs": [
    {
     "data": {
      "text/plain": [
       "Index(['number_of_beds', 'number_of_beds'], dtype='object')"
      ]
     },
     "execution_count": 24,
     "metadata": {},
     "output_type": "execute_result"
    }
   ],
   "source": [
    "df.columns"
   ]
  },
  {
   "cell_type": "code",
   "execution_count": 25,
   "id": "9ec45bfc",
   "metadata": {},
   "outputs": [
    {
     "data": {
      "text/html": [
       "<div>\n",
       "<style scoped>\n",
       "    .dataframe tbody tr th:only-of-type {\n",
       "        vertical-align: middle;\n",
       "    }\n",
       "\n",
       "    .dataframe tbody tr th {\n",
       "        vertical-align: top;\n",
       "    }\n",
       "\n",
       "    .dataframe thead th {\n",
       "        text-align: right;\n",
       "    }\n",
       "</style>\n",
       "<table border=\"1\" class=\"dataframe\">\n",
       "  <thead>\n",
       "    <tr style=\"text-align: right;\">\n",
       "      <th></th>\n",
       "      <th>number_of_beds</th>\n",
       "      <th>number_of_beds</th>\n",
       "    </tr>\n",
       "  </thead>\n",
       "  <tbody>\n",
       "    <tr>\n",
       "      <th>0</th>\n",
       "      <td>-1.527481</td>\n",
       "      <td>-1.527481</td>\n",
       "    </tr>\n",
       "    <tr>\n",
       "      <th>1</th>\n",
       "      <td>2.228519</td>\n",
       "      <td>2.228519</td>\n",
       "    </tr>\n",
       "    <tr>\n",
       "      <th>2</th>\n",
       "      <td>-0.275481</td>\n",
       "      <td>-0.275481</td>\n",
       "    </tr>\n",
       "    <tr>\n",
       "      <th>3</th>\n",
       "      <td>0.976519</td>\n",
       "      <td>0.976519</td>\n",
       "    </tr>\n",
       "    <tr>\n",
       "      <th>4</th>\n",
       "      <td>2.228519</td>\n",
       "      <td>2.228519</td>\n",
       "    </tr>\n",
       "    <tr>\n",
       "      <th>...</th>\n",
       "      <td>...</td>\n",
       "      <td>...</td>\n",
       "    </tr>\n",
       "    <tr>\n",
       "      <th>604</th>\n",
       "      <td>-0.275481</td>\n",
       "      <td>-0.275481</td>\n",
       "    </tr>\n",
       "    <tr>\n",
       "      <th>605</th>\n",
       "      <td>-0.275481</td>\n",
       "      <td>-0.275481</td>\n",
       "    </tr>\n",
       "    <tr>\n",
       "      <th>606</th>\n",
       "      <td>-0.275481</td>\n",
       "      <td>-0.275481</td>\n",
       "    </tr>\n",
       "    <tr>\n",
       "      <th>607</th>\n",
       "      <td>-1.527481</td>\n",
       "      <td>-1.527481</td>\n",
       "    </tr>\n",
       "    <tr>\n",
       "      <th>608</th>\n",
       "      <td>-0.275481</td>\n",
       "      <td>-0.275481</td>\n",
       "    </tr>\n",
       "  </tbody>\n",
       "</table>\n",
       "<p>609 rows × 2 columns</p>\n",
       "</div>"
      ],
      "text/plain": [
       "     number_of_beds  number_of_beds\n",
       "0         -1.527481       -1.527481\n",
       "1          2.228519        2.228519\n",
       "2         -0.275481       -0.275481\n",
       "3          0.976519        0.976519\n",
       "4          2.228519        2.228519\n",
       "..              ...             ...\n",
       "604       -0.275481       -0.275481\n",
       "605       -0.275481       -0.275481\n",
       "606       -0.275481       -0.275481\n",
       "607       -1.527481       -1.527481\n",
       "608       -0.275481       -0.275481\n",
       "\n",
       "[609 rows x 2 columns]"
      ]
     },
     "execution_count": 25,
     "metadata": {},
     "output_type": "execute_result"
    }
   ],
   "source": [
    "df_data_scaled_transformed=pd.DataFrame(df_data_scaled,columns=df.columns)\n",
    "df_data_scaled_transformed"
   ]
  },
  {
   "cell_type": "code",
   "execution_count": 27,
   "id": "02ad534e",
   "metadata": {},
   "outputs": [],
   "source": [
    "X=df_data_scaled_transformed\n",
    "y=df2['price']"
   ]
  },
  {
   "cell_type": "code",
   "execution_count": 28,
   "id": "ee255761",
   "metadata": {},
   "outputs": [],
   "source": [
    "X_train, X_test, y_train, y_test = train_test_split(X, \n",
    "                                                    y, \n",
    "                                                    random_state=1)"
   ]
  },
  {
   "cell_type": "code",
   "execution_count": 29,
   "id": "9fd3979d",
   "metadata": {},
   "outputs": [],
   "source": [
    "model1 = LinearRegression()"
   ]
  },
  {
   "cell_type": "code",
   "execution_count": 30,
   "id": "b17d469c",
   "metadata": {
    "scrolled": true
   },
   "outputs": [
    {
     "data": {
      "text/plain": [
       "LinearRegression()"
      ]
     },
     "execution_count": 30,
     "metadata": {},
     "output_type": "execute_result"
    }
   ],
   "source": [
    "model1.fit(X_train,y_train)"
   ]
  },
  {
   "cell_type": "code",
   "execution_count": 31,
   "id": "4a84a29c",
   "metadata": {},
   "outputs": [
    {
     "data": {
      "text/plain": [
       "LinearRegression()"
      ]
     },
     "execution_count": 31,
     "metadata": {},
     "output_type": "execute_result"
    }
   ],
   "source": [
    "LinearRegression() "
   ]
  },
  {
   "cell_type": "code",
   "execution_count": 32,
   "id": "9ed0acf9",
   "metadata": {},
   "outputs": [],
   "source": [
    "y_predict=model1.predict(X_test)"
   ]
  },
  {
   "cell_type": "code",
   "execution_count": 33,
   "id": "6a7e9cc1",
   "metadata": {
    "scrolled": true
   },
   "outputs": [
    {
     "data": {
      "text/plain": [
       "array([1348056.29551521, 1005081.55982772, 1005081.55982772,\n",
       "       1005081.55982772, 1348056.29551521, 1005081.55982772,\n",
       "       1005081.55982772, 1348056.29551521,  319132.08845274,\n",
       "       1005081.55982772, 1005081.55982772,  662106.82414023,\n",
       "        662106.82414023, 1348056.29551521, 1005081.55982772,\n",
       "       1348056.29551521, 1005081.55982772, 1348056.29551521,\n",
       "       1691031.0312027 , 1348056.29551521, 1005081.55982772,\n",
       "       1348056.29551521, 1005081.55982772, 1348056.29551521,\n",
       "        662106.82414023, 1005081.55982772, 1348056.29551521,\n",
       "       1005081.55982772, 1005081.55982772, 1348056.29551521,\n",
       "       1005081.55982772, 1348056.29551521, 1005081.55982772,\n",
       "       1005081.55982772, 1005081.55982772, 1691031.0312027 ,\n",
       "       1005081.55982772, 1005081.55982772, 1005081.55982772,\n",
       "       1005081.55982772, 1005081.55982772,  662106.82414023,\n",
       "        662106.82414023, 1348056.29551521,  662106.82414023,\n",
       "       1005081.55982772, 1348056.29551521, 1005081.55982772,\n",
       "       1348056.29551521,  662106.82414023, 1005081.55982772,\n",
       "       1005081.55982772, 1005081.55982772, 1005081.55982772,\n",
       "       1005081.55982772, 1005081.55982772, 1348056.29551521,\n",
       "       1005081.55982772,  662106.82414023, 1348056.29551521,\n",
       "       1348056.29551521, 1005081.55982772, 1005081.55982772,\n",
       "       1691031.0312027 ,  662106.82414023, 1348056.29551521,\n",
       "       1348056.29551521, 1005081.55982772, 1005081.55982772,\n",
       "       1005081.55982772, 1005081.55982772, 1348056.29551521,\n",
       "       1005081.55982772, 1005081.55982772, 1348056.29551521,\n",
       "       1348056.29551521, 1005081.55982772,  662106.82414023,\n",
       "        662106.82414023, 1005081.55982772, 1005081.55982772,\n",
       "       1348056.29551521,  662106.82414023,  662106.82414023,\n",
       "       1005081.55982772, 1005081.55982772,  662106.82414023,\n",
       "       1005081.55982772,  662106.82414023, 1348056.29551521,\n",
       "       1348056.29551521, 1005081.55982772, 1005081.55982772,\n",
       "       1348056.29551521, 1348056.29551521,  662106.82414023,\n",
       "       1005081.55982772, 1005081.55982772, 1005081.55982772,\n",
       "        662106.82414023, 1005081.55982772, 1348056.29551521,\n",
       "       1691031.0312027 , 1348056.29551521, 1348056.29551521,\n",
       "       1005081.55982772, 1005081.55982772, 1005081.55982772,\n",
       "       1691031.0312027 , 1348056.29551521, 1005081.55982772,\n",
       "       1005081.55982772, 1005081.55982772, 1005081.55982772,\n",
       "       1005081.55982772, 1348056.29551521, 1005081.55982772,\n",
       "       1005081.55982772, 1348056.29551521, 1005081.55982772,\n",
       "       1005081.55982772, 1005081.55982772, 1348056.29551521,\n",
       "       1005081.55982772, 1005081.55982772, 1005081.55982772,\n",
       "       1005081.55982772,  662106.82414023, 1005081.55982772,\n",
       "       1005081.55982772, 1005081.55982772, 1005081.55982772,\n",
       "       1348056.29551521, 1691031.0312027 ,  662106.82414023,\n",
       "       1348056.29551521, 1348056.29551521, 1348056.29551521,\n",
       "        662106.82414023, 1005081.55982772,  662106.82414023,\n",
       "        662106.82414023, 1005081.55982772, 1005081.55982772,\n",
       "       1348056.29551521, 1348056.29551521,  662106.82414023,\n",
       "        662106.82414023, 1005081.55982772, 1005081.55982772,\n",
       "       1005081.55982772, 1005081.55982772, 1005081.55982772])"
      ]
     },
     "execution_count": 33,
     "metadata": {},
     "output_type": "execute_result"
    }
   ],
   "source": [
    "y_predict"
   ]
  },
  {
   "cell_type": "code",
   "execution_count": 34,
   "id": "15acc99b",
   "metadata": {},
   "outputs": [],
   "source": [
    "score = model1.score(X_test, y_test,sample_weight=None)"
   ]
  },
  {
   "cell_type": "code",
   "execution_count": 35,
   "id": "d4137ba5",
   "metadata": {
    "scrolled": true
   },
   "outputs": [
    {
     "data": {
      "text/plain": [
       "0.13093018524309952"
      ]
     },
     "execution_count": 35,
     "metadata": {},
     "output_type": "execute_result"
    }
   ],
   "source": [
    "score"
   ]
  },
  {
   "cell_type": "code",
   "execution_count": 36,
   "id": "c9fc1a7d",
   "metadata": {},
   "outputs": [],
   "source": [
    "r2 = r2_score(y_test, y_predict)"
   ]
  },
  {
   "cell_type": "code",
   "execution_count": 37,
   "id": "be694a7a",
   "metadata": {},
   "outputs": [
    {
     "data": {
      "text/plain": [
       "0.13093018524309952"
      ]
     },
     "execution_count": 37,
     "metadata": {},
     "output_type": "execute_result"
    }
   ],
   "source": [
    "r2"
   ]
  }
 ],
 "metadata": {
  "kernelspec": {
   "display_name": "Python 3 (ipykernel)",
   "language": "python",
   "name": "python3"
  },
  "language_info": {
   "codemirror_mode": {
    "name": "ipython",
    "version": 3
   },
   "file_extension": ".py",
   "mimetype": "text/x-python",
   "name": "python",
   "nbconvert_exporter": "python",
   "pygments_lexer": "ipython3",
   "version": "3.9.12"
  }
 },
 "nbformat": 4,
 "nbformat_minor": 5
}
