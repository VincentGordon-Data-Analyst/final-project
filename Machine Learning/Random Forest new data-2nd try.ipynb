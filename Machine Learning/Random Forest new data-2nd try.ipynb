{
 "cells": [
  {
   "cell_type": "code",
   "execution_count": null,
   "id": "c301f1c9",
   "metadata": {},
   "outputs": [],
   "source": [
    "# Initial imports\n",
    "import pandas as pd\n",
    "from pathlib import Path\n",
    "import seaborn as sns\n",
    "from sklearn.preprocessing import StandardScaler\n",
    "from sklearn.model_selection import train_test_split, GridSearchCV, RandomizedSearchCV\n",
    "from sklearn.metrics import confusion_matrix, accuracy_score, classification_report, r2_score\n",
    "from sklearn.ensemble import RandomForestRegressor\n",
    "import matplotlib.pyplot as plt"
   ]
  },
  {
   "cell_type": "markdown",
   "id": "3d2f940c",
   "metadata": {},
   "source": [
    "### Step 1: Read the data from the `Resources` folder into a Pandas DataFrame."
   ]
  },
  {
   "cell_type": "code",
   "execution_count": null,
   "id": "ee4f2ca5",
   "metadata": {},
   "outputs": [],
   "source": [
    "# Read the CSV file from the Resources folder into a Pandas DataFrame\n",
    "# YOUR CODE HERE!\n",
    "df = pd.read_csv(\"../Resources/housing.csv\")\n",
    "# Review the DataFrame\n",
    "# YOUR CODE HERE!\n",
    "df = df.fillna(0)\n",
    "df.head()"
   ]
  },
  {
   "cell_type": "code",
   "execution_count": null,
   "id": "c17c89d8",
   "metadata": {
    "scrolled": true
   },
   "outputs": [],
   "source": [
    "# Look at correlation matrix\n",
    "print(df.corr())"
   ]
  },
  {
   "cell_type": "code",
   "execution_count": null,
   "id": "05e1e5b4",
   "metadata": {},
   "outputs": [],
   "source": [
    "# Plot matrix\n",
    "plt.figure(figsize=(20, 15))\n",
    "correlations = df.corr()\n",
    "sns.heatmap(correlations, cmap=\"coolwarm\", annot=True)\n",
    "plt.show()"
   ]
  },
  {
   "cell_type": "code",
   "execution_count": null,
   "id": "3ce2fc46",
   "metadata": {
    "scrolled": true
   },
   "outputs": [],
   "source": [
    "df_encoded = pd.get_dummies(df, columns=['ocean_proximity'])\n",
    "df_encoded.head()"
   ]
  },
  {
   "cell_type": "code",
   "execution_count": null,
   "id": "f7a568e5",
   "metadata": {
    "scrolled": true
   },
   "outputs": [],
   "source": [
    "print(df.dtypes)"
   ]
  },
  {
   "cell_type": "code",
   "execution_count": null,
   "id": "8da437f8",
   "metadata": {},
   "outputs": [],
   "source": [
    "# Define features set\n",
    "data_x = df_encoded.drop(['median_house_value', 'latitude', 'longitude'], axis =1)\n",
    "y = df['median_house_value'].values.reshape(-1, 1)\n",
    "X = data_x"
   ]
  },
  {
   "cell_type": "code",
   "execution_count": null,
   "id": "81a028d0",
   "metadata": {},
   "outputs": [],
   "source": [
    "# Splitting into Train and Test sets\n",
    "X_train, X_test, y_train, y_test = train_test_split(X, y, random_state=78)"
   ]
  },
  {
   "cell_type": "code",
   "execution_count": null,
   "id": "65ed3cf7",
   "metadata": {},
   "outputs": [],
   "source": [
    "# Create the StandardScaler instance\n",
    "scaler = StandardScaler()"
   ]
  },
  {
   "cell_type": "code",
   "execution_count": null,
   "id": "eb3fdede",
   "metadata": {},
   "outputs": [],
   "source": [
    "# Fit the Standard Scaler with the training data\n",
    "X_scaler = scaler.fit(X_train)"
   ]
  },
  {
   "cell_type": "code",
   "execution_count": null,
   "id": "5bb83854",
   "metadata": {},
   "outputs": [],
   "source": [
    "# Scale the training data\n",
    "X_train_scaled = X_scaler.transform(X_train)\n",
    "X_test_scaled = X_scaler.transform(X_test)"
   ]
  },
  {
   "cell_type": "code",
   "execution_count": null,
   "id": "77b8ecdb",
   "metadata": {},
   "outputs": [],
   "source": [
    "n_estimators = [20, 50, 100, 200, 300, 400, 500]\n",
    "accuracy = []\n",
    "for n in n_estimators:\n",
    "    rf_model = RandomForestRegressor(n_estimators=n, random_state=78)\n",
    "    rf_model = rf_model.fit(X_train_scaled, y_train.ravel())\n",
    "    predictions = rf_model.predict(X_test_scaled)\n",
    "    acc = rf_model.score(X_test_scaled, y_test)\n",
    "    accuracy.append(acc)"
   ]
  },
  {
   "cell_type": "code",
   "execution_count": null,
   "id": "5727a623",
   "metadata": {},
   "outputs": [],
   "source": [
    "print(accuracy)"
   ]
  },
  {
   "cell_type": "code",
   "execution_count": null,
   "id": "e022b0d4",
   "metadata": {},
   "outputs": [],
   "source": [
    "n_estimators = [400,425,450,475,500]\n",
    "accuracy = []\n",
    "for n in n_estimators:\n",
    "    rf_model = RandomForestRegressor(n_estimators=n, random_state=78)\n",
    "    rf_model = rf_model.fit(X_train_scaled, y_train.ravel())\n",
    "    predictions = rf_model.predict(X_test_scaled)\n",
    "    acc = rf_model.score(X_test_scaled, y_test)\n",
    "    accuracy.append(acc)"
   ]
  },
  {
   "cell_type": "code",
   "execution_count": null,
   "id": "a7c14f2f",
   "metadata": {},
   "outputs": [],
   "source": [
    "print(accuracy)"
   ]
  },
  {
   "cell_type": "code",
   "execution_count": null,
   "id": "0141f146",
   "metadata": {},
   "outputs": [],
   "source": [
    "param_grid = {'n_estimators': [400, 410],\n",
    "              'max_depth': [10, 20, 30, 40],\n",
    "              'min_samples_split': [2, 5, 10],\n",
    "              'min_samples_leaf': [1, 2, 4],\n",
    "              'bootstrap': [True, False]}\n",
    "rf = RandomForestRegressor()"
   ]
  },
  {
   "cell_type": "code",
   "execution_count": null,
   "id": "423606fa",
   "metadata": {},
   "outputs": [],
   "source": [
    "grid_search = GridSearchCV(rf, param_grid=param_grid, cv=5)\n",
    "grid_search.fit(X_train, y_train.ravel())\n",
    "print(\"Best hyperparameters:\", grid_search.best_params_)\n",
    "print(\"Best score:\", grid_search.best_score_)"
   ]
  },
  {
   "cell_type": "code",
   "execution_count": null,
   "id": "390997ea",
   "metadata": {},
   "outputs": [],
   "source": [
    "# Create the random forest regressor instance\n",
    "rf_model = RandomForestRegressor(n_estimators=400, random_state=78)\n",
    "# Fit the model and use .ravel()on the \"y_train\" data. \n",
    "rf_model = rf_model.fit(X_train_scaled, y_train.ravel())\n",
    "# Making predictions using the testing data\n",
    "predictions = rf_model.predict(X_test_scaled)\n",
    "# Calculating the accuracy score\n",
    "accuracy = rf_model.score(X_test_scaled, y_test)\n",
    "print(\"Accuracy:\", accuracy)"
   ]
  },
  {
   "cell_type": "code",
   "execution_count": null,
   "id": "3b9104e9",
   "metadata": {},
   "outputs": [],
   "source": [
    "plt.plot(y_test, predictions, \"o\")\n",
    "plt.plot(y_test, y_test, \"--\")\n",
    "plt.xlabel(\"True Values\")\n",
    "plt.ylabel(\"Predictions\")\n",
    "plt.title(\"Accuracy: %.2f\" % accuracy)\n",
    "plt.show()"
   ]
  },
  {
   "cell_type": "code",
   "execution_count": null,
   "id": "1f3c27ba",
   "metadata": {},
   "outputs": [],
   "source": []
  }
 ],
 "metadata": {
  "kernelspec": {
   "display_name": "Python 3 (ipykernel)",
   "language": "python",
   "name": "python3"
  },
  "language_info": {
   "codemirror_mode": {
    "name": "ipython",
    "version": 3
   },
   "file_extension": ".py",
   "mimetype": "text/x-python",
   "name": "python",
   "nbconvert_exporter": "python",
   "pygments_lexer": "ipython3",
   "version": "3.9.13"
  }
 },
 "nbformat": 4,
 "nbformat_minor": 5
}
