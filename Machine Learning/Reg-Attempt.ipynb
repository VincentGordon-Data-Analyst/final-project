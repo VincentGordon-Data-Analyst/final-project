{
 "cells": [
  {
   "cell_type": "code",
   "execution_count": 1,
   "id": "63e5ee87",
   "metadata": {},
   "outputs": [],
   "source": [
    "import pandas as pd\n",
    "import matplotlib.pyplot as plt\n",
    "import seaborn as sns"
   ]
  },
  {
   "cell_type": "code",
   "execution_count": 4,
   "id": "986aad53",
   "metadata": {},
   "outputs": [],
   "source": [
    "df=pd.read_csv(\"..\\Web Scraping\\predicting_house_price.csv\")"
   ]
  },
  {
   "cell_type": "code",
   "execution_count": 5,
   "id": "edd36067",
   "metadata": {},
   "outputs": [
    {
     "data": {
      "text/html": [
       "<div>\n",
       "<style scoped>\n",
       "    .dataframe tbody tr th:only-of-type {\n",
       "        vertical-align: middle;\n",
       "    }\n",
       "\n",
       "    .dataframe tbody tr th {\n",
       "        vertical-align: top;\n",
       "    }\n",
       "\n",
       "    .dataframe thead th {\n",
       "        text-align: right;\n",
       "    }\n",
       "</style>\n",
       "<table border=\"1\" class=\"dataframe\">\n",
       "  <thead>\n",
       "    <tr style=\"text-align: right;\">\n",
       "      <th></th>\n",
       "      <th>Unnamed: 0</th>\n",
       "      <th>street</th>\n",
       "      <th>city</th>\n",
       "      <th>province</th>\n",
       "      <th>postal_code</th>\n",
       "      <th>style</th>\n",
       "      <th>price</th>\n",
       "      <th>number_of_beds</th>\n",
       "      <th>number_of_baths</th>\n",
       "      <th>extra_space</th>\n",
       "    </tr>\n",
       "  </thead>\n",
       "  <tbody>\n",
       "    <tr>\n",
       "      <th>0</th>\n",
       "      <td>0</td>\n",
       "      <td>#903 -151 AVENUE RD</td>\n",
       "      <td>Toronto</td>\n",
       "      <td>Ontario</td>\n",
       "      <td>M5R 2H7</td>\n",
       "      <td>Apartment</td>\n",
       "      <td>1955000</td>\n",
       "      <td>2</td>\n",
       "      <td>2</td>\n",
       "      <td>1</td>\n",
       "    </tr>\n",
       "    <tr>\n",
       "      <th>1</th>\n",
       "      <td>1</td>\n",
       "      <td>7575 4TH LINE</td>\n",
       "      <td>Centre Wellington</td>\n",
       "      <td>Ontario</td>\n",
       "      <td>N0B 1S0</td>\n",
       "      <td>Detached</td>\n",
       "      <td>1799900</td>\n",
       "      <td>5</td>\n",
       "      <td>2</td>\n",
       "      <td>0</td>\n",
       "    </tr>\n",
       "    <tr>\n",
       "      <th>2</th>\n",
       "      <td>2</td>\n",
       "      <td>388A WHITMORE AVE</td>\n",
       "      <td>Toronto</td>\n",
       "      <td>Ontario</td>\n",
       "      <td>M6E 2N4</td>\n",
       "      <td>Triplex</td>\n",
       "      <td>1795000</td>\n",
       "      <td>4</td>\n",
       "      <td>2</td>\n",
       "      <td>1</td>\n",
       "    </tr>\n",
       "    <tr>\n",
       "      <th>3</th>\n",
       "      <td>3</td>\n",
       "      <td>332 DURIE ST</td>\n",
       "      <td>Toronto</td>\n",
       "      <td>Ontario</td>\n",
       "      <td>M6S 3G3</td>\n",
       "      <td>Detached</td>\n",
       "      <td>1699000</td>\n",
       "      <td>4</td>\n",
       "      <td>2</td>\n",
       "      <td>0</td>\n",
       "    </tr>\n",
       "    <tr>\n",
       "      <th>4</th>\n",
       "      <td>4</td>\n",
       "      <td>71 WALMSLEY BLVD</td>\n",
       "      <td>Toronto</td>\n",
       "      <td>Ontario</td>\n",
       "      <td>M4V 1X7</td>\n",
       "      <td>Duplex</td>\n",
       "      <td>1599000</td>\n",
       "      <td>3</td>\n",
       "      <td>2</td>\n",
       "      <td>0</td>\n",
       "    </tr>\n",
       "    <tr>\n",
       "      <th>...</th>\n",
       "      <td>...</td>\n",
       "      <td>...</td>\n",
       "      <td>...</td>\n",
       "      <td>...</td>\n",
       "      <td>...</td>\n",
       "      <td>...</td>\n",
       "      <td>...</td>\n",
       "      <td>...</td>\n",
       "      <td>...</td>\n",
       "      <td>...</td>\n",
       "    </tr>\n",
       "    <tr>\n",
       "      <th>609</th>\n",
       "      <td>612</td>\n",
       "      <td>153 PARK P PL</td>\n",
       "      <td>Peterborough</td>\n",
       "      <td>Ontario</td>\n",
       "      <td>K9J 3V8</td>\n",
       "      <td>Detached</td>\n",
       "      <td>529900</td>\n",
       "      <td>4</td>\n",
       "      <td>2</td>\n",
       "      <td>0</td>\n",
       "    </tr>\n",
       "    <tr>\n",
       "      <th>610</th>\n",
       "      <td>613</td>\n",
       "      <td>#205 -24 MARILYN DR</td>\n",
       "      <td>Guelph</td>\n",
       "      <td>Ontario</td>\n",
       "      <td>N1H 8E9</td>\n",
       "      <td>Apartment</td>\n",
       "      <td>529900</td>\n",
       "      <td>3</td>\n",
       "      <td>2</td>\n",
       "      <td>0</td>\n",
       "    </tr>\n",
       "    <tr>\n",
       "      <th>611</th>\n",
       "      <td>614</td>\n",
       "      <td>#720 -7711 GREEN VISTA GATE</td>\n",
       "      <td>Niagara Falls</td>\n",
       "      <td>Ontario</td>\n",
       "      <td>L2H 1R1</td>\n",
       "      <td>Apartment</td>\n",
       "      <td>529000</td>\n",
       "      <td>2</td>\n",
       "      <td>2</td>\n",
       "      <td>0</td>\n",
       "    </tr>\n",
       "    <tr>\n",
       "      <th>612</th>\n",
       "      <td>615</td>\n",
       "      <td>#718 -7711 GREEN VISTA GATE</td>\n",
       "      <td>Niagara Falls</td>\n",
       "      <td>Ontario</td>\n",
       "      <td>L2G 0Y9</td>\n",
       "      <td>Apartment</td>\n",
       "      <td>529000</td>\n",
       "      <td>2</td>\n",
       "      <td>2</td>\n",
       "      <td>0</td>\n",
       "    </tr>\n",
       "    <tr>\n",
       "      <th>613</th>\n",
       "      <td>616</td>\n",
       "      <td>557 ROMAINE Street</td>\n",
       "      <td>Peterborough</td>\n",
       "      <td>Ontario</td>\n",
       "      <td>K9J 2C8</td>\n",
       "      <td>Detached</td>\n",
       "      <td>525000</td>\n",
       "      <td>3</td>\n",
       "      <td>2</td>\n",
       "      <td>0</td>\n",
       "    </tr>\n",
       "  </tbody>\n",
       "</table>\n",
       "<p>614 rows × 10 columns</p>\n",
       "</div>"
      ],
      "text/plain": [
       "     Unnamed: 0                       street               city province  \\\n",
       "0             0          #903 -151 AVENUE RD            Toronto  Ontario   \n",
       "1             1                7575 4TH LINE  Centre Wellington  Ontario   \n",
       "2             2            388A WHITMORE AVE            Toronto  Ontario   \n",
       "3             3                 332 DURIE ST            Toronto  Ontario   \n",
       "4             4             71 WALMSLEY BLVD            Toronto  Ontario   \n",
       "..          ...                          ...                ...      ...   \n",
       "609         612                153 PARK P PL       Peterborough  Ontario   \n",
       "610         613          #205 -24 MARILYN DR             Guelph  Ontario   \n",
       "611         614  #720 -7711 GREEN VISTA GATE      Niagara Falls  Ontario   \n",
       "612         615  #718 -7711 GREEN VISTA GATE      Niagara Falls  Ontario   \n",
       "613         616           557 ROMAINE Street       Peterborough  Ontario   \n",
       "\n",
       "    postal_code      style    price  number_of_beds  number_of_baths  \\\n",
       "0       M5R 2H7  Apartment  1955000               2                2   \n",
       "1       N0B 1S0   Detached  1799900               5                2   \n",
       "2       M6E 2N4    Triplex  1795000               4                2   \n",
       "3       M6S 3G3   Detached  1699000               4                2   \n",
       "4       M4V 1X7     Duplex  1599000               3                2   \n",
       "..          ...        ...      ...             ...              ...   \n",
       "609     K9J 3V8   Detached   529900               4                2   \n",
       "610     N1H 8E9  Apartment   529900               3                2   \n",
       "611     L2H 1R1  Apartment   529000               2                2   \n",
       "612     L2G 0Y9  Apartment   529000               2                2   \n",
       "613     K9J 2C8   Detached   525000               3                2   \n",
       "\n",
       "     extra_space  \n",
       "0              1  \n",
       "1              0  \n",
       "2              1  \n",
       "3              0  \n",
       "4              0  \n",
       "..           ...  \n",
       "609            0  \n",
       "610            0  \n",
       "611            0  \n",
       "612            0  \n",
       "613            0  \n",
       "\n",
       "[614 rows x 10 columns]"
      ]
     },
     "execution_count": 5,
     "metadata": {},
     "output_type": "execute_result"
    }
   ],
   "source": [
    "df"
   ]
  },
  {
   "cell_type": "code",
   "execution_count": 6,
   "id": "66ce8b72",
   "metadata": {},
   "outputs": [
    {
     "data": {
      "text/plain": [
       "Index(['Unnamed: 0', 'street', 'city', 'province', 'postal_code', 'style',\n",
       "       'price', 'number_of_beds', 'number_of_baths', 'extra_space'],\n",
       "      dtype='object')"
      ]
     },
     "execution_count": 6,
     "metadata": {},
     "output_type": "execute_result"
    }
   ],
   "source": [
    "df.columns"
   ]
  },
  {
   "cell_type": "code",
   "execution_count": 7,
   "id": "9b5ad361",
   "metadata": {},
   "outputs": [
    {
     "data": {
      "text/plain": [
       "<AxesSubplot:>"
      ]
     },
     "execution_count": 7,
     "metadata": {},
     "output_type": "execute_result"
    },
    {
     "data": {
      "image/png": "[encoded data removed]",
      "text/plain": [
       "<Figure size 432x288 with 2 Axes>"
      ]
     },
     "metadata": {
      "needs_background": "light"
     },
     "output_type": "display_data"
    }
   ],
   "source": [
    "sns.heatmap(df.corr())"
   ]
  },
  {
   "cell_type": "code",
   "execution_count": 9,
   "id": "da61fcb7",
   "metadata": {},
   "outputs": [
    {
     "data": {
      "text/plain": [
       "<AxesSubplot:xlabel='number_of_baths', ylabel='price'>"
      ]
     },
     "execution_count": 9,
     "metadata": {},
     "output_type": "execute_result"
    },
    {
     "data": {
      "image/png": "[encoded data removed]",
      "text/plain": [
       "<Figure size 432x288 with 1 Axes>"
      ]
     },
     "metadata": {
      "needs_background": "light"
     },
     "output_type": "display_data"
    }
   ],
   "source": [
    "sns.regplot(x='number_of_baths',y='price',data=df)"
   ]
  },
  {
   "cell_type": "code",
   "execution_count": 10,
   "id": "42fd487a",
   "metadata": {},
   "outputs": [
    {
     "data": {
      "text/plain": [
       "<AxesSubplot:xlabel='number_of_beds', ylabel='price'>"
      ]
     },
     "execution_count": 10,
     "metadata": {},
     "output_type": "execute_result"
    },
    {
     "data": {
      "image/png": "[encoded data removed]",
      "text/plain": [
       "<Figure size 432x288 with 1 Axes>"
      ]
     },
     "metadata": {
      "needs_background": "light"
     },
     "output_type": "display_data"
    }
   ],
   "source": [
    "sns.regplot(x='number_of_beds',y='price',data=df)"
   ]
  },
  {
   "cell_type": "code",
   "execution_count": 11,
   "id": "8c6bb399",
   "metadata": {},
   "outputs": [
    {
     "data": {
      "text/plain": [
       "<AxesSubplot:xlabel='extra_space', ylabel='price'>"
      ]
     },
     "execution_count": 11,
     "metadata": {},
     "output_type": "execute_result"
    },
    {
     "data": {
      "image/png": "[encoded data removed]",
      "text/plain": [
       "<Figure size 432x288 with 1 Axes>"
      ]
     },
     "metadata": {
      "needs_background": "light"
     },
     "output_type": "display_data"
    }
   ],
   "source": [
    "sns.regplot(x='extra_space',y='price',data=df)"
   ]
  },
  {
   "cell_type": "markdown",
   "id": "e8d65b67",
   "metadata": {},
   "source": [
    "# concolusion:  The reg model is bad for this study"
   ]
  }
 ],
 "metadata": {
  "kernelspec": {
   "display_name": "Python 3 (ipykernel)",
   "language": "python",
   "name": "python3"
  },
  "language_info": {
   "codemirror_mode": {
    "name": "ipython",
    "version": 3
   },
   "file_extension": ".py",
   "mimetype": "text/x-python",
   "name": "python",
   "nbconvert_exporter": "python",
   "pygments_lexer": "ipython3",
   "version": "3.9.12"
  }
 },
 "nbformat": 4,
 "nbformat_minor": 5
}
