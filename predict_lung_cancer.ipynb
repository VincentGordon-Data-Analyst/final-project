{
 "cells": [
  {
   "cell_type": "code",
   "execution_count": 69,
   "metadata": {},
   "outputs": [],
   "source": [
    "import pandas as pd\n",
    "import matplotlib.pyplot as plt\n",
    "from sklearn.model_selection import train_test_split\n",
    "from sklearn.preprocessing import StandardScaler\n",
    "from sklearn.metrics import accuracy_score\n",
    "\n",
    "import tensorflow as tf"
   ]
  },
  {
   "cell_type": "code",
   "execution_count": 70,
   "metadata": {},
   "outputs": [],
   "source": [
    "lung_cancer_df = pd.read_csv('./Resources/lung_cancer.csv')"
   ]
  },
  {
   "cell_type": "code",
   "execution_count": 71,
   "metadata": {},
   "outputs": [
    {
     "data": {
      "text/html": [
       "<div>\n",
       "<style scoped>\n",
       "    .dataframe tbody tr th:only-of-type {\n",
       "        vertical-align: middle;\n",
       "    }\n",
       "\n",
       "    .dataframe tbody tr th {\n",
       "        vertical-align: top;\n",
       "    }\n",
       "\n",
       "    .dataframe thead th {\n",
       "        text-align: right;\n",
       "    }\n",
       "</style>\n",
       "<table border=\"1\" class=\"dataframe\">\n",
       "  <thead>\n",
       "    <tr style=\"text-align: right;\">\n",
       "      <th></th>\n",
       "      <th>index</th>\n",
       "      <th>Patient Id</th>\n",
       "      <th>Age</th>\n",
       "      <th>Gender</th>\n",
       "      <th>Air Pollution</th>\n",
       "      <th>Alcohol use</th>\n",
       "      <th>Dust Allergy</th>\n",
       "      <th>OccuPational Hazards</th>\n",
       "      <th>Genetic Risk</th>\n",
       "      <th>chronic Lung Disease</th>\n",
       "      <th>...</th>\n",
       "      <th>Fatigue</th>\n",
       "      <th>Weight Loss</th>\n",
       "      <th>Shortness of Breath</th>\n",
       "      <th>Wheezing</th>\n",
       "      <th>Swallowing Difficulty</th>\n",
       "      <th>Clubbing of Finger Nails</th>\n",
       "      <th>Frequent Cold</th>\n",
       "      <th>Dry Cough</th>\n",
       "      <th>Snoring</th>\n",
       "      <th>Level</th>\n",
       "    </tr>\n",
       "  </thead>\n",
       "  <tbody>\n",
       "    <tr>\n",
       "      <th>0</th>\n",
       "      <td>0</td>\n",
       "      <td>P1</td>\n",
       "      <td>33</td>\n",
       "      <td>1</td>\n",
       "      <td>2</td>\n",
       "      <td>4</td>\n",
       "      <td>5</td>\n",
       "      <td>4</td>\n",
       "      <td>3</td>\n",
       "      <td>2</td>\n",
       "      <td>...</td>\n",
       "      <td>3</td>\n",
       "      <td>4</td>\n",
       "      <td>2</td>\n",
       "      <td>2</td>\n",
       "      <td>3</td>\n",
       "      <td>1</td>\n",
       "      <td>2</td>\n",
       "      <td>3</td>\n",
       "      <td>4</td>\n",
       "      <td>Low</td>\n",
       "    </tr>\n",
       "    <tr>\n",
       "      <th>1</th>\n",
       "      <td>1</td>\n",
       "      <td>P10</td>\n",
       "      <td>17</td>\n",
       "      <td>1</td>\n",
       "      <td>3</td>\n",
       "      <td>1</td>\n",
       "      <td>5</td>\n",
       "      <td>3</td>\n",
       "      <td>4</td>\n",
       "      <td>2</td>\n",
       "      <td>...</td>\n",
       "      <td>1</td>\n",
       "      <td>3</td>\n",
       "      <td>7</td>\n",
       "      <td>8</td>\n",
       "      <td>6</td>\n",
       "      <td>2</td>\n",
       "      <td>1</td>\n",
       "      <td>7</td>\n",
       "      <td>2</td>\n",
       "      <td>Medium</td>\n",
       "    </tr>\n",
       "    <tr>\n",
       "      <th>2</th>\n",
       "      <td>2</td>\n",
       "      <td>P100</td>\n",
       "      <td>35</td>\n",
       "      <td>1</td>\n",
       "      <td>4</td>\n",
       "      <td>5</td>\n",
       "      <td>6</td>\n",
       "      <td>5</td>\n",
       "      <td>5</td>\n",
       "      <td>4</td>\n",
       "      <td>...</td>\n",
       "      <td>8</td>\n",
       "      <td>7</td>\n",
       "      <td>9</td>\n",
       "      <td>2</td>\n",
       "      <td>1</td>\n",
       "      <td>4</td>\n",
       "      <td>6</td>\n",
       "      <td>7</td>\n",
       "      <td>2</td>\n",
       "      <td>High</td>\n",
       "    </tr>\n",
       "    <tr>\n",
       "      <th>3</th>\n",
       "      <td>3</td>\n",
       "      <td>P1000</td>\n",
       "      <td>37</td>\n",
       "      <td>1</td>\n",
       "      <td>7</td>\n",
       "      <td>7</td>\n",
       "      <td>7</td>\n",
       "      <td>7</td>\n",
       "      <td>6</td>\n",
       "      <td>7</td>\n",
       "      <td>...</td>\n",
       "      <td>4</td>\n",
       "      <td>2</td>\n",
       "      <td>3</td>\n",
       "      <td>1</td>\n",
       "      <td>4</td>\n",
       "      <td>5</td>\n",
       "      <td>6</td>\n",
       "      <td>7</td>\n",
       "      <td>5</td>\n",
       "      <td>High</td>\n",
       "    </tr>\n",
       "    <tr>\n",
       "      <th>4</th>\n",
       "      <td>4</td>\n",
       "      <td>P101</td>\n",
       "      <td>46</td>\n",
       "      <td>1</td>\n",
       "      <td>6</td>\n",
       "      <td>8</td>\n",
       "      <td>7</td>\n",
       "      <td>7</td>\n",
       "      <td>7</td>\n",
       "      <td>6</td>\n",
       "      <td>...</td>\n",
       "      <td>3</td>\n",
       "      <td>2</td>\n",
       "      <td>4</td>\n",
       "      <td>1</td>\n",
       "      <td>4</td>\n",
       "      <td>2</td>\n",
       "      <td>4</td>\n",
       "      <td>2</td>\n",
       "      <td>3</td>\n",
       "      <td>High</td>\n",
       "    </tr>\n",
       "  </tbody>\n",
       "</table>\n",
       "<p>5 rows × 26 columns</p>\n",
       "</div>"
      ],
      "text/plain": [
       "   index Patient Id  Age  Gender  Air Pollution  Alcohol use  Dust Allergy  \\\n",
       "0      0         P1   33       1              2            4             5   \n",
       "1      1        P10   17       1              3            1             5   \n",
       "2      2       P100   35       1              4            5             6   \n",
       "3      3      P1000   37       1              7            7             7   \n",
       "4      4       P101   46       1              6            8             7   \n",
       "\n",
       "   OccuPational Hazards  Genetic Risk  chronic Lung Disease  ...  Fatigue  \\\n",
       "0                     4             3                     2  ...        3   \n",
       "1                     3             4                     2  ...        1   \n",
       "2                     5             5                     4  ...        8   \n",
       "3                     7             6                     7  ...        4   \n",
       "4                     7             7                     6  ...        3   \n",
       "\n",
       "   Weight Loss  Shortness of Breath  Wheezing  Swallowing Difficulty  \\\n",
       "0            4                    2         2                      3   \n",
       "1            3                    7         8                      6   \n",
       "2            7                    9         2                      1   \n",
       "3            2                    3         1                      4   \n",
       "4            2                    4         1                      4   \n",
       "\n",
       "   Clubbing of Finger Nails  Frequent Cold  Dry Cough  Snoring   Level  \n",
       "0                         1              2          3        4     Low  \n",
       "1                         2              1          7        2  Medium  \n",
       "2                         4              6          7        2    High  \n",
       "3                         5              6          7        5    High  \n",
       "4                         2              4          2        3    High  \n",
       "\n",
       "[5 rows x 26 columns]"
      ]
     },
     "execution_count": 71,
     "metadata": {},
     "output_type": "execute_result"
    }
   ],
   "source": [
    "lung_cancer_df.head()"
   ]
  },
  {
   "cell_type": "code",
   "execution_count": 72,
   "metadata": {},
   "outputs": [
    {
     "name": "stdout",
     "output_type": "stream",
     "text": [
      "<class 'pandas.core.frame.DataFrame'>\n",
      "RangeIndex: 1000 entries, 0 to 999\n",
      "Data columns (total 26 columns):\n",
      " #   Column                    Non-Null Count  Dtype \n",
      "---  ------                    --------------  ----- \n",
      " 0   index                     1000 non-null   int64 \n",
      " 1   Patient Id                1000 non-null   object\n",
      " 2   Age                       1000 non-null   int64 \n",
      " 3   Gender                    1000 non-null   int64 \n",
      " 4   Air Pollution             1000 non-null   int64 \n",
      " 5   Alcohol use               1000 non-null   int64 \n",
      " 6   Dust Allergy              1000 non-null   int64 \n",
      " 7   OccuPational Hazards      1000 non-null   int64 \n",
      " 8   Genetic Risk              1000 non-null   int64 \n",
      " 9   chronic Lung Disease      1000 non-null   int64 \n",
      " 10  Balanced Diet             1000 non-null   int64 \n",
      " 11  Obesity                   1000 non-null   int64 \n",
      " 12  Smoking                   1000 non-null   int64 \n",
      " 13  Passive Smoker            1000 non-null   int64 \n",
      " 14  Chest Pain                1000 non-null   int64 \n",
      " 15  Coughing of Blood         1000 non-null   int64 \n",
      " 16  Fatigue                   1000 non-null   int64 \n",
      " 17  Weight Loss               1000 non-null   int64 \n",
      " 18  Shortness of Breath       1000 non-null   int64 \n",
      " 19  Wheezing                  1000 non-null   int64 \n",
      " 20  Swallowing Difficulty     1000 non-null   int64 \n",
      " 21  Clubbing of Finger Nails  1000 non-null   int64 \n",
      " 22  Frequent Cold             1000 non-null   int64 \n",
      " 23  Dry Cough                 1000 non-null   int64 \n",
      " 24  Snoring                   1000 non-null   int64 \n",
      " 25  Level                     1000 non-null   object\n",
      "dtypes: int64(24), object(2)\n",
      "memory usage: 203.2+ KB\n"
     ]
    }
   ],
   "source": [
    "lung_cancer_df.info()"
   ]
  },
  {
   "cell_type": "code",
   "execution_count": 73,
   "metadata": {},
   "outputs": [
    {
     "data": {
      "text/plain": [
       "(1000, 26)"
      ]
     },
     "execution_count": 73,
     "metadata": {},
     "output_type": "execute_result"
    }
   ],
   "source": [
    "lung_cancer_df.shape"
   ]
  },
  {
   "cell_type": "code",
   "execution_count": 74,
   "metadata": {},
   "outputs": [
    {
     "data": {
      "text/plain": [
       "Index(['index', 'Patient Id', 'Age', 'Gender', 'Air Pollution', 'Alcohol use',\n",
       "       'Dust Allergy', 'OccuPational Hazards', 'Genetic Risk',\n",
       "       'chronic Lung Disease', 'Balanced Diet', 'Obesity', 'Smoking',\n",
       "       'Passive Smoker', 'Chest Pain', 'Coughing of Blood', 'Fatigue',\n",
       "       'Weight Loss', 'Shortness of Breath', 'Wheezing',\n",
       "       'Swallowing Difficulty', 'Clubbing of Finger Nails', 'Frequent Cold',\n",
       "       'Dry Cough', 'Snoring', 'Level'],\n",
       "      dtype='object')"
      ]
     },
     "execution_count": 74,
     "metadata": {},
     "output_type": "execute_result"
    }
   ],
   "source": [
    "lung_cancer_df.columns"
   ]
  },
  {
   "cell_type": "code",
   "execution_count": 75,
   "metadata": {},
   "outputs": [],
   "source": [
    "# Drop index and patient id columns\n",
    "lung_cancer_df = lung_cancer_df.drop(columns=['index', 'Patient Id'], axis=1)"
   ]
  },
  {
   "cell_type": "code",
   "execution_count": 76,
   "metadata": {},
   "outputs": [
    {
     "data": {
      "text/plain": [
       "array(['Low', 'Medium', 'High'], dtype=object)"
      ]
     },
     "execution_count": 76,
     "metadata": {},
     "output_type": "execute_result"
    }
   ],
   "source": [
    "# Look at the different levels of risk\n",
    "lung_cancer_df['Level'].unique()"
   ]
  },
  {
   "cell_type": "code",
   "execution_count": 77,
   "metadata": {},
   "outputs": [
    {
     "data": {
      "text/plain": [
       "(303, 332, 365)"
      ]
     },
     "execution_count": 77,
     "metadata": {},
     "output_type": "execute_result"
    }
   ],
   "source": [
    "# Look at the total number of 'Low', 'Medium' and 'High' risk of lung cancer\n",
    "len(lung_cancer_df[lung_cancer_df['Level'] == 'Low']),len(lung_cancer_df[lung_cancer_df['Level'] == 'Medium']), len(lung_cancer_df[lung_cancer_df['Level'] == 'High'])"
   ]
  },
  {
   "cell_type": "code",
   "execution_count": 78,
   "metadata": {},
   "outputs": [
    {
     "data": {
      "text/html": [
       "<div>\n",
       "<style scoped>\n",
       "    .dataframe tbody tr th:only-of-type {\n",
       "        vertical-align: middle;\n",
       "    }\n",
       "\n",
       "    .dataframe tbody tr th {\n",
       "        vertical-align: top;\n",
       "    }\n",
       "\n",
       "    .dataframe thead th {\n",
       "        text-align: right;\n",
       "    }\n",
       "</style>\n",
       "<table border=\"1\" class=\"dataframe\">\n",
       "  <thead>\n",
       "    <tr style=\"text-align: right;\">\n",
       "      <th></th>\n",
       "      <th>Age</th>\n",
       "      <th>Gender</th>\n",
       "      <th>Air Pollution</th>\n",
       "      <th>Alcohol use</th>\n",
       "      <th>Dust Allergy</th>\n",
       "      <th>OccuPational Hazards</th>\n",
       "      <th>Genetic Risk</th>\n",
       "      <th>chronic Lung Disease</th>\n",
       "      <th>Balanced Diet</th>\n",
       "      <th>Obesity</th>\n",
       "      <th>...</th>\n",
       "      <th>Fatigue</th>\n",
       "      <th>Weight Loss</th>\n",
       "      <th>Shortness of Breath</th>\n",
       "      <th>Wheezing</th>\n",
       "      <th>Swallowing Difficulty</th>\n",
       "      <th>Clubbing of Finger Nails</th>\n",
       "      <th>Frequent Cold</th>\n",
       "      <th>Dry Cough</th>\n",
       "      <th>Snoring</th>\n",
       "      <th>Level</th>\n",
       "    </tr>\n",
       "  </thead>\n",
       "  <tbody>\n",
       "    <tr>\n",
       "      <th>0</th>\n",
       "      <td>33</td>\n",
       "      <td>1</td>\n",
       "      <td>2</td>\n",
       "      <td>4</td>\n",
       "      <td>5</td>\n",
       "      <td>4</td>\n",
       "      <td>3</td>\n",
       "      <td>2</td>\n",
       "      <td>2</td>\n",
       "      <td>4</td>\n",
       "      <td>...</td>\n",
       "      <td>3</td>\n",
       "      <td>4</td>\n",
       "      <td>2</td>\n",
       "      <td>2</td>\n",
       "      <td>3</td>\n",
       "      <td>1</td>\n",
       "      <td>2</td>\n",
       "      <td>3</td>\n",
       "      <td>4</td>\n",
       "      <td>0</td>\n",
       "    </tr>\n",
       "    <tr>\n",
       "      <th>1</th>\n",
       "      <td>17</td>\n",
       "      <td>1</td>\n",
       "      <td>3</td>\n",
       "      <td>1</td>\n",
       "      <td>5</td>\n",
       "      <td>3</td>\n",
       "      <td>4</td>\n",
       "      <td>2</td>\n",
       "      <td>2</td>\n",
       "      <td>2</td>\n",
       "      <td>...</td>\n",
       "      <td>1</td>\n",
       "      <td>3</td>\n",
       "      <td>7</td>\n",
       "      <td>8</td>\n",
       "      <td>6</td>\n",
       "      <td>2</td>\n",
       "      <td>1</td>\n",
       "      <td>7</td>\n",
       "      <td>2</td>\n",
       "      <td>1</td>\n",
       "    </tr>\n",
       "    <tr>\n",
       "      <th>2</th>\n",
       "      <td>35</td>\n",
       "      <td>1</td>\n",
       "      <td>4</td>\n",
       "      <td>5</td>\n",
       "      <td>6</td>\n",
       "      <td>5</td>\n",
       "      <td>5</td>\n",
       "      <td>4</td>\n",
       "      <td>6</td>\n",
       "      <td>7</td>\n",
       "      <td>...</td>\n",
       "      <td>8</td>\n",
       "      <td>7</td>\n",
       "      <td>9</td>\n",
       "      <td>2</td>\n",
       "      <td>1</td>\n",
       "      <td>4</td>\n",
       "      <td>6</td>\n",
       "      <td>7</td>\n",
       "      <td>2</td>\n",
       "      <td>2</td>\n",
       "    </tr>\n",
       "    <tr>\n",
       "      <th>3</th>\n",
       "      <td>37</td>\n",
       "      <td>1</td>\n",
       "      <td>7</td>\n",
       "      <td>7</td>\n",
       "      <td>7</td>\n",
       "      <td>7</td>\n",
       "      <td>6</td>\n",
       "      <td>7</td>\n",
       "      <td>7</td>\n",
       "      <td>7</td>\n",
       "      <td>...</td>\n",
       "      <td>4</td>\n",
       "      <td>2</td>\n",
       "      <td>3</td>\n",
       "      <td>1</td>\n",
       "      <td>4</td>\n",
       "      <td>5</td>\n",
       "      <td>6</td>\n",
       "      <td>7</td>\n",
       "      <td>5</td>\n",
       "      <td>2</td>\n",
       "    </tr>\n",
       "    <tr>\n",
       "      <th>4</th>\n",
       "      <td>46</td>\n",
       "      <td>1</td>\n",
       "      <td>6</td>\n",
       "      <td>8</td>\n",
       "      <td>7</td>\n",
       "      <td>7</td>\n",
       "      <td>7</td>\n",
       "      <td>6</td>\n",
       "      <td>7</td>\n",
       "      <td>7</td>\n",
       "      <td>...</td>\n",
       "      <td>3</td>\n",
       "      <td>2</td>\n",
       "      <td>4</td>\n",
       "      <td>1</td>\n",
       "      <td>4</td>\n",
       "      <td>2</td>\n",
       "      <td>4</td>\n",
       "      <td>2</td>\n",
       "      <td>3</td>\n",
       "      <td>2</td>\n",
       "    </tr>\n",
       "  </tbody>\n",
       "</table>\n",
       "<p>5 rows × 24 columns</p>\n",
       "</div>"
      ],
      "text/plain": [
       "   Age  Gender  Air Pollution  Alcohol use  Dust Allergy  \\\n",
       "0   33       1              2            4             5   \n",
       "1   17       1              3            1             5   \n",
       "2   35       1              4            5             6   \n",
       "3   37       1              7            7             7   \n",
       "4   46       1              6            8             7   \n",
       "\n",
       "   OccuPational Hazards  Genetic Risk  chronic Lung Disease  Balanced Diet  \\\n",
       "0                     4             3                     2              2   \n",
       "1                     3             4                     2              2   \n",
       "2                     5             5                     4              6   \n",
       "3                     7             6                     7              7   \n",
       "4                     7             7                     6              7   \n",
       "\n",
       "   Obesity  ...  Fatigue  Weight Loss  Shortness of Breath  Wheezing  \\\n",
       "0        4  ...        3            4                    2         2   \n",
       "1        2  ...        1            3                    7         8   \n",
       "2        7  ...        8            7                    9         2   \n",
       "3        7  ...        4            2                    3         1   \n",
       "4        7  ...        3            2                    4         1   \n",
       "\n",
       "   Swallowing Difficulty  Clubbing of Finger Nails  Frequent Cold  Dry Cough  \\\n",
       "0                      3                         1              2          3   \n",
       "1                      6                         2              1          7   \n",
       "2                      1                         4              6          7   \n",
       "3                      4                         5              6          7   \n",
       "4                      4                         2              4          2   \n",
       "\n",
       "   Snoring  Level  \n",
       "0        4      0  \n",
       "1        2      1  \n",
       "2        2      2  \n",
       "3        5      2  \n",
       "4        3      2  \n",
       "\n",
       "[5 rows x 24 columns]"
      ]
     },
     "execution_count": 78,
     "metadata": {},
     "output_type": "execute_result"
    }
   ],
   "source": [
    "# Change [Low, Medium, High] level's to [0, 1, 2] respectively\n",
    "lung_cancer_df.loc[lung_cancer_df['Level'] == 'Low', 'Level'] = 0\n",
    "lung_cancer_df.loc[lung_cancer_df['Level'] == 'Medium', 'Level'] = 1\n",
    "lung_cancer_df.loc[lung_cancer_df['Level'] == 'High', 'Level'] = 2\n",
    "\n",
    "lung_cancer_df.head()"
   ]
  },
  {
   "cell_type": "code",
   "execution_count": 79,
   "metadata": {},
   "outputs": [],
   "source": [
    "# Create target and feature data\n",
    "y = lung_cancer_df['Level'].values\n",
    "X = lung_cancer_df.drop(columns='Level', axis=1).values\n",
    "\n",
    "# Split training/test datasets\n",
    "X_train, X_test, y_train, y_test = train_test_split(X, y, random_state=48)"
   ]
  },
  {
   "cell_type": "code",
   "execution_count": 80,
   "metadata": {},
   "outputs": [
    {
     "data": {
      "text/plain": [
       "array([[25,  2,  3, ...,  3,  4,  3],\n",
       "       [35,  1,  6, ...,  3,  4,  2],\n",
       "       [23,  2,  4, ...,  4,  3,  1],\n",
       "       ...,\n",
       "       [37,  1,  7, ...,  6,  7,  5],\n",
       "       [35,  1,  4, ...,  2,  4,  1],\n",
       "       [45,  1,  3, ...,  6,  5,  4]], dtype=int64)"
      ]
     },
     "execution_count": 80,
     "metadata": {},
     "output_type": "execute_result"
    }
   ],
   "source": [
    "X_train"
   ]
  },
  {
   "cell_type": "code",
   "execution_count": 81,
   "metadata": {},
   "outputs": [
    {
     "data": {
      "text/plain": [
       "array([[-0.96431682,  1.19464826, -0.37632986, ..., -0.25171498,\n",
       "         0.09441247,  0.06505746],\n",
       "       [-0.13671914, -0.83706647,  1.10918276, ..., -0.25171498,\n",
       "         0.09441247, -0.61262437],\n",
       "       [-1.12983635,  1.19464826,  0.11884101, ...,  0.29708222,\n",
       "        -0.39392788, -1.29030619],\n",
       "       ...,\n",
       "       [ 0.0288004 , -0.83706647,  1.60435363, ...,  1.39467663,\n",
       "         1.55943351,  1.4204211 ],\n",
       "       [-0.13671914, -0.83706647,  0.11884101, ..., -0.80051219,\n",
       "         0.09441247, -1.29030619],\n",
       "       [ 0.69087854, -0.83706647, -0.37632986, ...,  1.39467663,\n",
       "         0.58275282,  0.74273928]])"
      ]
     },
     "execution_count": 81,
     "metadata": {},
     "output_type": "execute_result"
    }
   ],
   "source": [
    "# Preprocess numerical data for neural network\n",
    "# Create a StandardScaler instance\n",
    "scaler = StandardScaler()\n",
    "\n",
    "# Fit the StandardScaler\n",
    "X_scaler = scaler.fit(X_train)\n",
    "\n",
    "# Scale the data\n",
    "X_train_scaled = X_scaler.transform(X_train)\n",
    "X_test_scaled = X_scaler.transform(X_test)\n",
    "\n",
    "X_train_scaled"
   ]
  },
  {
   "cell_type": "code",
   "execution_count": 90,
   "metadata": {},
   "outputs": [
    {
     "data": {
      "text/plain": [
       "array([0, 1, 0, 2, 1, 1, 1, 0, 2, 0, 2, 1, 0, 1, 0, 0, 1, 2, 2, 1, 1, 2,\n",
       "       2, 0, 0, 0, 2, 0, 2, 0, 1, 1, 1, 1, 0, 1, 0, 2, 1, 1, 1, 1, 1, 0,\n",
       "       2, 0, 2, 2, 1, 2, 1, 2, 0, 2, 0, 0, 0, 2, 2, 2, 2, 2, 0, 0, 2, 2,\n",
       "       2, 0, 1, 0, 1, 0, 0, 1, 1, 2, 0, 1, 1, 1, 0, 1, 2, 0, 0, 2, 2, 1,\n",
       "       2, 0, 0, 2, 0, 1, 0, 2, 2, 0, 0, 1, 2, 2, 2, 1, 0, 0, 2, 1, 2, 0,\n",
       "       1, 1, 1, 1, 1, 1, 0, 1, 2, 0, 0, 1, 2, 0, 0, 2, 2, 2, 2, 2, 0, 1,\n",
       "       2, 2, 1, 1, 2, 0, 2, 1, 0, 1, 0, 0, 0, 0, 2, 0, 0, 2, 1, 0, 2, 1,\n",
       "       2, 1, 2, 2, 0, 2, 1, 1, 0, 1, 2, 2, 1, 2, 2, 1, 2, 0, 2, 2, 2, 0,\n",
       "       1, 1, 0, 1, 2, 1, 0, 2, 1, 1, 2, 2, 1, 1, 2, 0, 0, 1, 2, 0, 1, 0,\n",
       "       2, 2, 0, 0, 2, 1, 0, 1, 0, 0, 1, 1, 2, 2, 2, 2, 2, 2, 2, 2, 0, 0,\n",
       "       2, 0, 1, 0, 1, 1, 2, 2, 1, 2, 1, 0, 0, 2, 0, 1, 2, 0, 1, 1, 2, 2,\n",
       "       1, 0, 0, 1, 0, 1, 0, 0, 0, 2, 0, 0, 0, 2, 2, 1, 2, 2, 2, 1, 2, 2,\n",
       "       1, 2, 2, 1, 1, 1, 2, 1, 1, 0, 0, 2, 2, 0, 0, 1, 0, 2, 1, 0, 1, 1,\n",
       "       0, 0, 0, 0, 0, 0, 1, 2, 2, 0, 1, 0, 2, 1, 0, 0, 2, 2, 1, 2, 2, 1,\n",
       "       1, 1, 1, 2, 2, 2, 1, 1, 2, 1, 2, 0, 0, 1, 1, 0, 2, 2, 2, 1, 0, 0,\n",
       "       2, 1, 0, 0, 2, 0, 0, 0, 2, 2, 0, 1, 2, 0, 2, 1, 2, 0, 0, 0, 2, 1,\n",
       "       1, 2, 0, 1, 2, 1, 0, 0, 2, 2, 2, 0, 1, 0, 0, 1, 2, 1, 0, 2, 2, 2,\n",
       "       0, 0, 2, 0, 2, 0, 0, 2, 2, 1, 2, 1, 2, 1, 0, 2, 0, 0, 1, 1, 0, 0,\n",
       "       1, 2, 1, 2, 2, 2, 0, 0, 2, 0, 2, 2, 2, 1, 0, 2, 1, 2, 1, 2, 0, 0,\n",
       "       1, 0, 1, 1, 1, 2, 1, 1, 2, 2, 1, 0, 2, 1, 2, 0, 1, 2, 2, 2, 1, 1,\n",
       "       2, 1, 1, 1, 2, 2, 0, 2, 0, 1, 1, 2, 1, 1, 2, 1, 0, 1, 1, 2, 0, 1,\n",
       "       2, 2, 0, 2, 2, 1, 0, 0, 1, 0, 0, 2, 2, 1, 1, 1, 0, 2, 1, 1, 1, 0,\n",
       "       2, 1, 2, 2, 2, 0, 1, 0, 0, 0, 1, 0, 2, 1, 2, 1, 2, 0, 1, 2, 0, 1,\n",
       "       0, 2, 1, 2, 1, 1, 0, 1, 2, 2, 0, 0, 1, 1, 0, 1, 0, 1, 1, 2, 2, 1,\n",
       "       2, 1, 0, 0, 2, 2, 2, 1, 1, 1, 2, 2, 1, 0, 2, 2, 2, 0, 1, 0, 1, 0,\n",
       "       1, 1, 0, 1, 1, 1, 1, 1, 0, 1, 2, 1, 0, 0, 2, 1, 2, 1, 2, 2, 1, 1,\n",
       "       2, 1, 0, 0, 0, 1, 1, 1, 1, 1, 0, 1, 1, 0, 0, 0, 2, 1, 1, 1, 1, 2,\n",
       "       1, 1, 1, 0, 0, 0, 1, 1, 0, 2, 2, 2, 2, 1, 2, 2, 1, 2, 2, 1, 1, 1,\n",
       "       0, 0, 0, 1, 0, 1, 0, 1, 0, 1, 2, 2, 0, 0, 2, 1, 0, 2, 2, 2, 1, 0,\n",
       "       1, 2, 2, 0, 2, 2, 2, 2, 0, 2, 1, 1, 0, 0, 1, 0, 1, 0, 0, 2, 1, 1,\n",
       "       2, 2, 2, 0, 2, 1, 2, 1, 1, 0, 0, 0, 1, 2, 2, 0, 2, 0, 1, 0, 1, 1,\n",
       "       0, 1, 2, 0, 1, 1, 2, 2, 2, 0, 1, 1, 0, 2, 1, 2, 1, 0, 1, 0, 1, 0,\n",
       "       0, 0, 1, 1, 0, 1, 2, 0, 0, 2, 0, 1, 0, 0, 2, 1, 1, 2, 1, 2, 2, 2,\n",
       "       0, 0, 1, 1, 1, 2, 0, 0, 2, 0, 2, 0, 2, 1, 0, 2, 1, 0, 0, 0, 1, 2,\n",
       "       1, 1], dtype=object)"
      ]
     },
     "execution_count": 90,
     "metadata": {},
     "output_type": "execute_result"
    }
   ],
   "source": [
    "y_train"
   ]
  },
  {
   "cell_type": "code",
   "execution_count": 88,
   "metadata": {},
   "outputs": [],
   "source": [
    "# Define the deep learning model\n",
    "nn_model = tf.keras.models.Sequential()\n",
    "nn_model.add(tf.keras.layers.Dense(units=42, activation='relu', input_dim=X_train.shape[1]))\n",
    "nn_model.add(tf.keras.layers.Dense(units=42, activation='relu'))\n",
    "nn_model.add(tf.keras.layers.Dense(units=3, activation=\"sigmoid\"))"
   ]
  },
  {
   "cell_type": "code",
   "execution_count": 89,
   "metadata": {},
   "outputs": [
    {
     "ename": "ValueError",
     "evalue": "Failed to convert a NumPy array to a Tensor (Unsupported object type int).",
     "output_type": "error",
     "traceback": [
      "\u001b[1;31m---------------------------------------------------------------------------\u001b[0m",
      "\u001b[1;31mValueError\u001b[0m                                Traceback (most recent call last)",
      "\u001b[1;32mc:\\Users\\User\\Desktop\\ClassWork\\git\\final-project\\predict_lung_cancer.ipynb Cell 15\u001b[0m in \u001b[0;36m<cell line: 5>\u001b[1;34m()\u001b[0m\n\u001b[0;32m      <a href='vscode-notebook-cell:/c%3A/Users/User/Desktop/ClassWork/git/final-project/predict_lung_cancer.ipynb#X21sZmlsZQ%3D%3D?line=1'>2</a>\u001b[0m nn_model\u001b[39m.\u001b[39mcompile(loss\u001b[39m=\u001b[39m\u001b[39m\"\u001b[39m\u001b[39mbinary_crossentropy\u001b[39m\u001b[39m\"\u001b[39m, optimizer\u001b[39m=\u001b[39m\u001b[39m\"\u001b[39m\u001b[39madam\u001b[39m\u001b[39m\"\u001b[39m, metrics\u001b[39m=\u001b[39m[\u001b[39m\"\u001b[39m\u001b[39maccuracy\u001b[39m\u001b[39m\"\u001b[39m])\n\u001b[0;32m      <a href='vscode-notebook-cell:/c%3A/Users/User/Desktop/ClassWork/git/final-project/predict_lung_cancer.ipynb#X21sZmlsZQ%3D%3D?line=3'>4</a>\u001b[0m \u001b[39m# Train the model\u001b[39;00m\n\u001b[1;32m----> <a href='vscode-notebook-cell:/c%3A/Users/User/Desktop/ClassWork/git/final-project/predict_lung_cancer.ipynb#X21sZmlsZQ%3D%3D?line=4'>5</a>\u001b[0m fit_model \u001b[39m=\u001b[39m nn_model\u001b[39m.\u001b[39;49mfit(X_train_scaled, y_train, epochs\u001b[39m=\u001b[39;49m\u001b[39m100\u001b[39;49m)\n\u001b[0;32m      <a href='vscode-notebook-cell:/c%3A/Users/User/Desktop/ClassWork/git/final-project/predict_lung_cancer.ipynb#X21sZmlsZQ%3D%3D?line=6'>7</a>\u001b[0m \u001b[39m# Evaluate the model using the test data\u001b[39;00m\n\u001b[0;32m      <a href='vscode-notebook-cell:/c%3A/Users/User/Desktop/ClassWork/git/final-project/predict_lung_cancer.ipynb#X21sZmlsZQ%3D%3D?line=7'>8</a>\u001b[0m model_loss, model_accuracy \u001b[39m=\u001b[39m nn_model\u001b[39m.\u001b[39mevaluate(X_test_scaled, y_test)\n",
      "File \u001b[1;32mc:\\Users\\User\\anaconda3\\lib\\site-packages\\keras\\utils\\traceback_utils.py:70\u001b[0m, in \u001b[0;36mfilter_traceback.<locals>.error_handler\u001b[1;34m(*args, **kwargs)\u001b[0m\n\u001b[0;32m     67\u001b[0m     filtered_tb \u001b[39m=\u001b[39m _process_traceback_frames(e\u001b[39m.\u001b[39m__traceback__)\n\u001b[0;32m     68\u001b[0m     \u001b[39m# To get the full stack trace, call:\u001b[39;00m\n\u001b[0;32m     69\u001b[0m     \u001b[39m# `tf.debugging.disable_traceback_filtering()`\u001b[39;00m\n\u001b[1;32m---> 70\u001b[0m     \u001b[39mraise\u001b[39;00m e\u001b[39m.\u001b[39mwith_traceback(filtered_tb) \u001b[39mfrom\u001b[39;00m \u001b[39mNone\u001b[39m\n\u001b[0;32m     71\u001b[0m \u001b[39mfinally\u001b[39;00m:\n\u001b[0;32m     72\u001b[0m     \u001b[39mdel\u001b[39;00m filtered_tb\n",
      "File \u001b[1;32mc:\\Users\\User\\anaconda3\\lib\\site-packages\\tensorflow\\python\\framework\\constant_op.py:103\u001b[0m, in \u001b[0;36mconvert_to_eager_tensor\u001b[1;34m(value, ctx, dtype)\u001b[0m\n\u001b[0;32m    101\u001b[0m     dtype \u001b[39m=\u001b[39m dtypes\u001b[39m.\u001b[39mas_dtype(dtype)\u001b[39m.\u001b[39mas_datatype_enum\n\u001b[0;32m    102\u001b[0m ctx\u001b[39m.\u001b[39mensure_initialized()\n\u001b[1;32m--> 103\u001b[0m \u001b[39mreturn\u001b[39;00m ops\u001b[39m.\u001b[39;49mEagerTensor(value, ctx\u001b[39m.\u001b[39;49mdevice_name, dtype)\n",
      "\u001b[1;31mValueError\u001b[0m: Failed to convert a NumPy array to a Tensor (Unsupported object type int)."
     ]
    }
   ],
   "source": [
    "# Complie the sequential model together and customize metris\n",
    "nn_model.compile(loss=\"binary_crossentropy\", optimizer=\"adam\", metrics=[\"accuracy\"])\n",
    "\n",
    "# Train the model\n",
    "fit_model = nn_model.fit(X_train_scaled, y_train, epochs=100)\n",
    "\n",
    "# Evaluate the model using the test data\n",
    "model_loss, model_accuracy = nn_model.evaluate(X_test_scaled, y_test)\n",
    "print(f\"Loss: {model_loss}, Accuracy: {model_accuracy}\")"
   ]
  },
  {
   "cell_type": "code",
   "execution_count": null,
   "metadata": {},
   "outputs": [],
   "source": []
  }
 ],
 "metadata": {
  "kernelspec": {
   "display_name": "base",
   "language": "python",
   "name": "python3"
  },
  "language_info": {
   "codemirror_mode": {
    "name": "ipython",
    "version": 3
   },
   "file_extension": ".py",
   "mimetype": "text/x-python",
   "name": "python",
   "nbconvert_exporter": "python",
   "pygments_lexer": "ipython3",
   "version": "3.9.12"
  },
  "orig_nbformat": 4
 },
 "nbformat": 4,
 "nbformat_minor": 2
}
