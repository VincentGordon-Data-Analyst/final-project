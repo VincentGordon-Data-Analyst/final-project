{
 "cells": [
  {
   "cell_type": "code",
   "execution_count": 12,
   "metadata": {},
   "outputs": [],
   "source": [
    "import pandas as pd"
   ]
  },
  {
   "cell_type": "code",
   "execution_count": 13,
   "metadata": {},
   "outputs": [
    {
     "data": {
      "text/html": [
       "<div>\n",
       "<style scoped>\n",
       "    .dataframe tbody tr th:only-of-type {\n",
       "        vertical-align: middle;\n",
       "    }\n",
       "\n",
       "    .dataframe tbody tr th {\n",
       "        vertical-align: top;\n",
       "    }\n",
       "\n",
       "    .dataframe thead th {\n",
       "        text-align: right;\n",
       "    }\n",
       "</style>\n",
       "<table border=\"1\" class=\"dataframe\">\n",
       "  <thead>\n",
       "    <tr style=\"text-align: right;\">\n",
       "      <th></th>\n",
       "      <th>address</th>\n",
       "      <th>price</th>\n",
       "      <th>number_of_beds</th>\n",
       "      <th>number_of_baths</th>\n",
       "      <th>style</th>\n",
       "    </tr>\n",
       "  </thead>\n",
       "  <tbody>\n",
       "    <tr>\n",
       "      <th>0</th>\n",
       "      <td>#1912 -1 MARKET ST, Toronto, Ontario, M5E 0A2</td>\n",
       "      <td>$1,100,000</td>\n",
       "      <td>2 Beds</td>\n",
       "      <td>2 Baths</td>\n",
       "      <td>Apartment</td>\n",
       "    </tr>\n",
       "    <tr>\n",
       "      <th>1</th>\n",
       "      <td>#2103 -31 BALES AVE, Toronto, Ontario, M2N 7L6</td>\n",
       "      <td>$699,900</td>\n",
       "      <td>1+1 Beds</td>\n",
       "      <td>1 Bath</td>\n",
       "      <td>Apartment</td>\n",
       "    </tr>\n",
       "    <tr>\n",
       "      <th>2</th>\n",
       "      <td>#815 -15 SINGER CRT, Toronto, Ontario, M2K 0B1</td>\n",
       "      <td>$658,000</td>\n",
       "      <td>1+1 Beds</td>\n",
       "      <td>2 Baths</td>\n",
       "      <td>Apartment</td>\n",
       "    </tr>\n",
       "    <tr>\n",
       "      <th>3</th>\n",
       "      <td>##436 -60 HOMEWOOD AVE, Toronto, Ontario, M4Y 2X4</td>\n",
       "      <td>$629,000</td>\n",
       "      <td>1+1 Beds</td>\n",
       "      <td>1 Bath</td>\n",
       "      <td>Apartment</td>\n",
       "    </tr>\n",
       "    <tr>\n",
       "      <th>4</th>\n",
       "      <td>#603 -5131 SHEPPARD AVE E, Toronto, Ontario, M...</td>\n",
       "      <td>$574,990</td>\n",
       "      <td>2 Beds</td>\n",
       "      <td>1 Bath</td>\n",
       "      <td>Apartment</td>\n",
       "    </tr>\n",
       "  </tbody>\n",
       "</table>\n",
       "</div>"
      ],
      "text/plain": [
       "                                             address       price  \\\n",
       "0      #1912 -1 MARKET ST, Toronto, Ontario, M5E 0A2  $1,100,000   \n",
       "1     #2103 -31 BALES AVE, Toronto, Ontario, M2N 7L6    $699,900   \n",
       "2     #815 -15 SINGER CRT, Toronto, Ontario, M2K 0B1    $658,000   \n",
       "3  ##436 -60 HOMEWOOD AVE, Toronto, Ontario, M4Y 2X4    $629,000   \n",
       "4  #603 -5131 SHEPPARD AVE E, Toronto, Ontario, M...    $574,990   \n",
       "\n",
       "  number_of_beds number_of_baths      style  \n",
       "0         2 Beds         2 Baths  Apartment  \n",
       "1       1+1 Beds          1 Bath  Apartment  \n",
       "2       1+1 Beds         2 Baths  Apartment  \n",
       "3       1+1 Beds          1 Bath  Apartment  \n",
       "4         2 Beds          1 Bath  Apartment  "
      ]
     },
     "execution_count": 13,
     "metadata": {},
     "output_type": "execute_result"
    }
   ],
   "source": [
    "df = pd.read_csv('./Resources/housing.csv')\n",
    "df.head()"
   ]
  },
  {
   "cell_type": "code",
   "execution_count": 14,
   "metadata": {},
   "outputs": [
    {
     "data": {
      "text/plain": [
       "(257, 5)"
      ]
     },
     "execution_count": 14,
     "metadata": {},
     "output_type": "execute_result"
    }
   ],
   "source": [
    "df.shape"
   ]
  },
  {
   "cell_type": "code",
   "execution_count": 15,
   "metadata": {},
   "outputs": [
    {
     "name": "stdout",
     "output_type": "stream",
     "text": [
      "<class 'pandas.core.frame.DataFrame'>\n",
      "RangeIndex: 257 entries, 0 to 256\n",
      "Data columns (total 5 columns):\n",
      " #   Column           Non-Null Count  Dtype \n",
      "---  ------           --------------  ----- \n",
      " 0   address          257 non-null    object\n",
      " 1   price            257 non-null    object\n",
      " 2   number_of_beds   257 non-null    object\n",
      " 3   number_of_baths  257 non-null    object\n",
      " 4   style            257 non-null    object\n",
      "dtypes: object(5)\n",
      "memory usage: 10.2+ KB\n"
     ]
    }
   ],
   "source": [
    "df.info()"
   ]
  },
  {
   "cell_type": "code",
   "execution_count": null,
   "metadata": {},
   "outputs": [],
   "source": []
  }
 ],
 "metadata": {
  "kernelspec": {
   "display_name": "base",
   "language": "python",
   "name": "python3"
  },
  "language_info": {
   "codemirror_mode": {
    "name": "ipython",
    "version": 3
   },
   "file_extension": ".py",
   "mimetype": "text/x-python",
   "name": "python",
   "nbconvert_exporter": "python",
   "pygments_lexer": "ipython3",
   "version": "3.9.12"
  },
  "orig_nbformat": 4
 },
 "nbformat": 4,
 "nbformat_minor": 2
}
