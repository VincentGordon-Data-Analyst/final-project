{
 "cells": [
  {
   "cell_type": "code",
   "execution_count": 803,
   "metadata": {},
   "outputs": [],
   "source": [
    "import pandas as pd"
   ]
  },
  {
   "cell_type": "code",
   "execution_count": 804,
   "metadata": {},
   "outputs": [
    {
     "data": {
      "text/html": [
       "<div>\n",
       "<style scoped>\n",
       "    .dataframe tbody tr th:only-of-type {\n",
       "        vertical-align: middle;\n",
       "    }\n",
       "\n",
       "    .dataframe tbody tr th {\n",
       "        vertical-align: top;\n",
       "    }\n",
       "\n",
       "    .dataframe thead th {\n",
       "        text-align: right;\n",
       "    }\n",
       "</style>\n",
       "<table border=\"1\" class=\"dataframe\">\n",
       "  <thead>\n",
       "    <tr style=\"text-align: right;\">\n",
       "      <th></th>\n",
       "      <th>address</th>\n",
       "      <th>price</th>\n",
       "      <th>number_of_beds</th>\n",
       "      <th>number_of_baths</th>\n",
       "      <th>style</th>\n",
       "    </tr>\n",
       "  </thead>\n",
       "  <tbody>\n",
       "    <tr>\n",
       "      <th>0</th>\n",
       "      <td>92 DAY AVE, Toronto, Ontario, M6E 3V9</td>\n",
       "      <td>$1,189,000</td>\n",
       "      <td>3+1 Beds</td>\n",
       "      <td>2 Baths</td>\n",
       "      <td>Detached</td>\n",
       "    </tr>\n",
       "    <tr>\n",
       "      <th>1</th>\n",
       "      <td>#403 -20 TUBMAN AVE, Toronto, Ontario, M5A 0M5</td>\n",
       "      <td>$1,145,000</td>\n",
       "      <td>3 Beds</td>\n",
       "      <td>2 Baths</td>\n",
       "      <td>Apartment</td>\n",
       "    </tr>\n",
       "    <tr>\n",
       "      <th>2</th>\n",
       "      <td>#1912 -1 MARKET ST, Toronto, Ontario, M5E 0A2</td>\n",
       "      <td>$1,100,000</td>\n",
       "      <td>2 Beds</td>\n",
       "      <td>2 Baths</td>\n",
       "      <td>Apartment</td>\n",
       "    </tr>\n",
       "    <tr>\n",
       "      <th>3</th>\n",
       "      <td>61 BARRYMORE RD, Toronto, Ontario, M1J 1W4</td>\n",
       "      <td>$998,888</td>\n",
       "      <td>3+1 Beds</td>\n",
       "      <td>2 Baths</td>\n",
       "      <td>Detached</td>\n",
       "    </tr>\n",
       "    <tr>\n",
       "      <th>4</th>\n",
       "      <td>#1203 -5 KENNETH AVE, Toronto, Ontario, M2N 6M7</td>\n",
       "      <td>$899,000</td>\n",
       "      <td>2+1 Beds</td>\n",
       "      <td>2 Baths</td>\n",
       "      <td>Apartment</td>\n",
       "    </tr>\n",
       "  </tbody>\n",
       "</table>\n",
       "</div>"
      ],
      "text/plain": [
       "                                           address       price number_of_beds  \\\n",
       "0            92 DAY AVE, Toronto, Ontario, M6E 3V9  $1,189,000       3+1 Beds   \n",
       "1   #403 -20 TUBMAN AVE, Toronto, Ontario, M5A 0M5  $1,145,000         3 Beds   \n",
       "2    #1912 -1 MARKET ST, Toronto, Ontario, M5E 0A2  $1,100,000         2 Beds   \n",
       "3       61 BARRYMORE RD, Toronto, Ontario, M1J 1W4    $998,888       3+1 Beds   \n",
       "4  #1203 -5 KENNETH AVE, Toronto, Ontario, M2N 6M7    $899,000       2+1 Beds   \n",
       "\n",
       "  number_of_baths      style  \n",
       "0         2 Baths   Detached  \n",
       "1         2 Baths  Apartment  \n",
       "2         2 Baths  Apartment  \n",
       "3         2 Baths   Detached  \n",
       "4         2 Baths  Apartment  "
      ]
     },
     "execution_count": 804,
     "metadata": {},
     "output_type": "execute_result"
    }
   ],
   "source": [
    "df = pd.read_csv('./Resources/housing.csv')\n",
    "df.head()"
   ]
  },
  {
   "cell_type": "code",
   "execution_count": 805,
   "metadata": {},
   "outputs": [
    {
     "data": {
      "text/plain": [
       "(373, 5)"
      ]
     },
     "execution_count": 805,
     "metadata": {},
     "output_type": "execute_result"
    }
   ],
   "source": [
    "df.shape"
   ]
  },
  {
   "cell_type": "code",
   "execution_count": 806,
   "metadata": {},
   "outputs": [
    {
     "name": "stdout",
     "output_type": "stream",
     "text": [
      "<class 'pandas.core.frame.DataFrame'>\n",
      "RangeIndex: 373 entries, 0 to 372\n",
      "Data columns (total 5 columns):\n",
      " #   Column           Non-Null Count  Dtype \n",
      "---  ------           --------------  ----- \n",
      " 0   address          373 non-null    object\n",
      " 1   price            373 non-null    object\n",
      " 2   number_of_beds   373 non-null    object\n",
      " 3   number_of_baths  373 non-null    object\n",
      " 4   style            373 non-null    object\n",
      "dtypes: object(5)\n",
      "memory usage: 14.7+ KB\n"
     ]
    }
   ],
   "source": [
    "df.info()"
   ]
  },
  {
   "cell_type": "code",
   "execution_count": 807,
   "metadata": {},
   "outputs": [
    {
     "name": "stderr",
     "output_type": "stream",
     "text": [
      "C:\\Users\\User\\AppData\\Local\\Temp\\ipykernel_27012\\1397200533.py:2: FutureWarning: The default value of regex will change from True to False in a future version.\n",
      "  df['price']= df['price'].str.replace(r'\\D', '').astype(int)\n"
     ]
    },
    {
     "data": {
      "text/html": [
       "<div>\n",
       "<style scoped>\n",
       "    .dataframe tbody tr th:only-of-type {\n",
       "        vertical-align: middle;\n",
       "    }\n",
       "\n",
       "    .dataframe tbody tr th {\n",
       "        vertical-align: top;\n",
       "    }\n",
       "\n",
       "    .dataframe thead th {\n",
       "        text-align: right;\n",
       "    }\n",
       "</style>\n",
       "<table border=\"1\" class=\"dataframe\">\n",
       "  <thead>\n",
       "    <tr style=\"text-align: right;\">\n",
       "      <th></th>\n",
       "      <th>address</th>\n",
       "      <th>price</th>\n",
       "      <th>number_of_beds</th>\n",
       "      <th>number_of_baths</th>\n",
       "      <th>style</th>\n",
       "    </tr>\n",
       "  </thead>\n",
       "  <tbody>\n",
       "    <tr>\n",
       "      <th>0</th>\n",
       "      <td>92 DAY AVE, Toronto, Ontario, M6E 3V9</td>\n",
       "      <td>1189000</td>\n",
       "      <td>3+1 Beds</td>\n",
       "      <td>2 Baths</td>\n",
       "      <td>Detached</td>\n",
       "    </tr>\n",
       "    <tr>\n",
       "      <th>1</th>\n",
       "      <td>#403 -20 TUBMAN AVE, Toronto, Ontario, M5A 0M5</td>\n",
       "      <td>1145000</td>\n",
       "      <td>3 Beds</td>\n",
       "      <td>2 Baths</td>\n",
       "      <td>Apartment</td>\n",
       "    </tr>\n",
       "    <tr>\n",
       "      <th>2</th>\n",
       "      <td>#1912 -1 MARKET ST, Toronto, Ontario, M5E 0A2</td>\n",
       "      <td>1100000</td>\n",
       "      <td>2 Beds</td>\n",
       "      <td>2 Baths</td>\n",
       "      <td>Apartment</td>\n",
       "    </tr>\n",
       "    <tr>\n",
       "      <th>3</th>\n",
       "      <td>61 BARRYMORE RD, Toronto, Ontario, M1J 1W4</td>\n",
       "      <td>998888</td>\n",
       "      <td>3+1 Beds</td>\n",
       "      <td>2 Baths</td>\n",
       "      <td>Detached</td>\n",
       "    </tr>\n",
       "    <tr>\n",
       "      <th>4</th>\n",
       "      <td>#1203 -5 KENNETH AVE, Toronto, Ontario, M2N 6M7</td>\n",
       "      <td>899000</td>\n",
       "      <td>2+1 Beds</td>\n",
       "      <td>2 Baths</td>\n",
       "      <td>Apartment</td>\n",
       "    </tr>\n",
       "  </tbody>\n",
       "</table>\n",
       "</div>"
      ],
      "text/plain": [
       "                                           address    price number_of_beds  \\\n",
       "0            92 DAY AVE, Toronto, Ontario, M6E 3V9  1189000       3+1 Beds   \n",
       "1   #403 -20 TUBMAN AVE, Toronto, Ontario, M5A 0M5  1145000         3 Beds   \n",
       "2    #1912 -1 MARKET ST, Toronto, Ontario, M5E 0A2  1100000         2 Beds   \n",
       "3       61 BARRYMORE RD, Toronto, Ontario, M1J 1W4   998888       3+1 Beds   \n",
       "4  #1203 -5 KENNETH AVE, Toronto, Ontario, M2N 6M7   899000       2+1 Beds   \n",
       "\n",
       "  number_of_baths      style  \n",
       "0         2 Baths   Detached  \n",
       "1         2 Baths  Apartment  \n",
       "2         2 Baths  Apartment  \n",
       "3         2 Baths   Detached  \n",
       "4         2 Baths  Apartment  "
      ]
     },
     "execution_count": 807,
     "metadata": {},
     "output_type": "execute_result"
    }
   ],
   "source": [
    "# Format price column and change data type\n",
    "df['price']= df['price'].str.replace(r'\\D', '').astype(int)\n",
    "df.head()"
   ]
  },
  {
   "cell_type": "code",
   "execution_count": 812,
   "metadata": {},
   "outputs": [
    {
     "data": {
      "text/html": [
       "<div>\n",
       "<style scoped>\n",
       "    .dataframe tbody tr th:only-of-type {\n",
       "        vertical-align: middle;\n",
       "    }\n",
       "\n",
       "    .dataframe tbody tr th {\n",
       "        vertical-align: top;\n",
       "    }\n",
       "\n",
       "    .dataframe thead th {\n",
       "        text-align: right;\n",
       "    }\n",
       "</style>\n",
       "<table border=\"1\" class=\"dataframe\">\n",
       "  <thead>\n",
       "    <tr style=\"text-align: right;\">\n",
       "      <th></th>\n",
       "      <th>address</th>\n",
       "      <th>price</th>\n",
       "      <th>number_of_beds</th>\n",
       "      <th>number_of_baths</th>\n",
       "      <th>style</th>\n",
       "      <th>den</th>\n",
       "    </tr>\n",
       "  </thead>\n",
       "  <tbody>\n",
       "    <tr>\n",
       "      <th>0</th>\n",
       "      <td>92 DAY AVE, Toronto, Ontario, M6E 3V9</td>\n",
       "      <td>1189000</td>\n",
       "      <td>3+1 Beds</td>\n",
       "      <td>2</td>\n",
       "      <td>Detached</td>\n",
       "      <td>1</td>\n",
       "    </tr>\n",
       "    <tr>\n",
       "      <th>1</th>\n",
       "      <td>#403 -20 TUBMAN AVE, Toronto, Ontario, M5A 0M5</td>\n",
       "      <td>1145000</td>\n",
       "      <td>3 Beds</td>\n",
       "      <td>2</td>\n",
       "      <td>Apartment</td>\n",
       "      <td>0</td>\n",
       "    </tr>\n",
       "    <tr>\n",
       "      <th>2</th>\n",
       "      <td>#1912 -1 MARKET ST, Toronto, Ontario, M5E 0A2</td>\n",
       "      <td>1100000</td>\n",
       "      <td>2 Beds</td>\n",
       "      <td>2</td>\n",
       "      <td>Apartment</td>\n",
       "      <td>0</td>\n",
       "    </tr>\n",
       "    <tr>\n",
       "      <th>3</th>\n",
       "      <td>61 BARRYMORE RD, Toronto, Ontario, M1J 1W4</td>\n",
       "      <td>998888</td>\n",
       "      <td>3+1 Beds</td>\n",
       "      <td>2</td>\n",
       "      <td>Detached</td>\n",
       "      <td>1</td>\n",
       "    </tr>\n",
       "    <tr>\n",
       "      <th>4</th>\n",
       "      <td>#1203 -5 KENNETH AVE, Toronto, Ontario, M2N 6M7</td>\n",
       "      <td>899000</td>\n",
       "      <td>2+1 Beds</td>\n",
       "      <td>2</td>\n",
       "      <td>Apartment</td>\n",
       "      <td>1</td>\n",
       "    </tr>\n",
       "    <tr>\n",
       "      <th>...</th>\n",
       "      <td>...</td>\n",
       "      <td>...</td>\n",
       "      <td>...</td>\n",
       "      <td>...</td>\n",
       "      <td>...</td>\n",
       "      <td>...</td>\n",
       "    </tr>\n",
       "    <tr>\n",
       "      <th>368</th>\n",
       "      <td>#506 -49 SILVERSTONE DR, Toronto, Ontario, M9V...</td>\n",
       "      <td>775000</td>\n",
       "      <td>3 Beds</td>\n",
       "      <td>2</td>\n",
       "      <td>Apartment</td>\n",
       "      <td>0</td>\n",
       "    </tr>\n",
       "    <tr>\n",
       "      <th>369</th>\n",
       "      <td>#215 -80 HARRISON GARDEN BLVD, Toronto, Ontari...</td>\n",
       "      <td>699999</td>\n",
       "      <td>1+1 Beds</td>\n",
       "      <td>2</td>\n",
       "      <td>Apartment</td>\n",
       "      <td>1</td>\n",
       "    </tr>\n",
       "    <tr>\n",
       "      <th>370</th>\n",
       "      <td>#305 -30 CANTERBURY PL, Toronto, Ontario, M2N 0B9</td>\n",
       "      <td>688888</td>\n",
       "      <td>2 Beds</td>\n",
       "      <td>2</td>\n",
       "      <td>Apartment</td>\n",
       "      <td>0</td>\n",
       "    </tr>\n",
       "    <tr>\n",
       "      <th>371</th>\n",
       "      <td>#1010 -30 GIBBS RD, Toronto, Ontario, M9B 0E4</td>\n",
       "      <td>649800</td>\n",
       "      <td>2 Beds</td>\n",
       "      <td>2</td>\n",
       "      <td>Apartment</td>\n",
       "      <td>0</td>\n",
       "    </tr>\n",
       "    <tr>\n",
       "      <th>372</th>\n",
       "      <td>#1401 -716 THE WEST MALL, Toronto, Ontario, M9...</td>\n",
       "      <td>579900</td>\n",
       "      <td>2+1 Beds</td>\n",
       "      <td>2</td>\n",
       "      <td>Apartment</td>\n",
       "      <td>1</td>\n",
       "    </tr>\n",
       "  </tbody>\n",
       "</table>\n",
       "<p>373 rows × 6 columns</p>\n",
       "</div>"
      ],
      "text/plain": [
       "                                               address    price  \\\n",
       "0                92 DAY AVE, Toronto, Ontario, M6E 3V9  1189000   \n",
       "1       #403 -20 TUBMAN AVE, Toronto, Ontario, M5A 0M5  1145000   \n",
       "2        #1912 -1 MARKET ST, Toronto, Ontario, M5E 0A2  1100000   \n",
       "3           61 BARRYMORE RD, Toronto, Ontario, M1J 1W4   998888   \n",
       "4      #1203 -5 KENNETH AVE, Toronto, Ontario, M2N 6M7   899000   \n",
       "..                                                 ...      ...   \n",
       "368  #506 -49 SILVERSTONE DR, Toronto, Ontario, M9V...   775000   \n",
       "369  #215 -80 HARRISON GARDEN BLVD, Toronto, Ontari...   699999   \n",
       "370  #305 -30 CANTERBURY PL, Toronto, Ontario, M2N 0B9   688888   \n",
       "371      #1010 -30 GIBBS RD, Toronto, Ontario, M9B 0E4   649800   \n",
       "372  #1401 -716 THE WEST MALL, Toronto, Ontario, M9...   579900   \n",
       "\n",
       "    number_of_beds  number_of_baths      style  den  \n",
       "0         3+1 Beds                2   Detached    1  \n",
       "1           3 Beds                2  Apartment    0  \n",
       "2           2 Beds                2  Apartment    0  \n",
       "3         3+1 Beds                2   Detached    1  \n",
       "4         2+1 Beds                2  Apartment    1  \n",
       "..             ...              ...        ...  ...  \n",
       "368         3 Beds                2  Apartment    0  \n",
       "369       1+1 Beds                2  Apartment    1  \n",
       "370         2 Beds                2  Apartment    0  \n",
       "371         2 Beds                2  Apartment    0  \n",
       "372       2+1 Beds                2  Apartment    1  \n",
       "\n",
       "[373 rows x 6 columns]"
      ]
     },
     "execution_count": 812,
     "metadata": {},
     "output_type": "execute_result"
    }
   ],
   "source": [
    "# Create 'den' column if '+1' is found in 'number_of_beds' column\n",
    "den = []\n",
    "for i in range(len(df['number_of_beds'])):\n",
    "    row = df['number_of_beds'][i]\n",
    "    if '+1' in row:\n",
    "        den.append(1)\n",
    "    else:\n",
    "        den.append(0)\n",
    "\n",
    "df['den'] = den\n",
    "\n",
    "\n",
    "df"
   ]
  },
  {
   "cell_type": "code",
   "execution_count": 809,
   "metadata": {},
   "outputs": [],
   "source": [
    "# Need to convert beds to inter\n",
    "\n"
   ]
  },
  {
   "cell_type": "code",
   "execution_count": 810,
   "metadata": {},
   "outputs": [
    {
     "name": "stderr",
     "output_type": "stream",
     "text": [
      "C:\\Users\\User\\AppData\\Local\\Temp\\ipykernel_27012\\1945002919.py:2: FutureWarning: The default value of regex will change from True to False in a future version.\n",
      "  df['number_of_baths'] = df['number_of_baths'].str.replace(r'\\D', '').astype(int)\n"
     ]
    }
   ],
   "source": [
    "# Remove Bath(s) from column\n",
    "df['number_of_baths'] = df['number_of_baths'].str.replace(r'\\D', '').astype(int)"
   ]
  },
  {
   "cell_type": "code",
   "execution_count": 811,
   "metadata": {},
   "outputs": [
    {
     "name": "stdout",
     "output_type": "stream",
     "text": [
      "<class 'pandas.core.frame.DataFrame'>\n",
      "RangeIndex: 373 entries, 0 to 372\n",
      "Data columns (total 6 columns):\n",
      " #   Column           Non-Null Count  Dtype \n",
      "---  ------           --------------  ----- \n",
      " 0   address          373 non-null    object\n",
      " 1   price            373 non-null    int32 \n",
      " 2   number_of_beds   373 non-null    object\n",
      " 3   number_of_baths  373 non-null    int32 \n",
      " 4   style            373 non-null    object\n",
      " 5   den              373 non-null    int64 \n",
      "dtypes: int32(2), int64(1), object(3)\n",
      "memory usage: 14.7+ KB\n"
     ]
    }
   ],
   "source": [
    "df.info()"
   ]
  },
  {
   "cell_type": "code",
   "execution_count": null,
   "metadata": {},
   "outputs": [],
   "source": []
  }
 ],
 "metadata": {
  "kernelspec": {
   "display_name": "base",
   "language": "python",
   "name": "python3"
  },
  "language_info": {
   "codemirror_mode": {
    "name": "ipython",
    "version": 3
   },
   "file_extension": ".py",
   "mimetype": "text/x-python",
   "name": "python",
   "nbconvert_exporter": "python",
   "pygments_lexer": "ipython3",
   "version": "3.9.12"
  },
  "orig_nbformat": 4
 },
 "nbformat": 4,
 "nbformat_minor": 2
}
