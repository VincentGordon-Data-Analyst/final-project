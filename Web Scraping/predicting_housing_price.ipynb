{
 "cells": [
  {
   "cell_type": "code",
   "execution_count": 324,
   "metadata": {},
   "outputs": [],
   "source": [
    "import pandas as pd"
   ]
  },
  {
   "cell_type": "code",
   "execution_count": 325,
   "metadata": {},
   "outputs": [
    {
     "data": {
      "text/html": [
       "<div>\n",
       "<style scoped>\n",
       "    .dataframe tbody tr th:only-of-type {\n",
       "        vertical-align: middle;\n",
       "    }\n",
       "\n",
       "    .dataframe tbody tr th {\n",
       "        vertical-align: top;\n",
       "    }\n",
       "\n",
       "    .dataframe thead th {\n",
       "        text-align: right;\n",
       "    }\n",
       "</style>\n",
       "<table border=\"1\" class=\"dataframe\">\n",
       "  <thead>\n",
       "    <tr style=\"text-align: right;\">\n",
       "      <th></th>\n",
       "      <th>address</th>\n",
       "      <th>price</th>\n",
       "      <th>number_of_beds</th>\n",
       "      <th>number_of_baths</th>\n",
       "      <th>style</th>\n",
       "    </tr>\n",
       "  </thead>\n",
       "  <tbody>\n",
       "    <tr>\n",
       "      <th>0</th>\n",
       "      <td>#903 -151 AVENUE RD, Toronto, Ontario, M5R 2H7</td>\n",
       "      <td>$1,955,000</td>\n",
       "      <td>2+1 Beds</td>\n",
       "      <td>2 Baths</td>\n",
       "      <td>Apartment</td>\n",
       "    </tr>\n",
       "    <tr>\n",
       "      <th>1</th>\n",
       "      <td>7575 4TH LINE, Centre Wellington, Ontario, N0B...</td>\n",
       "      <td>$1,799,900</td>\n",
       "      <td>5 Beds</td>\n",
       "      <td>2 Baths</td>\n",
       "      <td>Detached</td>\n",
       "    </tr>\n",
       "    <tr>\n",
       "      <th>2</th>\n",
       "      <td>388A WHITMORE AVE, Toronto, Ontario, M6E 2N4</td>\n",
       "      <td>$1,795,000</td>\n",
       "      <td>4+2 Beds</td>\n",
       "      <td>2 Baths</td>\n",
       "      <td>Triplex</td>\n",
       "    </tr>\n",
       "    <tr>\n",
       "      <th>3</th>\n",
       "      <td>332 DURIE ST, Toronto, Ontario, M6S 3G3</td>\n",
       "      <td>$1,699,000</td>\n",
       "      <td>4 Beds</td>\n",
       "      <td>2 Baths</td>\n",
       "      <td>Detached</td>\n",
       "    </tr>\n",
       "    <tr>\n",
       "      <th>4</th>\n",
       "      <td>71 WALMSLEY BLVD, Toronto, Ontario, M4V 1X7</td>\n",
       "      <td>$1,599,000</td>\n",
       "      <td>3 Beds</td>\n",
       "      <td>2 Baths</td>\n",
       "      <td>Duplex</td>\n",
       "    </tr>\n",
       "  </tbody>\n",
       "</table>\n",
       "</div>"
      ],
      "text/plain": [
       "                                             address       price  \\\n",
       "0     #903 -151 AVENUE RD, Toronto, Ontario, M5R 2H7  $1,955,000   \n",
       "1  7575 4TH LINE, Centre Wellington, Ontario, N0B...  $1,799,900   \n",
       "2       388A WHITMORE AVE, Toronto, Ontario, M6E 2N4  $1,795,000   \n",
       "3            332 DURIE ST, Toronto, Ontario, M6S 3G3  $1,699,000   \n",
       "4        71 WALMSLEY BLVD, Toronto, Ontario, M4V 1X7  $1,599,000   \n",
       "\n",
       "  number_of_beds number_of_baths      style  \n",
       "0       2+1 Beds         2 Baths  Apartment  \n",
       "1         5 Beds         2 Baths   Detached  \n",
       "2       4+2 Beds         2 Baths    Triplex  \n",
       "3         4 Beds         2 Baths   Detached  \n",
       "4         3 Beds         2 Baths     Duplex  "
      ]
     },
     "execution_count": 325,
     "metadata": {},
     "output_type": "execute_result"
    }
   ],
   "source": [
    "df = pd.read_csv('./Resources/housing.csv')\n",
    "df.head()"
   ]
  },
  {
   "cell_type": "code",
   "execution_count": 326,
   "metadata": {},
   "outputs": [
    {
     "data": {
      "text/plain": [
       "(617, 5)"
      ]
     },
     "execution_count": 326,
     "metadata": {},
     "output_type": "execute_result"
    }
   ],
   "source": [
    "df.shape"
   ]
  },
  {
   "cell_type": "code",
   "execution_count": 327,
   "metadata": {},
   "outputs": [
    {
     "name": "stdout",
     "output_type": "stream",
     "text": [
      "<class 'pandas.core.frame.DataFrame'>\n",
      "RangeIndex: 617 entries, 0 to 616\n",
      "Data columns (total 5 columns):\n",
      " #   Column           Non-Null Count  Dtype \n",
      "---  ------           --------------  ----- \n",
      " 0   address          617 non-null    object\n",
      " 1   price            617 non-null    object\n",
      " 2   number_of_beds   617 non-null    object\n",
      " 3   number_of_baths  617 non-null    object\n",
      " 4   style            617 non-null    object\n",
      "dtypes: object(5)\n",
      "memory usage: 24.2+ KB\n"
     ]
    }
   ],
   "source": [
    "df.info()"
   ]
  },
  {
   "cell_type": "code",
   "execution_count": 328,
   "metadata": {},
   "outputs": [
    {
     "name": "stderr",
     "output_type": "stream",
     "text": [
      "C:\\Users\\User\\AppData\\Local\\Temp\\ipykernel_30756\\1397200533.py:2: FutureWarning: The default value of regex will change from True to False in a future version.\n",
      "  df['price']= df['price'].str.replace(r'\\D', '').astype(int)\n"
     ]
    },
    {
     "data": {
      "text/html": [
       "<div>\n",
       "<style scoped>\n",
       "    .dataframe tbody tr th:only-of-type {\n",
       "        vertical-align: middle;\n",
       "    }\n",
       "\n",
       "    .dataframe tbody tr th {\n",
       "        vertical-align: top;\n",
       "    }\n",
       "\n",
       "    .dataframe thead th {\n",
       "        text-align: right;\n",
       "    }\n",
       "</style>\n",
       "<table border=\"1\" class=\"dataframe\">\n",
       "  <thead>\n",
       "    <tr style=\"text-align: right;\">\n",
       "      <th></th>\n",
       "      <th>address</th>\n",
       "      <th>price</th>\n",
       "      <th>number_of_beds</th>\n",
       "      <th>number_of_baths</th>\n",
       "      <th>style</th>\n",
       "    </tr>\n",
       "  </thead>\n",
       "  <tbody>\n",
       "    <tr>\n",
       "      <th>0</th>\n",
       "      <td>#903 -151 AVENUE RD, Toronto, Ontario, M5R 2H7</td>\n",
       "      <td>1955000</td>\n",
       "      <td>2+1 Beds</td>\n",
       "      <td>2 Baths</td>\n",
       "      <td>Apartment</td>\n",
       "    </tr>\n",
       "    <tr>\n",
       "      <th>1</th>\n",
       "      <td>7575 4TH LINE, Centre Wellington, Ontario, N0B...</td>\n",
       "      <td>1799900</td>\n",
       "      <td>5 Beds</td>\n",
       "      <td>2 Baths</td>\n",
       "      <td>Detached</td>\n",
       "    </tr>\n",
       "    <tr>\n",
       "      <th>2</th>\n",
       "      <td>388A WHITMORE AVE, Toronto, Ontario, M6E 2N4</td>\n",
       "      <td>1795000</td>\n",
       "      <td>4+2 Beds</td>\n",
       "      <td>2 Baths</td>\n",
       "      <td>Triplex</td>\n",
       "    </tr>\n",
       "    <tr>\n",
       "      <th>3</th>\n",
       "      <td>332 DURIE ST, Toronto, Ontario, M6S 3G3</td>\n",
       "      <td>1699000</td>\n",
       "      <td>4 Beds</td>\n",
       "      <td>2 Baths</td>\n",
       "      <td>Detached</td>\n",
       "    </tr>\n",
       "    <tr>\n",
       "      <th>4</th>\n",
       "      <td>71 WALMSLEY BLVD, Toronto, Ontario, M4V 1X7</td>\n",
       "      <td>1599000</td>\n",
       "      <td>3 Beds</td>\n",
       "      <td>2 Baths</td>\n",
       "      <td>Duplex</td>\n",
       "    </tr>\n",
       "  </tbody>\n",
       "</table>\n",
       "</div>"
      ],
      "text/plain": [
       "                                             address    price number_of_beds  \\\n",
       "0     #903 -151 AVENUE RD, Toronto, Ontario, M5R 2H7  1955000       2+1 Beds   \n",
       "1  7575 4TH LINE, Centre Wellington, Ontario, N0B...  1799900         5 Beds   \n",
       "2       388A WHITMORE AVE, Toronto, Ontario, M6E 2N4  1795000       4+2 Beds   \n",
       "3            332 DURIE ST, Toronto, Ontario, M6S 3G3  1699000         4 Beds   \n",
       "4        71 WALMSLEY BLVD, Toronto, Ontario, M4V 1X7  1599000         3 Beds   \n",
       "\n",
       "  number_of_baths      style  \n",
       "0         2 Baths  Apartment  \n",
       "1         2 Baths   Detached  \n",
       "2         2 Baths    Triplex  \n",
       "3         2 Baths   Detached  \n",
       "4         2 Baths     Duplex  "
      ]
     },
     "execution_count": 328,
     "metadata": {},
     "output_type": "execute_result"
    }
   ],
   "source": [
    "# Format price column and change data type\n",
    "df['price']= df['price'].str.replace(r'\\D', '').astype(int)\n",
    "df.head()"
   ]
  },
  {
   "cell_type": "code",
   "execution_count": 329,
   "metadata": {},
   "outputs": [
    {
     "data": {
      "text/plain": [
       "array(['2+1 Beds', '5 Beds', '4+2 Beds', '4 Beds', '3 Beds', '2 Beds',\n",
       "       '3+1 Beds', '3+2 Beds', '2+2 Beds', '4+1 Beds', '1+1 Beds',\n",
       "       '1+3 Beds', '4+3 Beds', '3+3 Beds', '6 Beds', '1 Beds', '1+2 Beds',\n",
       "       '2+3 Beds'], dtype=object)"
      ]
     },
     "execution_count": 329,
     "metadata": {},
     "output_type": "execute_result"
    }
   ],
   "source": [
    "# Find different values for 'number_of_beds' column\n",
    "df['number_of_beds'].unique()"
   ]
  },
  {
   "cell_type": "code",
   "execution_count": 330,
   "metadata": {},
   "outputs": [
    {
     "data": {
      "text/html": [
       "<div>\n",
       "<style scoped>\n",
       "    .dataframe tbody tr th:only-of-type {\n",
       "        vertical-align: middle;\n",
       "    }\n",
       "\n",
       "    .dataframe tbody tr th {\n",
       "        vertical-align: top;\n",
       "    }\n",
       "\n",
       "    .dataframe thead th {\n",
       "        text-align: right;\n",
       "    }\n",
       "</style>\n",
       "<table border=\"1\" class=\"dataframe\">\n",
       "  <thead>\n",
       "    <tr style=\"text-align: right;\">\n",
       "      <th></th>\n",
       "      <th>address</th>\n",
       "      <th>price</th>\n",
       "      <th>number_of_beds</th>\n",
       "      <th>number_of_baths</th>\n",
       "      <th>style</th>\n",
       "      <th>extra_space</th>\n",
       "    </tr>\n",
       "  </thead>\n",
       "  <tbody>\n",
       "    <tr>\n",
       "      <th>0</th>\n",
       "      <td>#903 -151 AVENUE RD, Toronto, Ontario, M5R 2H7</td>\n",
       "      <td>1955000</td>\n",
       "      <td>2+1 Beds</td>\n",
       "      <td>2 Baths</td>\n",
       "      <td>Apartment</td>\n",
       "      <td>1</td>\n",
       "    </tr>\n",
       "    <tr>\n",
       "      <th>1</th>\n",
       "      <td>7575 4TH LINE, Centre Wellington, Ontario, N0B...</td>\n",
       "      <td>1799900</td>\n",
       "      <td>5 Beds</td>\n",
       "      <td>2 Baths</td>\n",
       "      <td>Detached</td>\n",
       "      <td>0</td>\n",
       "    </tr>\n",
       "    <tr>\n",
       "      <th>2</th>\n",
       "      <td>388A WHITMORE AVE, Toronto, Ontario, M6E 2N4</td>\n",
       "      <td>1795000</td>\n",
       "      <td>4+2 Beds</td>\n",
       "      <td>2 Baths</td>\n",
       "      <td>Triplex</td>\n",
       "      <td>1</td>\n",
       "    </tr>\n",
       "    <tr>\n",
       "      <th>3</th>\n",
       "      <td>332 DURIE ST, Toronto, Ontario, M6S 3G3</td>\n",
       "      <td>1699000</td>\n",
       "      <td>4 Beds</td>\n",
       "      <td>2 Baths</td>\n",
       "      <td>Detached</td>\n",
       "      <td>0</td>\n",
       "    </tr>\n",
       "    <tr>\n",
       "      <th>4</th>\n",
       "      <td>71 WALMSLEY BLVD, Toronto, Ontario, M4V 1X7</td>\n",
       "      <td>1599000</td>\n",
       "      <td>3 Beds</td>\n",
       "      <td>2 Baths</td>\n",
       "      <td>Duplex</td>\n",
       "      <td>0</td>\n",
       "    </tr>\n",
       "  </tbody>\n",
       "</table>\n",
       "</div>"
      ],
      "text/plain": [
       "                                             address    price number_of_beds  \\\n",
       "0     #903 -151 AVENUE RD, Toronto, Ontario, M5R 2H7  1955000       2+1 Beds   \n",
       "1  7575 4TH LINE, Centre Wellington, Ontario, N0B...  1799900         5 Beds   \n",
       "2       388A WHITMORE AVE, Toronto, Ontario, M6E 2N4  1795000       4+2 Beds   \n",
       "3            332 DURIE ST, Toronto, Ontario, M6S 3G3  1699000         4 Beds   \n",
       "4        71 WALMSLEY BLVD, Toronto, Ontario, M4V 1X7  1599000         3 Beds   \n",
       "\n",
       "  number_of_baths      style  extra_space  \n",
       "0         2 Baths  Apartment            1  \n",
       "1         2 Baths   Detached            0  \n",
       "2         2 Baths    Triplex            1  \n",
       "3         2 Baths   Detached            0  \n",
       "4         2 Baths     Duplex            0  "
      ]
     },
     "execution_count": 330,
     "metadata": {},
     "output_type": "execute_result"
    }
   ],
   "source": [
    "# Create 'extra_space' column if '+' is found in 'number_of_beds' column\n",
    "ex_space = []\n",
    "for i in range(len(df['number_of_beds'])):\n",
    "    row = df['number_of_beds'][i]\n",
    "    if '+' in row:\n",
    "        ex_space.append(1)\n",
    "    else:\n",
    "        ex_space.append(0)\n",
    "\n",
    "df['extra_space'] = ex_space\n",
    "\n",
    "df.head()"
   ]
  },
  {
   "cell_type": "code",
   "execution_count": 331,
   "metadata": {},
   "outputs": [
    {
     "data": {
      "text/html": [
       "<div>\n",
       "<style scoped>\n",
       "    .dataframe tbody tr th:only-of-type {\n",
       "        vertical-align: middle;\n",
       "    }\n",
       "\n",
       "    .dataframe tbody tr th {\n",
       "        vertical-align: top;\n",
       "    }\n",
       "\n",
       "    .dataframe thead th {\n",
       "        text-align: right;\n",
       "    }\n",
       "</style>\n",
       "<table border=\"1\" class=\"dataframe\">\n",
       "  <thead>\n",
       "    <tr style=\"text-align: right;\">\n",
       "      <th></th>\n",
       "      <th>street</th>\n",
       "      <th>city</th>\n",
       "      <th>province</th>\n",
       "      <th>postal_code</th>\n",
       "      <th>style</th>\n",
       "      <th>price</th>\n",
       "      <th>number_of_beds</th>\n",
       "      <th>number_of_baths</th>\n",
       "      <th>extra_space</th>\n",
       "    </tr>\n",
       "  </thead>\n",
       "  <tbody>\n",
       "    <tr>\n",
       "      <th>0</th>\n",
       "      <td>#903 -151 AVENUE RD</td>\n",
       "      <td>Toronto</td>\n",
       "      <td>Ontario</td>\n",
       "      <td>M5R 2H7</td>\n",
       "      <td>Apartment</td>\n",
       "      <td>1955000</td>\n",
       "      <td>2+1 Beds</td>\n",
       "      <td>2 Baths</td>\n",
       "      <td>1</td>\n",
       "    </tr>\n",
       "    <tr>\n",
       "      <th>1</th>\n",
       "      <td>7575 4TH LINE</td>\n",
       "      <td>Centre Wellington</td>\n",
       "      <td>Ontario</td>\n",
       "      <td>N0B 1S0</td>\n",
       "      <td>Detached</td>\n",
       "      <td>1799900</td>\n",
       "      <td>5 Beds</td>\n",
       "      <td>2 Baths</td>\n",
       "      <td>0</td>\n",
       "    </tr>\n",
       "    <tr>\n",
       "      <th>2</th>\n",
       "      <td>388A WHITMORE AVE</td>\n",
       "      <td>Toronto</td>\n",
       "      <td>Ontario</td>\n",
       "      <td>M6E 2N4</td>\n",
       "      <td>Triplex</td>\n",
       "      <td>1795000</td>\n",
       "      <td>4+2 Beds</td>\n",
       "      <td>2 Baths</td>\n",
       "      <td>1</td>\n",
       "    </tr>\n",
       "    <tr>\n",
       "      <th>3</th>\n",
       "      <td>332 DURIE ST</td>\n",
       "      <td>Toronto</td>\n",
       "      <td>Ontario</td>\n",
       "      <td>M6S 3G3</td>\n",
       "      <td>Detached</td>\n",
       "      <td>1699000</td>\n",
       "      <td>4 Beds</td>\n",
       "      <td>2 Baths</td>\n",
       "      <td>0</td>\n",
       "    </tr>\n",
       "    <tr>\n",
       "      <th>4</th>\n",
       "      <td>71 WALMSLEY BLVD</td>\n",
       "      <td>Toronto</td>\n",
       "      <td>Ontario</td>\n",
       "      <td>M4V 1X7</td>\n",
       "      <td>Duplex</td>\n",
       "      <td>1599000</td>\n",
       "      <td>3 Beds</td>\n",
       "      <td>2 Baths</td>\n",
       "      <td>0</td>\n",
       "    </tr>\n",
       "  </tbody>\n",
       "</table>\n",
       "</div>"
      ],
      "text/plain": [
       "                street                city  province postal_code      style  \\\n",
       "0  #903 -151 AVENUE RD             Toronto   Ontario     M5R 2H7  Apartment   \n",
       "1        7575 4TH LINE   Centre Wellington   Ontario     N0B 1S0   Detached   \n",
       "2    388A WHITMORE AVE             Toronto   Ontario     M6E 2N4    Triplex   \n",
       "3         332 DURIE ST             Toronto   Ontario     M6S 3G3   Detached   \n",
       "4     71 WALMSLEY BLVD             Toronto   Ontario     M4V 1X7     Duplex   \n",
       "\n",
       "     price number_of_beds number_of_baths  extra_space  \n",
       "0  1955000       2+1 Beds         2 Baths            1  \n",
       "1  1799900         5 Beds         2 Baths            0  \n",
       "2  1795000       4+2 Beds         2 Baths            1  \n",
       "3  1699000         4 Beds         2 Baths            0  \n",
       "4  1599000         3 Beds         2 Baths            0  "
      ]
     },
     "execution_count": 331,
     "metadata": {},
     "output_type": "execute_result"
    }
   ],
   "source": [
    "# Splt up 'address' column\n",
    "df[['street', 'city', 'province','postal_code']] = df.address.str.split(',', expand=True)\n",
    "\n",
    "# Drop 'address column\n",
    "df = df.drop(columns=['address'])\n",
    "\n",
    "# Rearrange dataframe\n",
    "df = df.reindex(columns=['street', 'city', 'province', 'postal_code',  'style', 'price', 'number_of_beds', 'number_of_baths','extra_space'])\n",
    "\n",
    "df.head()"
   ]
  },
  {
   "cell_type": "code",
   "execution_count": 332,
   "metadata": {},
   "outputs": [],
   "source": [
    "df['city'] = df['city'].str.strip()\n",
    "df['province'] = df['province'].str.strip()\n",
    "df['postal_code'] = df['postal_code'].str.strip()"
   ]
  },
  {
   "cell_type": "code",
   "execution_count": 333,
   "metadata": {},
   "outputs": [
    {
     "name": "stderr",
     "output_type": "stream",
     "text": [
      "C:\\Users\\User\\AppData\\Local\\Temp\\ipykernel_30756\\3325562270.py:2: FutureWarning: The default value of regex will change from True to False in a future version.\n",
      "  df['number_of_beds'] = df['number_of_beds'].str.replace(r'[+][1234]\\s(Beds)|\\s(Beds)', '').astype(int)\n"
     ]
    }
   ],
   "source": [
    "# Strip and turn 'number_of_beds' column to an integer\n",
    "df['number_of_beds'] = df['number_of_beds'].str.replace(r'[+][1234]\\s(Beds)|\\s(Beds)', '').astype(int)\n"
   ]
  },
  {
   "cell_type": "code",
   "execution_count": 334,
   "metadata": {},
   "outputs": [
    {
     "name": "stderr",
     "output_type": "stream",
     "text": [
      "C:\\Users\\User\\AppData\\Local\\Temp\\ipykernel_30756\\1945002919.py:2: FutureWarning: The default value of regex will change from True to False in a future version.\n",
      "  df['number_of_baths'] = df['number_of_baths'].str.replace(r'\\D', '').astype(int)\n"
     ]
    }
   ],
   "source": [
    "# Remove Bath(s) from column\n",
    "df['number_of_baths'] = df['number_of_baths'].str.replace(r'\\D', '').astype(int)"
   ]
  },
  {
   "cell_type": "code",
   "execution_count": 335,
   "metadata": {},
   "outputs": [
    {
     "data": {
      "text/html": [
       "<div>\n",
       "<style scoped>\n",
       "    .dataframe tbody tr th:only-of-type {\n",
       "        vertical-align: middle;\n",
       "    }\n",
       "\n",
       "    .dataframe tbody tr th {\n",
       "        vertical-align: top;\n",
       "    }\n",
       "\n",
       "    .dataframe thead th {\n",
       "        text-align: right;\n",
       "    }\n",
       "</style>\n",
       "<table border=\"1\" class=\"dataframe\">\n",
       "  <thead>\n",
       "    <tr style=\"text-align: right;\">\n",
       "      <th></th>\n",
       "      <th>street</th>\n",
       "      <th>city</th>\n",
       "      <th>province</th>\n",
       "      <th>postal_code</th>\n",
       "      <th>style</th>\n",
       "      <th>price</th>\n",
       "      <th>number_of_beds</th>\n",
       "      <th>number_of_baths</th>\n",
       "      <th>extra_space</th>\n",
       "    </tr>\n",
       "  </thead>\n",
       "  <tbody>\n",
       "    <tr>\n",
       "      <th>0</th>\n",
       "      <td>#903 -151 AVENUE RD</td>\n",
       "      <td>Toronto</td>\n",
       "      <td>Ontario</td>\n",
       "      <td>M5R 2H7</td>\n",
       "      <td>Apartment</td>\n",
       "      <td>1955000</td>\n",
       "      <td>2</td>\n",
       "      <td>2</td>\n",
       "      <td>1</td>\n",
       "    </tr>\n",
       "    <tr>\n",
       "      <th>1</th>\n",
       "      <td>7575 4TH LINE</td>\n",
       "      <td>Centre Wellington</td>\n",
       "      <td>Ontario</td>\n",
       "      <td>N0B 1S0</td>\n",
       "      <td>Detached</td>\n",
       "      <td>1799900</td>\n",
       "      <td>5</td>\n",
       "      <td>2</td>\n",
       "      <td>0</td>\n",
       "    </tr>\n",
       "    <tr>\n",
       "      <th>2</th>\n",
       "      <td>388A WHITMORE AVE</td>\n",
       "      <td>Toronto</td>\n",
       "      <td>Ontario</td>\n",
       "      <td>M6E 2N4</td>\n",
       "      <td>Triplex</td>\n",
       "      <td>1795000</td>\n",
       "      <td>4</td>\n",
       "      <td>2</td>\n",
       "      <td>1</td>\n",
       "    </tr>\n",
       "    <tr>\n",
       "      <th>3</th>\n",
       "      <td>332 DURIE ST</td>\n",
       "      <td>Toronto</td>\n",
       "      <td>Ontario</td>\n",
       "      <td>M6S 3G3</td>\n",
       "      <td>Detached</td>\n",
       "      <td>1699000</td>\n",
       "      <td>4</td>\n",
       "      <td>2</td>\n",
       "      <td>0</td>\n",
       "    </tr>\n",
       "    <tr>\n",
       "      <th>4</th>\n",
       "      <td>71 WALMSLEY BLVD</td>\n",
       "      <td>Toronto</td>\n",
       "      <td>Ontario</td>\n",
       "      <td>M4V 1X7</td>\n",
       "      <td>Duplex</td>\n",
       "      <td>1599000</td>\n",
       "      <td>3</td>\n",
       "      <td>2</td>\n",
       "      <td>0</td>\n",
       "    </tr>\n",
       "    <tr>\n",
       "      <th>5</th>\n",
       "      <td>#319 -9909 PINE VALLEY DR</td>\n",
       "      <td>Vaughan</td>\n",
       "      <td>Ontario</td>\n",
       "      <td>L4H 4M1</td>\n",
       "      <td>Apartment</td>\n",
       "      <td>1488800</td>\n",
       "      <td>2</td>\n",
       "      <td>2</td>\n",
       "      <td>0</td>\n",
       "    </tr>\n",
       "    <tr>\n",
       "      <th>6</th>\n",
       "      <td>B130 CONCESSION ROAD 1 RD</td>\n",
       "      <td>Brock</td>\n",
       "      <td>Ontario</td>\n",
       "      <td>L0K 1A0</td>\n",
       "      <td>Detached</td>\n",
       "      <td>1399000</td>\n",
       "      <td>3</td>\n",
       "      <td>2</td>\n",
       "      <td>0</td>\n",
       "    </tr>\n",
       "    <tr>\n",
       "      <th>7</th>\n",
       "      <td>#PH01 -30 ROEHAMPTON AVE</td>\n",
       "      <td>Toronto</td>\n",
       "      <td>Ontario</td>\n",
       "      <td>M4P 1R2</td>\n",
       "      <td>Apartment</td>\n",
       "      <td>1267280</td>\n",
       "      <td>2</td>\n",
       "      <td>2</td>\n",
       "      <td>1</td>\n",
       "    </tr>\n",
       "    <tr>\n",
       "      <th>8</th>\n",
       "      <td>454638 ROAD 45 RD</td>\n",
       "      <td>Grey Highlands</td>\n",
       "      <td>Ontario</td>\n",
       "      <td>N0C 1C0</td>\n",
       "      <td>Detached</td>\n",
       "      <td>1260000</td>\n",
       "      <td>3</td>\n",
       "      <td>2</td>\n",
       "      <td>0</td>\n",
       "    </tr>\n",
       "    <tr>\n",
       "      <th>9</th>\n",
       "      <td>556 BARTON ST E</td>\n",
       "      <td>Hamilton</td>\n",
       "      <td>Ontario</td>\n",
       "      <td>L8E 5N3</td>\n",
       "      <td>Detached</td>\n",
       "      <td>1250000</td>\n",
       "      <td>3</td>\n",
       "      <td>2</td>\n",
       "      <td>0</td>\n",
       "    </tr>\n",
       "  </tbody>\n",
       "</table>\n",
       "</div>"
      ],
      "text/plain": [
       "                      street               city province postal_code  \\\n",
       "0        #903 -151 AVENUE RD            Toronto  Ontario     M5R 2H7   \n",
       "1              7575 4TH LINE  Centre Wellington  Ontario     N0B 1S0   \n",
       "2          388A WHITMORE AVE            Toronto  Ontario     M6E 2N4   \n",
       "3               332 DURIE ST            Toronto  Ontario     M6S 3G3   \n",
       "4           71 WALMSLEY BLVD            Toronto  Ontario     M4V 1X7   \n",
       "5  #319 -9909 PINE VALLEY DR            Vaughan  Ontario     L4H 4M1   \n",
       "6  B130 CONCESSION ROAD 1 RD              Brock  Ontario     L0K 1A0   \n",
       "7   #PH01 -30 ROEHAMPTON AVE            Toronto  Ontario     M4P 1R2   \n",
       "8          454638 ROAD 45 RD     Grey Highlands  Ontario     N0C 1C0   \n",
       "9            556 BARTON ST E           Hamilton  Ontario     L8E 5N3   \n",
       "\n",
       "       style    price  number_of_beds  number_of_baths  extra_space  \n",
       "0  Apartment  1955000               2                2            1  \n",
       "1   Detached  1799900               5                2            0  \n",
       "2    Triplex  1795000               4                2            1  \n",
       "3   Detached  1699000               4                2            0  \n",
       "4     Duplex  1599000               3                2            0  \n",
       "5  Apartment  1488800               2                2            0  \n",
       "6   Detached  1399000               3                2            0  \n",
       "7  Apartment  1267280               2                2            1  \n",
       "8   Detached  1260000               3                2            0  \n",
       "9   Detached  1250000               3                2            0  "
      ]
     },
     "execution_count": 335,
     "metadata": {},
     "output_type": "execute_result"
    }
   ],
   "source": [
    "# Final cleaned dataframe\n",
    "df.head(10)"
   ]
  },
  {
   "cell_type": "code",
   "execution_count": 336,
   "metadata": {},
   "outputs": [
    {
     "name": "stdout",
     "output_type": "stream",
     "text": [
      "<class 'pandas.core.frame.DataFrame'>\n",
      "RangeIndex: 617 entries, 0 to 616\n",
      "Data columns (total 9 columns):\n",
      " #   Column           Non-Null Count  Dtype \n",
      "---  ------           --------------  ----- \n",
      " 0   street           617 non-null    object\n",
      " 1   city             617 non-null    object\n",
      " 2   province         617 non-null    object\n",
      " 3   postal_code      614 non-null    object\n",
      " 4   style            617 non-null    object\n",
      " 5   price            617 non-null    int32 \n",
      " 6   number_of_beds   617 non-null    int32 \n",
      " 7   number_of_baths  617 non-null    int32 \n",
      " 8   extra_space      617 non-null    int64 \n",
      "dtypes: int32(3), int64(1), object(5)\n",
      "memory usage: 36.3+ KB\n"
     ]
    }
   ],
   "source": [
    "df.info()"
   ]
  },
  {
   "cell_type": "code",
   "execution_count": 337,
   "metadata": {},
   "outputs": [],
   "source": [
    "df = df.dropna()"
   ]
  },
  {
   "cell_type": "code",
   "execution_count": 338,
   "metadata": {},
   "outputs": [
    {
     "data": {
      "text/plain": [
       "street             0\n",
       "city               0\n",
       "province           0\n",
       "postal_code        0\n",
       "style              0\n",
       "price              0\n",
       "number_of_beds     0\n",
       "number_of_baths    0\n",
       "extra_space        0\n",
       "dtype: int64"
      ]
     },
     "execution_count": 338,
     "metadata": {},
     "output_type": "execute_result"
    }
   ],
   "source": [
    "df.isnull().sum()"
   ]
  },
  {
   "cell_type": "code",
   "execution_count": 339,
   "metadata": {},
   "outputs": [
    {
     "name": "stdout",
     "output_type": "stream",
     "text": [
      "<class 'pandas.core.frame.DataFrame'>\n",
      "Int64Index: 614 entries, 0 to 616\n",
      "Data columns (total 9 columns):\n",
      " #   Column           Non-Null Count  Dtype \n",
      "---  ------           --------------  ----- \n",
      " 0   street           614 non-null    object\n",
      " 1   city             614 non-null    object\n",
      " 2   province         614 non-null    object\n",
      " 3   postal_code      614 non-null    object\n",
      " 4   style            614 non-null    object\n",
      " 5   price            614 non-null    int32 \n",
      " 6   number_of_beds   614 non-null    int32 \n",
      " 7   number_of_baths  614 non-null    int32 \n",
      " 8   extra_space      614 non-null    int64 \n",
      "dtypes: int32(3), int64(1), object(5)\n",
      "memory usage: 40.8+ KB\n"
     ]
    }
   ],
   "source": [
    "df.info()"
   ]
  },
  {
   "cell_type": "code",
   "execution_count": 340,
   "metadata": {},
   "outputs": [],
   "source": [
    "# Export to csv file\n",
    "df.to_csv('predicting_house_price.csv')\n"
   ]
  }
 ],
 "metadata": {
  "kernelspec": {
   "display_name": "Python 3 (ipykernel)",
   "language": "python",
   "name": "python3"
  },
  "language_info": {
   "codemirror_mode": {
    "name": "ipython",
    "version": 3
   },
   "file_extension": ".py",
   "mimetype": "text/x-python",
   "name": "python",
   "nbconvert_exporter": "python",
   "pygments_lexer": "ipython3",
   "version": "3.9.12"
  }
 },
 "nbformat": 4,
 "nbformat_minor": 2
}
