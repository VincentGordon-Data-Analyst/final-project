{
 "cells": [
  {
   "cell_type": "code",
   "execution_count": 759,
   "metadata": {},
   "outputs": [],
   "source": [
    "import pandas as pd"
   ]
  },
  {
   "cell_type": "code",
   "execution_count": 760,
   "metadata": {},
   "outputs": [
    {
     "data": {
      "text/html": [
       "<div>\n",
       "<style scoped>\n",
       "    .dataframe tbody tr th:only-of-type {\n",
       "        vertical-align: middle;\n",
       "    }\n",
       "\n",
       "    .dataframe tbody tr th {\n",
       "        vertical-align: top;\n",
       "    }\n",
       "\n",
       "    .dataframe thead th {\n",
       "        text-align: right;\n",
       "    }\n",
       "</style>\n",
       "<table border=\"1\" class=\"dataframe\">\n",
       "  <thead>\n",
       "    <tr style=\"text-align: right;\">\n",
       "      <th></th>\n",
       "      <th>lat</th>\n",
       "      <th>lon</th>\n",
       "      <th>address</th>\n",
       "      <th>style</th>\n",
       "      <th>building_type</th>\n",
       "      <th>cooling_type</th>\n",
       "      <th>heating_type</th>\n",
       "      <th>fire_place</th>\n",
       "      <th>price</th>\n",
       "      <th>number_of_beds</th>\n",
       "      <th>number_of_baths</th>\n",
       "    </tr>\n",
       "  </thead>\n",
       "  <tbody>\n",
       "    <tr>\n",
       "      <th>0</th>\n",
       "      <td>43.856371</td>\n",
       "      <td>-79.337682</td>\n",
       "      <td>6 HONEYBOURNE CRES, Markham, Ontario, L3P 1P3</td>\n",
       "      <td>Detached</td>\n",
       "      <td>House</td>\n",
       "      <td>Central air conditioning</td>\n",
       "      <td>Forced air</td>\n",
       "      <td>Yes</td>\n",
       "      <td>$2,998,000</td>\n",
       "      <td>5+1 Beds</td>\n",
       "      <td>8 Baths</td>\n",
       "    </tr>\n",
       "    <tr>\n",
       "      <th>1</th>\n",
       "      <td>43.670890</td>\n",
       "      <td>-79.316931</td>\n",
       "      <td>83 BOARDWALK DR, Toronto, Ontario, M4L 3X9</td>\n",
       "      <td>Detached</td>\n",
       "      <td>House</td>\n",
       "      <td>Central air conditioning</td>\n",
       "      <td>Forced air</td>\n",
       "      <td>Yes</td>\n",
       "      <td>$2,599,900</td>\n",
       "      <td>3 Beds</td>\n",
       "      <td>4 Baths</td>\n",
       "    </tr>\n",
       "    <tr>\n",
       "      <th>2</th>\n",
       "      <td>43.447436</td>\n",
       "      <td>-79.666672</td>\n",
       "      <td>2158 PINEVIEW DR, Oakville, Ontario, L6H 5M3</td>\n",
       "      <td>Detached</td>\n",
       "      <td>House</td>\n",
       "      <td>Central air conditioning</td>\n",
       "      <td>Forced air</td>\n",
       "      <td>Yes</td>\n",
       "      <td>$1,999,000</td>\n",
       "      <td>5 Beds</td>\n",
       "      <td>4 Baths</td>\n",
       "    </tr>\n",
       "    <tr>\n",
       "      <th>3</th>\n",
       "      <td>43.156141</td>\n",
       "      <td>-79.916180</td>\n",
       "      <td>4078 HWY #6 Highway S, Mount Hope, Ontario, L0...</td>\n",
       "      <td>Detached</td>\n",
       "      <td>House</td>\n",
       "      <td>Central air conditioning</td>\n",
       "      <td>Baseboard heaters, Forced air</td>\n",
       "      <td>Yes</td>\n",
       "      <td>$1,425,000</td>\n",
       "      <td>3 Beds</td>\n",
       "      <td>3 Baths</td>\n",
       "    </tr>\n",
       "    <tr>\n",
       "      <th>4</th>\n",
       "      <td>43.880117</td>\n",
       "      <td>-79.439292</td>\n",
       "      <td>12 HERCULES CLUB DR, Richmond Hill, Ontario, L...</td>\n",
       "      <td>Townhouse</td>\n",
       "      <td>Row / Townhouse</td>\n",
       "      <td>Central air conditioning</td>\n",
       "      <td>Forced air</td>\n",
       "      <td>Yes</td>\n",
       "      <td>$1,199,000</td>\n",
       "      <td>3 Beds</td>\n",
       "      <td>3 Baths</td>\n",
       "    </tr>\n",
       "  </tbody>\n",
       "</table>\n",
       "</div>"
      ],
      "text/plain": [
       "         lat        lon                                            address  \\\n",
       "0  43.856371 -79.337682      6 HONEYBOURNE CRES, Markham, Ontario, L3P 1P3   \n",
       "1  43.670890 -79.316931         83 BOARDWALK DR, Toronto, Ontario, M4L 3X9   \n",
       "2  43.447436 -79.666672       2158 PINEVIEW DR, Oakville, Ontario, L6H 5M3   \n",
       "3  43.156141 -79.916180  4078 HWY #6 Highway S, Mount Hope, Ontario, L0...   \n",
       "4  43.880117 -79.439292  12 HERCULES CLUB DR, Richmond Hill, Ontario, L...   \n",
       "\n",
       "       style    building_type              cooling_type  \\\n",
       "0   Detached            House  Central air conditioning   \n",
       "1   Detached            House  Central air conditioning   \n",
       "2   Detached            House  Central air conditioning   \n",
       "3   Detached            House  Central air conditioning   \n",
       "4  Townhouse  Row / Townhouse  Central air conditioning   \n",
       "\n",
       "                    heating_type fire_place       price number_of_beds  \\\n",
       "0                     Forced air        Yes  $2,998,000       5+1 Beds   \n",
       "1                     Forced air        Yes  $2,599,900         3 Beds   \n",
       "2                     Forced air        Yes  $1,999,000         5 Beds   \n",
       "3  Baseboard heaters, Forced air        Yes  $1,425,000         3 Beds   \n",
       "4                     Forced air        Yes  $1,199,000         3 Beds   \n",
       "\n",
       "  number_of_baths  \n",
       "0         8 Baths  \n",
       "1         4 Baths  \n",
       "2         4 Baths  \n",
       "3         3 Baths  \n",
       "4         3 Baths  "
      ]
     },
     "execution_count": 760,
     "metadata": {},
     "output_type": "execute_result"
    }
   ],
   "source": [
    "df = pd.read_csv('./Resources/housing.csv')\n",
    "df.head()"
   ]
  },
  {
   "cell_type": "code",
   "execution_count": 761,
   "metadata": {},
   "outputs": [
    {
     "data": {
      "text/plain": [
       "(920, 11)"
      ]
     },
     "execution_count": 761,
     "metadata": {},
     "output_type": "execute_result"
    }
   ],
   "source": [
    "# (Row(s), Column(s))\n",
    "df.shape"
   ]
  },
  {
   "cell_type": "code",
   "execution_count": 762,
   "metadata": {},
   "outputs": [],
   "source": [
    "# Drop any duplicates and NaN values\n",
    "df = df.drop_duplicates().dropna()\n"
   ]
  },
  {
   "cell_type": "code",
   "execution_count": 763,
   "metadata": {},
   "outputs": [
    {
     "name": "stdout",
     "output_type": "stream",
     "text": [
      "<class 'pandas.core.frame.DataFrame'>\n",
      "Int64Index: 714 entries, 0 to 850\n",
      "Data columns (total 11 columns):\n",
      " #   Column           Non-Null Count  Dtype  \n",
      "---  ------           --------------  -----  \n",
      " 0   lat              714 non-null    float64\n",
      " 1   lon              714 non-null    float64\n",
      " 2   address          714 non-null    object \n",
      " 3   style            714 non-null    object \n",
      " 4   building_type    714 non-null    object \n",
      " 5   cooling_type     714 non-null    object \n",
      " 6   heating_type     714 non-null    object \n",
      " 7   fire_place       714 non-null    object \n",
      " 8   price            714 non-null    object \n",
      " 9   number_of_beds   714 non-null    object \n",
      " 10  number_of_baths  714 non-null    object \n",
      "dtypes: float64(2), object(9)\n",
      "memory usage: 66.9+ KB\n"
     ]
    }
   ],
   "source": [
    "df.info()"
   ]
  },
  {
   "cell_type": "code",
   "execution_count": 764,
   "metadata": {},
   "outputs": [
    {
     "name": "stderr",
     "output_type": "stream",
     "text": [
      "C:\\Users\\User\\AppData\\Local\\Temp\\ipykernel_15192\\2301450956.py:2: FutureWarning: The default value of regex will change from True to False in a future version.\n",
      "  df['price']= df['price'].str.replace(r'\\D', '').astype(int)\n"
     ]
    }
   ],
   "source": [
    "# Format price column and change data type\n",
    "df['price']= df['price'].str.replace(r'\\D', '').astype(int)\n"
   ]
  },
  {
   "cell_type": "code",
   "execution_count": 765,
   "metadata": {},
   "outputs": [
    {
     "data": {
      "text/plain": [
       "Index(['lat', 'lon', 'address', 'style', 'building_type', 'cooling_type',\n",
       "       'heating_type', 'fire_place', 'price', 'number_of_beds',\n",
       "       'number_of_baths'],\n",
       "      dtype='object')"
      ]
     },
     "execution_count": 765,
     "metadata": {},
     "output_type": "execute_result"
    }
   ],
   "source": [
    "df.columns"
   ]
  },
  {
   "cell_type": "code",
   "execution_count": 766,
   "metadata": {},
   "outputs": [],
   "source": [
    "# # Fix 'fire_place column to either Yes=1/No=0\n",
    "# df.loc[df['fire_place'] == 'Yes', 'fire_place'] = 1"
   ]
  },
  {
   "cell_type": "code",
   "execution_count": 767,
   "metadata": {},
   "outputs": [
    {
     "data": {
      "text/plain": [
       "array(['5+1 Beds', '3 Beds', '5 Beds', '4 Beds', '2+1 Beds', '2 Beds',\n",
       "       '6 Beds', '4+1 Beds', '3+2 Beds', '4+2 Beds', '3+1 Beds',\n",
       "       '2+2 Beds', '5+3 Beds', '5+2 Beds', '1+1 Beds', '1 Beds',\n",
       "       '3+3 Beds', '4+3 Beds', '2+3 Beds'], dtype=object)"
      ]
     },
     "execution_count": 767,
     "metadata": {},
     "output_type": "execute_result"
    }
   ],
   "source": [
    "# Find different values for 'number_of_beds' column\n",
    "df['number_of_beds'].unique()"
   ]
  },
  {
   "cell_type": "code",
   "execution_count": 768,
   "metadata": {},
   "outputs": [
    {
     "data": {
      "text/html": [
       "<div>\n",
       "<style scoped>\n",
       "    .dataframe tbody tr th:only-of-type {\n",
       "        vertical-align: middle;\n",
       "    }\n",
       "\n",
       "    .dataframe tbody tr th {\n",
       "        vertical-align: top;\n",
       "    }\n",
       "\n",
       "    .dataframe thead th {\n",
       "        text-align: right;\n",
       "    }\n",
       "</style>\n",
       "<table border=\"1\" class=\"dataframe\">\n",
       "  <thead>\n",
       "    <tr style=\"text-align: right;\">\n",
       "      <th></th>\n",
       "      <th>lat</th>\n",
       "      <th>lon</th>\n",
       "      <th>address</th>\n",
       "      <th>style</th>\n",
       "      <th>building_type</th>\n",
       "      <th>cooling_type</th>\n",
       "      <th>heating_type</th>\n",
       "      <th>fire_place</th>\n",
       "      <th>price</th>\n",
       "      <th>number_of_beds</th>\n",
       "      <th>number_of_baths</th>\n",
       "      <th>extra_space</th>\n",
       "    </tr>\n",
       "  </thead>\n",
       "  <tbody>\n",
       "    <tr>\n",
       "      <th>0</th>\n",
       "      <td>43.856371</td>\n",
       "      <td>-79.337682</td>\n",
       "      <td>6 HONEYBOURNE CRES, Markham, Ontario, L3P 1P3</td>\n",
       "      <td>Detached</td>\n",
       "      <td>House</td>\n",
       "      <td>Central air conditioning</td>\n",
       "      <td>Forced air</td>\n",
       "      <td>Yes</td>\n",
       "      <td>2998000</td>\n",
       "      <td>5+1 Beds</td>\n",
       "      <td>8 Baths</td>\n",
       "      <td>1</td>\n",
       "    </tr>\n",
       "    <tr>\n",
       "      <th>1</th>\n",
       "      <td>43.670890</td>\n",
       "      <td>-79.316931</td>\n",
       "      <td>83 BOARDWALK DR, Toronto, Ontario, M4L 3X9</td>\n",
       "      <td>Detached</td>\n",
       "      <td>House</td>\n",
       "      <td>Central air conditioning</td>\n",
       "      <td>Forced air</td>\n",
       "      <td>Yes</td>\n",
       "      <td>2599900</td>\n",
       "      <td>3 Beds</td>\n",
       "      <td>4 Baths</td>\n",
       "      <td>0</td>\n",
       "    </tr>\n",
       "    <tr>\n",
       "      <th>2</th>\n",
       "      <td>43.447436</td>\n",
       "      <td>-79.666672</td>\n",
       "      <td>2158 PINEVIEW DR, Oakville, Ontario, L6H 5M3</td>\n",
       "      <td>Detached</td>\n",
       "      <td>House</td>\n",
       "      <td>Central air conditioning</td>\n",
       "      <td>Forced air</td>\n",
       "      <td>Yes</td>\n",
       "      <td>1999000</td>\n",
       "      <td>5 Beds</td>\n",
       "      <td>4 Baths</td>\n",
       "      <td>0</td>\n",
       "    </tr>\n",
       "  </tbody>\n",
       "</table>\n",
       "</div>"
      ],
      "text/plain": [
       "         lat        lon                                        address  \\\n",
       "0  43.856371 -79.337682  6 HONEYBOURNE CRES, Markham, Ontario, L3P 1P3   \n",
       "1  43.670890 -79.316931     83 BOARDWALK DR, Toronto, Ontario, M4L 3X9   \n",
       "2  43.447436 -79.666672   2158 PINEVIEW DR, Oakville, Ontario, L6H 5M3   \n",
       "\n",
       "      style building_type              cooling_type heating_type fire_place  \\\n",
       "0  Detached         House  Central air conditioning   Forced air        Yes   \n",
       "1  Detached         House  Central air conditioning   Forced air        Yes   \n",
       "2  Detached         House  Central air conditioning   Forced air        Yes   \n",
       "\n",
       "     price number_of_beds number_of_baths  extra_space  \n",
       "0  2998000       5+1 Beds         8 Baths            1  \n",
       "1  2599900         3 Beds         4 Baths            0  \n",
       "2  1999000         5 Beds         4 Baths            0  "
      ]
     },
     "execution_count": 768,
     "metadata": {},
     "output_type": "execute_result"
    }
   ],
   "source": [
    "# Create 'extra_space' column if '+' is found in 'number_of_beds' column\n",
    "ex_space = []\n",
    "for i in range(len(df)):\n",
    "    row = df['number_of_beds'].iloc[i]\n",
    "    if '+' in row:\n",
    "        ex_space.append(1)\n",
    "    else:\n",
    "        ex_space.append(0)\n",
    "\n",
    "df['extra_space'] = ex_space\n",
    "\n",
    "df.head(3)"
   ]
  },
  {
   "cell_type": "code",
   "execution_count": 769,
   "metadata": {},
   "outputs": [
    {
     "data": {
      "text/html": [
       "<div>\n",
       "<style scoped>\n",
       "    .dataframe tbody tr th:only-of-type {\n",
       "        vertical-align: middle;\n",
       "    }\n",
       "\n",
       "    .dataframe tbody tr th {\n",
       "        vertical-align: top;\n",
       "    }\n",
       "\n",
       "    .dataframe thead th {\n",
       "        text-align: right;\n",
       "    }\n",
       "</style>\n",
       "<table border=\"1\" class=\"dataframe\">\n",
       "  <thead>\n",
       "    <tr style=\"text-align: right;\">\n",
       "      <th></th>\n",
       "      <th>street</th>\n",
       "      <th>city</th>\n",
       "      <th>province</th>\n",
       "      <th>postal_code</th>\n",
       "      <th>fire_place</th>\n",
       "      <th>style</th>\n",
       "      <th>lat</th>\n",
       "      <th>lon</th>\n",
       "      <th>price</th>\n",
       "      <th>number_of_beds</th>\n",
       "      <th>number_of_baths</th>\n",
       "      <th>extra_space</th>\n",
       "    </tr>\n",
       "  </thead>\n",
       "  <tbody>\n",
       "    <tr>\n",
       "      <th>0</th>\n",
       "      <td>6 HONEYBOURNE CRES</td>\n",
       "      <td>Markham</td>\n",
       "      <td>Ontario</td>\n",
       "      <td>L3P 1P3</td>\n",
       "      <td>Yes</td>\n",
       "      <td>Detached</td>\n",
       "      <td>43.856371</td>\n",
       "      <td>-79.337682</td>\n",
       "      <td>2998000</td>\n",
       "      <td>5+1 Beds</td>\n",
       "      <td>8 Baths</td>\n",
       "      <td>1</td>\n",
       "    </tr>\n",
       "    <tr>\n",
       "      <th>1</th>\n",
       "      <td>83 BOARDWALK DR</td>\n",
       "      <td>Toronto</td>\n",
       "      <td>Ontario</td>\n",
       "      <td>M4L 3X9</td>\n",
       "      <td>Yes</td>\n",
       "      <td>Detached</td>\n",
       "      <td>43.670890</td>\n",
       "      <td>-79.316931</td>\n",
       "      <td>2599900</td>\n",
       "      <td>3 Beds</td>\n",
       "      <td>4 Baths</td>\n",
       "      <td>0</td>\n",
       "    </tr>\n",
       "    <tr>\n",
       "      <th>2</th>\n",
       "      <td>2158 PINEVIEW DR</td>\n",
       "      <td>Oakville</td>\n",
       "      <td>Ontario</td>\n",
       "      <td>L6H 5M3</td>\n",
       "      <td>Yes</td>\n",
       "      <td>Detached</td>\n",
       "      <td>43.447436</td>\n",
       "      <td>-79.666672</td>\n",
       "      <td>1999000</td>\n",
       "      <td>5 Beds</td>\n",
       "      <td>4 Baths</td>\n",
       "      <td>0</td>\n",
       "    </tr>\n",
       "  </tbody>\n",
       "</table>\n",
       "</div>"
      ],
      "text/plain": [
       "               street       city  province postal_code fire_place     style  \\\n",
       "0  6 HONEYBOURNE CRES    Markham   Ontario     L3P 1P3        Yes  Detached   \n",
       "1     83 BOARDWALK DR    Toronto   Ontario     M4L 3X9        Yes  Detached   \n",
       "2    2158 PINEVIEW DR   Oakville   Ontario     L6H 5M3        Yes  Detached   \n",
       "\n",
       "         lat        lon    price number_of_beds number_of_baths  extra_space  \n",
       "0  43.856371 -79.337682  2998000       5+1 Beds         8 Baths            1  \n",
       "1  43.670890 -79.316931  2599900         3 Beds         4 Baths            0  \n",
       "2  43.447436 -79.666672  1999000         5 Beds         4 Baths            0  "
      ]
     },
     "execution_count": 769,
     "metadata": {},
     "output_type": "execute_result"
    }
   ],
   "source": [
    "# Splt up 'address' column\n",
    "df[['street', 'city', 'province','postal_code']] = df.address.str.split(',', expand=True)\n",
    "\n",
    "# Drop 'address column\n",
    "df = df.drop(columns=['address'])\n",
    "\n",
    "# Rearrange dataframe\n",
    "df = df.reindex(columns=['street', 'city', 'province', 'postal_code','fire_place','style','lat','lon', 'price', 'number_of_beds', 'number_of_baths','extra_space'])\n",
    "\n",
    "df.head(3)"
   ]
  },
  {
   "cell_type": "code",
   "execution_count": 770,
   "metadata": {},
   "outputs": [],
   "source": [
    "df['city'] = df['city'].str.strip()\n",
    "df['province'] = df['province'].str.strip()\n",
    "df['postal_code'] = df['postal_code'].str.strip()"
   ]
  },
  {
   "cell_type": "code",
   "execution_count": 771,
   "metadata": {},
   "outputs": [
    {
     "name": "stderr",
     "output_type": "stream",
     "text": [
      "C:\\Users\\User\\AppData\\Local\\Temp\\ipykernel_15192\\3325562270.py:2: FutureWarning: The default value of regex will change from True to False in a future version.\n",
      "  df['number_of_beds'] = df['number_of_beds'].str.replace(r'[+][1234]\\s(Beds)|\\s(Beds)', '').astype(int)\n"
     ]
    }
   ],
   "source": [
    "# Strip and turn 'number_of_beds' column to an integer\n",
    "df['number_of_beds'] = df['number_of_beds'].str.replace(r'[+][1234]\\s(Beds)|\\s(Beds)', '').astype(int)\n"
   ]
  },
  {
   "cell_type": "code",
   "execution_count": 772,
   "metadata": {},
   "outputs": [
    {
     "name": "stderr",
     "output_type": "stream",
     "text": [
      "C:\\Users\\User\\AppData\\Local\\Temp\\ipykernel_15192\\1945002919.py:2: FutureWarning: The default value of regex will change from True to False in a future version.\n",
      "  df['number_of_baths'] = df['number_of_baths'].str.replace(r'\\D', '').astype(int)\n"
     ]
    }
   ],
   "source": [
    "# Remove Bath(s) from column\n",
    "df['number_of_baths'] = df['number_of_baths'].str.replace(r'\\D', '').astype(int)"
   ]
  },
  {
   "cell_type": "code",
   "execution_count": 773,
   "metadata": {},
   "outputs": [
    {
     "data": {
      "text/html": [
       "<div>\n",
       "<style scoped>\n",
       "    .dataframe tbody tr th:only-of-type {\n",
       "        vertical-align: middle;\n",
       "    }\n",
       "\n",
       "    .dataframe tbody tr th {\n",
       "        vertical-align: top;\n",
       "    }\n",
       "\n",
       "    .dataframe thead th {\n",
       "        text-align: right;\n",
       "    }\n",
       "</style>\n",
       "<table border=\"1\" class=\"dataframe\">\n",
       "  <thead>\n",
       "    <tr style=\"text-align: right;\">\n",
       "      <th></th>\n",
       "      <th>street</th>\n",
       "      <th>city</th>\n",
       "      <th>province</th>\n",
       "      <th>postal_code</th>\n",
       "      <th>fire_place</th>\n",
       "      <th>style</th>\n",
       "      <th>lat</th>\n",
       "      <th>lon</th>\n",
       "      <th>price</th>\n",
       "      <th>number_of_beds</th>\n",
       "      <th>number_of_baths</th>\n",
       "      <th>extra_space</th>\n",
       "    </tr>\n",
       "  </thead>\n",
       "  <tbody>\n",
       "    <tr>\n",
       "      <th>0</th>\n",
       "      <td>6 HONEYBOURNE CRES</td>\n",
       "      <td>Markham</td>\n",
       "      <td>Ontario</td>\n",
       "      <td>L3P 1P3</td>\n",
       "      <td>Yes</td>\n",
       "      <td>Detached</td>\n",
       "      <td>43.856371</td>\n",
       "      <td>-79.337682</td>\n",
       "      <td>2998000</td>\n",
       "      <td>5</td>\n",
       "      <td>8</td>\n",
       "      <td>1</td>\n",
       "    </tr>\n",
       "    <tr>\n",
       "      <th>1</th>\n",
       "      <td>83 BOARDWALK DR</td>\n",
       "      <td>Toronto</td>\n",
       "      <td>Ontario</td>\n",
       "      <td>M4L 3X9</td>\n",
       "      <td>Yes</td>\n",
       "      <td>Detached</td>\n",
       "      <td>43.670890</td>\n",
       "      <td>-79.316931</td>\n",
       "      <td>2599900</td>\n",
       "      <td>3</td>\n",
       "      <td>4</td>\n",
       "      <td>0</td>\n",
       "    </tr>\n",
       "    <tr>\n",
       "      <th>2</th>\n",
       "      <td>2158 PINEVIEW DR</td>\n",
       "      <td>Oakville</td>\n",
       "      <td>Ontario</td>\n",
       "      <td>L6H 5M3</td>\n",
       "      <td>Yes</td>\n",
       "      <td>Detached</td>\n",
       "      <td>43.447436</td>\n",
       "      <td>-79.666672</td>\n",
       "      <td>1999000</td>\n",
       "      <td>5</td>\n",
       "      <td>4</td>\n",
       "      <td>0</td>\n",
       "    </tr>\n",
       "  </tbody>\n",
       "</table>\n",
       "</div>"
      ],
      "text/plain": [
       "               street      city province postal_code fire_place     style  \\\n",
       "0  6 HONEYBOURNE CRES   Markham  Ontario     L3P 1P3        Yes  Detached   \n",
       "1     83 BOARDWALK DR   Toronto  Ontario     M4L 3X9        Yes  Detached   \n",
       "2    2158 PINEVIEW DR  Oakville  Ontario     L6H 5M3        Yes  Detached   \n",
       "\n",
       "         lat        lon    price  number_of_beds  number_of_baths  extra_space  \n",
       "0  43.856371 -79.337682  2998000               5                8            1  \n",
       "1  43.670890 -79.316931  2599900               3                4            0  \n",
       "2  43.447436 -79.666672  1999000               5                4            0  "
      ]
     },
     "execution_count": 773,
     "metadata": {},
     "output_type": "execute_result"
    }
   ],
   "source": [
    "# Final cleaned dataframe\n",
    "df.head(3)"
   ]
  },
  {
   "cell_type": "code",
   "execution_count": 774,
   "metadata": {},
   "outputs": [
    {
     "name": "stdout",
     "output_type": "stream",
     "text": [
      "<class 'pandas.core.frame.DataFrame'>\n",
      "Int64Index: 714 entries, 0 to 850\n",
      "Data columns (total 12 columns):\n",
      " #   Column           Non-Null Count  Dtype  \n",
      "---  ------           --------------  -----  \n",
      " 0   street           714 non-null    object \n",
      " 1   city             714 non-null    object \n",
      " 2   province         714 non-null    object \n",
      " 3   postal_code      710 non-null    object \n",
      " 4   fire_place       714 non-null    object \n",
      " 5   style            714 non-null    object \n",
      " 6   lat              714 non-null    float64\n",
      " 7   lon              714 non-null    float64\n",
      " 8   price            714 non-null    int32  \n",
      " 9   number_of_beds   714 non-null    int32  \n",
      " 10  number_of_baths  714 non-null    int32  \n",
      " 11  extra_space      714 non-null    int64  \n",
      "dtypes: float64(2), int32(3), int64(1), object(6)\n",
      "memory usage: 64.1+ KB\n"
     ]
    }
   ],
   "source": [
    "df.info()"
   ]
  },
  {
   "cell_type": "code",
   "execution_count": 775,
   "metadata": {},
   "outputs": [],
   "source": [
    "# Export to csv file\n",
    "df.to_csv('predicting_house_price.csv')\n"
   ]
  }
 ],
 "metadata": {
  "kernelspec": {
   "display_name": "Python 3 (ipykernel)",
   "language": "python",
   "name": "python3"
  },
  "language_info": {
   "codemirror_mode": {
    "name": "ipython",
    "version": 3
   },
   "file_extension": ".py",
   "mimetype": "text/x-python",
   "name": "python",
   "nbconvert_exporter": "python",
   "pygments_lexer": "ipython3",
   "version": "3.9.13"
  }
 },
 "nbformat": 4,
 "nbformat_minor": 2
}
