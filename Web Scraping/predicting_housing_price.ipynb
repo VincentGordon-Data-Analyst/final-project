{
 "cells": [
  {
   "cell_type": "code",
   "execution_count": 156,
   "metadata": {},
   "outputs": [],
   "source": [
    "import pandas as pd"
   ]
  },
  {
   "cell_type": "code",
   "execution_count": 157,
   "metadata": {},
   "outputs": [
    {
     "data": {
      "text/html": [
       "<div>\n",
       "<style scoped>\n",
       "    .dataframe tbody tr th:only-of-type {\n",
       "        vertical-align: middle;\n",
       "    }\n",
       "\n",
       "    .dataframe tbody tr th {\n",
       "        vertical-align: top;\n",
       "    }\n",
       "\n",
       "    .dataframe thead th {\n",
       "        text-align: right;\n",
       "    }\n",
       "</style>\n",
       "<table border=\"1\" class=\"dataframe\">\n",
       "  <thead>\n",
       "    <tr style=\"text-align: right;\">\n",
       "      <th></th>\n",
       "      <th>address</th>\n",
       "      <th>price</th>\n",
       "      <th>number_of_beds</th>\n",
       "      <th>number_of_baths</th>\n",
       "      <th>style</th>\n",
       "    </tr>\n",
       "  </thead>\n",
       "  <tbody>\n",
       "    <tr>\n",
       "      <th>0</th>\n",
       "      <td>#4002 -1 YORKVILLE AVE, Toronto, Ontario, M4W 1L1</td>\n",
       "      <td>$1,169,000</td>\n",
       "      <td>2 Beds</td>\n",
       "      <td>2 Baths</td>\n",
       "      <td>Apartment</td>\n",
       "    </tr>\n",
       "    <tr>\n",
       "      <th>1</th>\n",
       "      <td>#4204 -12 YORK ST, Toronto, Ontario, M5J 0A9</td>\n",
       "      <td>$999,000</td>\n",
       "      <td>3+1 Beds</td>\n",
       "      <td>2 Baths</td>\n",
       "      <td>Apartment</td>\n",
       "    </tr>\n",
       "    <tr>\n",
       "      <th>2</th>\n",
       "      <td>7 PENDEEN AVE, Toronto, Ontario, M6N 2P4</td>\n",
       "      <td>$899,000</td>\n",
       "      <td>3+1 Beds</td>\n",
       "      <td>2 Baths</td>\n",
       "      <td>Detached</td>\n",
       "    </tr>\n",
       "    <tr>\n",
       "      <th>3</th>\n",
       "      <td>431 GLENHOLME AVE, Toronto, Ontario, M6E 3E9</td>\n",
       "      <td>$849,000</td>\n",
       "      <td>3+2 Beds</td>\n",
       "      <td>2 Baths</td>\n",
       "      <td>Detached</td>\n",
       "    </tr>\n",
       "    <tr>\n",
       "      <th>4</th>\n",
       "      <td>#611 -15 SINGER CRT, Toronto, Ontario, M2K 0B1</td>\n",
       "      <td>$665,000</td>\n",
       "      <td>1+1 Beds</td>\n",
       "      <td>2 Baths</td>\n",
       "      <td>Apartment</td>\n",
       "    </tr>\n",
       "  </tbody>\n",
       "</table>\n",
       "</div>"
      ],
      "text/plain": [
       "                                             address       price  \\\n",
       "0  #4002 -1 YORKVILLE AVE, Toronto, Ontario, M4W 1L1  $1,169,000   \n",
       "1       #4204 -12 YORK ST, Toronto, Ontario, M5J 0A9    $999,000   \n",
       "2           7 PENDEEN AVE, Toronto, Ontario, M6N 2P4    $899,000   \n",
       "3       431 GLENHOLME AVE, Toronto, Ontario, M6E 3E9    $849,000   \n",
       "4     #611 -15 SINGER CRT, Toronto, Ontario, M2K 0B1    $665,000   \n",
       "\n",
       "  number_of_beds number_of_baths      style  \n",
       "0         2 Beds         2 Baths  Apartment  \n",
       "1       3+1 Beds         2 Baths  Apartment  \n",
       "2       3+1 Beds         2 Baths   Detached  \n",
       "3       3+2 Beds         2 Baths   Detached  \n",
       "4       1+1 Beds         2 Baths  Apartment  "
      ]
     },
     "execution_count": 157,
     "metadata": {},
     "output_type": "execute_result"
    }
   ],
   "source": [
    "df = pd.read_csv('./Resources/housing.csv')\n",
    "df.head()"
   ]
  },
  {
   "cell_type": "code",
   "execution_count": 158,
   "metadata": {},
   "outputs": [
    {
     "data": {
      "text/plain": [
       "(936, 5)"
      ]
     },
     "execution_count": 158,
     "metadata": {},
     "output_type": "execute_result"
    }
   ],
   "source": [
    "df.shape"
   ]
  },
  {
   "cell_type": "code",
   "execution_count": 159,
   "metadata": {},
   "outputs": [
    {
     "name": "stdout",
     "output_type": "stream",
     "text": [
      "<class 'pandas.core.frame.DataFrame'>\n",
      "RangeIndex: 936 entries, 0 to 935\n",
      "Data columns (total 5 columns):\n",
      " #   Column           Non-Null Count  Dtype \n",
      "---  ------           --------------  ----- \n",
      " 0   address          936 non-null    object\n",
      " 1   price            936 non-null    object\n",
      " 2   number_of_beds   936 non-null    object\n",
      " 3   number_of_baths  936 non-null    object\n",
      " 4   style            936 non-null    object\n",
      "dtypes: object(5)\n",
      "memory usage: 36.7+ KB\n"
     ]
    }
   ],
   "source": [
    "df.info()"
   ]
  },
  {
   "cell_type": "code",
   "execution_count": 160,
   "metadata": {},
   "outputs": [
    {
     "name": "stderr",
     "output_type": "stream",
     "text": [
      "C:\\Users\\User\\AppData\\Local\\Temp\\ipykernel_30756\\1397200533.py:2: FutureWarning: The default value of regex will change from True to False in a future version.\n",
      "  df['price']= df['price'].str.replace(r'\\D', '').astype(int)\n"
     ]
    },
    {
     "data": {
      "text/html": [
       "<div>\n",
       "<style scoped>\n",
       "    .dataframe tbody tr th:only-of-type {\n",
       "        vertical-align: middle;\n",
       "    }\n",
       "\n",
       "    .dataframe tbody tr th {\n",
       "        vertical-align: top;\n",
       "    }\n",
       "\n",
       "    .dataframe thead th {\n",
       "        text-align: right;\n",
       "    }\n",
       "</style>\n",
       "<table border=\"1\" class=\"dataframe\">\n",
       "  <thead>\n",
       "    <tr style=\"text-align: right;\">\n",
       "      <th></th>\n",
       "      <th>address</th>\n",
       "      <th>price</th>\n",
       "      <th>number_of_beds</th>\n",
       "      <th>number_of_baths</th>\n",
       "      <th>style</th>\n",
       "    </tr>\n",
       "  </thead>\n",
       "  <tbody>\n",
       "    <tr>\n",
       "      <th>0</th>\n",
       "      <td>#4002 -1 YORKVILLE AVE, Toronto, Ontario, M4W 1L1</td>\n",
       "      <td>1169000</td>\n",
       "      <td>2 Beds</td>\n",
       "      <td>2 Baths</td>\n",
       "      <td>Apartment</td>\n",
       "    </tr>\n",
       "    <tr>\n",
       "      <th>1</th>\n",
       "      <td>#4204 -12 YORK ST, Toronto, Ontario, M5J 0A9</td>\n",
       "      <td>999000</td>\n",
       "      <td>3+1 Beds</td>\n",
       "      <td>2 Baths</td>\n",
       "      <td>Apartment</td>\n",
       "    </tr>\n",
       "    <tr>\n",
       "      <th>2</th>\n",
       "      <td>7 PENDEEN AVE, Toronto, Ontario, M6N 2P4</td>\n",
       "      <td>899000</td>\n",
       "      <td>3+1 Beds</td>\n",
       "      <td>2 Baths</td>\n",
       "      <td>Detached</td>\n",
       "    </tr>\n",
       "    <tr>\n",
       "      <th>3</th>\n",
       "      <td>431 GLENHOLME AVE, Toronto, Ontario, M6E 3E9</td>\n",
       "      <td>849000</td>\n",
       "      <td>3+2 Beds</td>\n",
       "      <td>2 Baths</td>\n",
       "      <td>Detached</td>\n",
       "    </tr>\n",
       "    <tr>\n",
       "      <th>4</th>\n",
       "      <td>#611 -15 SINGER CRT, Toronto, Ontario, M2K 0B1</td>\n",
       "      <td>665000</td>\n",
       "      <td>1+1 Beds</td>\n",
       "      <td>2 Baths</td>\n",
       "      <td>Apartment</td>\n",
       "    </tr>\n",
       "  </tbody>\n",
       "</table>\n",
       "</div>"
      ],
      "text/plain": [
       "                                             address    price number_of_beds  \\\n",
       "0  #4002 -1 YORKVILLE AVE, Toronto, Ontario, M4W 1L1  1169000         2 Beds   \n",
       "1       #4204 -12 YORK ST, Toronto, Ontario, M5J 0A9   999000       3+1 Beds   \n",
       "2           7 PENDEEN AVE, Toronto, Ontario, M6N 2P4   899000       3+1 Beds   \n",
       "3       431 GLENHOLME AVE, Toronto, Ontario, M6E 3E9   849000       3+2 Beds   \n",
       "4     #611 -15 SINGER CRT, Toronto, Ontario, M2K 0B1   665000       1+1 Beds   \n",
       "\n",
       "  number_of_baths      style  \n",
       "0         2 Baths  Apartment  \n",
       "1         2 Baths  Apartment  \n",
       "2         2 Baths   Detached  \n",
       "3         2 Baths   Detached  \n",
       "4         2 Baths  Apartment  "
      ]
     },
     "execution_count": 160,
     "metadata": {},
     "output_type": "execute_result"
    }
   ],
   "source": [
    "# Format price column and change data type\n",
    "df['price']= df['price'].str.replace(r'\\D', '').astype(int)\n",
    "df.head()"
   ]
  },
  {
   "cell_type": "code",
   "execution_count": 161,
   "metadata": {},
   "outputs": [
    {
     "data": {
      "text/plain": [
       "array(['2 Beds', '3+1 Beds', '3+2 Beds', '1+1 Beds', '2+1 Beds', '3 Beds',\n",
       "       '5 Beds', '4 Beds', '4+1 Beds', '2+2 Beds', '4+2 Beds', '8 Beds',\n",
       "       '3+3 Beds', '1 Beds', '4+3 Beds', '5+1 Beds', '6 Beds'],\n",
       "      dtype=object)"
      ]
     },
     "execution_count": 161,
     "metadata": {},
     "output_type": "execute_result"
    }
   ],
   "source": [
    "# Find different values for 'number_of_beds' column\n",
    "df['number_of_beds'].unique()"
   ]
  },
  {
   "cell_type": "code",
   "execution_count": 162,
   "metadata": {},
   "outputs": [
    {
     "data": {
      "text/html": [
       "<div>\n",
       "<style scoped>\n",
       "    .dataframe tbody tr th:only-of-type {\n",
       "        vertical-align: middle;\n",
       "    }\n",
       "\n",
       "    .dataframe tbody tr th {\n",
       "        vertical-align: top;\n",
       "    }\n",
       "\n",
       "    .dataframe thead th {\n",
       "        text-align: right;\n",
       "    }\n",
       "</style>\n",
       "<table border=\"1\" class=\"dataframe\">\n",
       "  <thead>\n",
       "    <tr style=\"text-align: right;\">\n",
       "      <th></th>\n",
       "      <th>address</th>\n",
       "      <th>price</th>\n",
       "      <th>number_of_beds</th>\n",
       "      <th>number_of_baths</th>\n",
       "      <th>style</th>\n",
       "      <th>extra_space</th>\n",
       "    </tr>\n",
       "  </thead>\n",
       "  <tbody>\n",
       "    <tr>\n",
       "      <th>0</th>\n",
       "      <td>#4002 -1 YORKVILLE AVE, Toronto, Ontario, M4W 1L1</td>\n",
       "      <td>1169000</td>\n",
       "      <td>2 Beds</td>\n",
       "      <td>2 Baths</td>\n",
       "      <td>Apartment</td>\n",
       "      <td>0</td>\n",
       "    </tr>\n",
       "    <tr>\n",
       "      <th>1</th>\n",
       "      <td>#4204 -12 YORK ST, Toronto, Ontario, M5J 0A9</td>\n",
       "      <td>999000</td>\n",
       "      <td>3+1 Beds</td>\n",
       "      <td>2 Baths</td>\n",
       "      <td>Apartment</td>\n",
       "      <td>1</td>\n",
       "    </tr>\n",
       "    <tr>\n",
       "      <th>2</th>\n",
       "      <td>7 PENDEEN AVE, Toronto, Ontario, M6N 2P4</td>\n",
       "      <td>899000</td>\n",
       "      <td>3+1 Beds</td>\n",
       "      <td>2 Baths</td>\n",
       "      <td>Detached</td>\n",
       "      <td>1</td>\n",
       "    </tr>\n",
       "    <tr>\n",
       "      <th>3</th>\n",
       "      <td>431 GLENHOLME AVE, Toronto, Ontario, M6E 3E9</td>\n",
       "      <td>849000</td>\n",
       "      <td>3+2 Beds</td>\n",
       "      <td>2 Baths</td>\n",
       "      <td>Detached</td>\n",
       "      <td>1</td>\n",
       "    </tr>\n",
       "    <tr>\n",
       "      <th>4</th>\n",
       "      <td>#611 -15 SINGER CRT, Toronto, Ontario, M2K 0B1</td>\n",
       "      <td>665000</td>\n",
       "      <td>1+1 Beds</td>\n",
       "      <td>2 Baths</td>\n",
       "      <td>Apartment</td>\n",
       "      <td>1</td>\n",
       "    </tr>\n",
       "  </tbody>\n",
       "</table>\n",
       "</div>"
      ],
      "text/plain": [
       "                                             address    price number_of_beds  \\\n",
       "0  #4002 -1 YORKVILLE AVE, Toronto, Ontario, M4W 1L1  1169000         2 Beds   \n",
       "1       #4204 -12 YORK ST, Toronto, Ontario, M5J 0A9   999000       3+1 Beds   \n",
       "2           7 PENDEEN AVE, Toronto, Ontario, M6N 2P4   899000       3+1 Beds   \n",
       "3       431 GLENHOLME AVE, Toronto, Ontario, M6E 3E9   849000       3+2 Beds   \n",
       "4     #611 -15 SINGER CRT, Toronto, Ontario, M2K 0B1   665000       1+1 Beds   \n",
       "\n",
       "  number_of_baths      style  extra_space  \n",
       "0         2 Baths  Apartment            0  \n",
       "1         2 Baths  Apartment            1  \n",
       "2         2 Baths   Detached            1  \n",
       "3         2 Baths   Detached            1  \n",
       "4         2 Baths  Apartment            1  "
      ]
     },
     "execution_count": 162,
     "metadata": {},
     "output_type": "execute_result"
    }
   ],
   "source": [
    "# Create 'extra_space' column if '+' is found in 'number_of_beds' column\n",
    "ex_space = []\n",
    "for i in range(len(df['number_of_beds'])):\n",
    "    row = df['number_of_beds'][i]\n",
    "    if '+' in row:\n",
    "        ex_space.append(1)\n",
    "    else:\n",
    "        ex_space.append(0)\n",
    "\n",
    "df['extra_space'] = ex_space\n",
    "\n",
    "df.head()"
   ]
  },
  {
   "cell_type": "code",
   "execution_count": 163,
   "metadata": {},
   "outputs": [
    {
     "name": "stderr",
     "output_type": "stream",
     "text": [
      "C:\\Users\\User\\AppData\\Local\\Temp\\ipykernel_30756\\3325562270.py:2: FutureWarning: The default value of regex will change from True to False in a future version.\n",
      "  df['number_of_beds'] = df['number_of_beds'].str.replace(r'[+][1234]\\s(Beds)|\\s(Beds)', '').astype(int)\n"
     ]
    }
   ],
   "source": [
    "# Strip and turn 'number_of_beds' column to an integer\n",
    "df['number_of_beds'] = df['number_of_beds'].str.replace(r'[+][1234]\\s(Beds)|\\s(Beds)', '').astype(int)\n"
   ]
  },
  {
   "cell_type": "code",
   "execution_count": 164,
   "metadata": {},
   "outputs": [
    {
     "name": "stderr",
     "output_type": "stream",
     "text": [
      "C:\\Users\\User\\AppData\\Local\\Temp\\ipykernel_30756\\1945002919.py:2: FutureWarning: The default value of regex will change from True to False in a future version.\n",
      "  df['number_of_baths'] = df['number_of_baths'].str.replace(r'\\D', '').astype(int)\n"
     ]
    }
   ],
   "source": [
    "# Remove Bath(s) from column\n",
    "df['number_of_baths'] = df['number_of_baths'].str.replace(r'\\D', '').astype(int)"
   ]
  },
  {
   "cell_type": "code",
   "execution_count": 167,
   "metadata": {},
   "outputs": [
    {
     "data": {
      "text/html": [
       "<div>\n",
       "<style scoped>\n",
       "    .dataframe tbody tr th:only-of-type {\n",
       "        vertical-align: middle;\n",
       "    }\n",
       "\n",
       "    .dataframe tbody tr th {\n",
       "        vertical-align: top;\n",
       "    }\n",
       "\n",
       "    .dataframe thead th {\n",
       "        text-align: right;\n",
       "    }\n",
       "</style>\n",
       "<table border=\"1\" class=\"dataframe\">\n",
       "  <thead>\n",
       "    <tr style=\"text-align: right;\">\n",
       "      <th></th>\n",
       "      <th>address</th>\n",
       "      <th>price</th>\n",
       "      <th>number_of_beds</th>\n",
       "      <th>number_of_baths</th>\n",
       "      <th>style</th>\n",
       "      <th>extra_space</th>\n",
       "    </tr>\n",
       "  </thead>\n",
       "  <tbody>\n",
       "    <tr>\n",
       "      <th>0</th>\n",
       "      <td>#4002 -1 YORKVILLE AVE, Toronto, Ontario, M4W 1L1</td>\n",
       "      <td>1169000</td>\n",
       "      <td>2</td>\n",
       "      <td>2</td>\n",
       "      <td>Apartment</td>\n",
       "      <td>0</td>\n",
       "    </tr>\n",
       "    <tr>\n",
       "      <th>1</th>\n",
       "      <td>#4204 -12 YORK ST, Toronto, Ontario, M5J 0A9</td>\n",
       "      <td>999000</td>\n",
       "      <td>3</td>\n",
       "      <td>2</td>\n",
       "      <td>Apartment</td>\n",
       "      <td>1</td>\n",
       "    </tr>\n",
       "    <tr>\n",
       "      <th>2</th>\n",
       "      <td>7 PENDEEN AVE, Toronto, Ontario, M6N 2P4</td>\n",
       "      <td>899000</td>\n",
       "      <td>3</td>\n",
       "      <td>2</td>\n",
       "      <td>Detached</td>\n",
       "      <td>1</td>\n",
       "    </tr>\n",
       "    <tr>\n",
       "      <th>3</th>\n",
       "      <td>431 GLENHOLME AVE, Toronto, Ontario, M6E 3E9</td>\n",
       "      <td>849000</td>\n",
       "      <td>3</td>\n",
       "      <td>2</td>\n",
       "      <td>Detached</td>\n",
       "      <td>1</td>\n",
       "    </tr>\n",
       "    <tr>\n",
       "      <th>4</th>\n",
       "      <td>#611 -15 SINGER CRT, Toronto, Ontario, M2K 0B1</td>\n",
       "      <td>665000</td>\n",
       "      <td>1</td>\n",
       "      <td>2</td>\n",
       "      <td>Apartment</td>\n",
       "      <td>1</td>\n",
       "    </tr>\n",
       "    <tr>\n",
       "      <th>5</th>\n",
       "      <td>#1010 -6 EVA RD, Toronto, Ontario, M9C 0B1</td>\n",
       "      <td>634900</td>\n",
       "      <td>2</td>\n",
       "      <td>2</td>\n",
       "      <td>Apartment</td>\n",
       "      <td>0</td>\n",
       "    </tr>\n",
       "    <tr>\n",
       "      <th>6</th>\n",
       "      <td>#1046 -100 MORNELLE CRT, Toronto, Ontario, M1E...</td>\n",
       "      <td>499900</td>\n",
       "      <td>2</td>\n",
       "      <td>2</td>\n",
       "      <td>Townhouse</td>\n",
       "      <td>1</td>\n",
       "    </tr>\n",
       "    <tr>\n",
       "      <th>7</th>\n",
       "      <td>#1111 -36 LISGAR ST, Toronto, Ontario, M6J 0C7</td>\n",
       "      <td>499000</td>\n",
       "      <td>2</td>\n",
       "      <td>2</td>\n",
       "      <td>Apartment</td>\n",
       "      <td>0</td>\n",
       "    </tr>\n",
       "    <tr>\n",
       "      <th>8</th>\n",
       "      <td>92 DAY AVE, Toronto, Ontario, M6E 3V9</td>\n",
       "      <td>1189000</td>\n",
       "      <td>3</td>\n",
       "      <td>2</td>\n",
       "      <td>Detached</td>\n",
       "      <td>1</td>\n",
       "    </tr>\n",
       "    <tr>\n",
       "      <th>9</th>\n",
       "      <td>#403 -20 TUBMAN AVE, Toronto, Ontario, M5A 0M5</td>\n",
       "      <td>1145000</td>\n",
       "      <td>3</td>\n",
       "      <td>2</td>\n",
       "      <td>Apartment</td>\n",
       "      <td>0</td>\n",
       "    </tr>\n",
       "  </tbody>\n",
       "</table>\n",
       "</div>"
      ],
      "text/plain": [
       "                                             address    price  number_of_beds  \\\n",
       "0  #4002 -1 YORKVILLE AVE, Toronto, Ontario, M4W 1L1  1169000               2   \n",
       "1       #4204 -12 YORK ST, Toronto, Ontario, M5J 0A9   999000               3   \n",
       "2           7 PENDEEN AVE, Toronto, Ontario, M6N 2P4   899000               3   \n",
       "3       431 GLENHOLME AVE, Toronto, Ontario, M6E 3E9   849000               3   \n",
       "4     #611 -15 SINGER CRT, Toronto, Ontario, M2K 0B1   665000               1   \n",
       "5         #1010 -6 EVA RD, Toronto, Ontario, M9C 0B1   634900               2   \n",
       "6  #1046 -100 MORNELLE CRT, Toronto, Ontario, M1E...   499900               2   \n",
       "7     #1111 -36 LISGAR ST, Toronto, Ontario, M6J 0C7   499000               2   \n",
       "8              92 DAY AVE, Toronto, Ontario, M6E 3V9  1189000               3   \n",
       "9     #403 -20 TUBMAN AVE, Toronto, Ontario, M5A 0M5  1145000               3   \n",
       "\n",
       "   number_of_baths      style  extra_space  \n",
       "0                2  Apartment            0  \n",
       "1                2  Apartment            1  \n",
       "2                2   Detached            1  \n",
       "3                2   Detached            1  \n",
       "4                2  Apartment            1  \n",
       "5                2  Apartment            0  \n",
       "6                2  Townhouse            1  \n",
       "7                2  Apartment            0  \n",
       "8                2   Detached            1  \n",
       "9                2  Apartment            0  "
      ]
     },
     "execution_count": 167,
     "metadata": {},
     "output_type": "execute_result"
    }
   ],
   "source": [
    "# Final cleaned dataframe\n",
    "df.head(10)"
   ]
  },
  {
   "cell_type": "code",
   "execution_count": 165,
   "metadata": {},
   "outputs": [
    {
     "name": "stdout",
     "output_type": "stream",
     "text": [
      "<class 'pandas.core.frame.DataFrame'>\n",
      "RangeIndex: 936 entries, 0 to 935\n",
      "Data columns (total 6 columns):\n",
      " #   Column           Non-Null Count  Dtype \n",
      "---  ------           --------------  ----- \n",
      " 0   address          936 non-null    object\n",
      " 1   price            936 non-null    int32 \n",
      " 2   number_of_beds   936 non-null    int32 \n",
      " 3   number_of_baths  936 non-null    int32 \n",
      " 4   style            936 non-null    object\n",
      " 5   extra_space      936 non-null    int64 \n",
      "dtypes: int32(3), int64(1), object(2)\n",
      "memory usage: 33.0+ KB\n"
     ]
    }
   ],
   "source": [
    "df.info()"
   ]
  }
 ],
 "metadata": {
  "kernelspec": {
   "display_name": "Python 3 (ipykernel)",
   "language": "python",
   "name": "python3"
  },
  "language_info": {
   "codemirror_mode": {
    "name": "ipython",
    "version": 3
   },
   "file_extension": ".py",
   "mimetype": "text/x-python",
   "name": "python",
   "nbconvert_exporter": "python",
   "pygments_lexer": "ipython3",
   "version": "3.9.12"
  }
 },
 "nbformat": 4,
 "nbformat_minor": 2
}
