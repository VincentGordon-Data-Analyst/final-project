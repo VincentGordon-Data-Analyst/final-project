{
 "cells": [
  {
   "cell_type": "code",
   "execution_count": 100,
   "metadata": {},
   "outputs": [],
   "source": [
    "import pandas as pd"
   ]
  },
  {
   "cell_type": "code",
   "execution_count": 101,
   "metadata": {},
   "outputs": [
    {
     "data": {
      "text/html": [
       "<div>\n",
       "<style scoped>\n",
       "    .dataframe tbody tr th:only-of-type {\n",
       "        vertical-align: middle;\n",
       "    }\n",
       "\n",
       "    .dataframe tbody tr th {\n",
       "        vertical-align: top;\n",
       "    }\n",
       "\n",
       "    .dataframe thead th {\n",
       "        text-align: right;\n",
       "    }\n",
       "</style>\n",
       "<table border=\"1\" class=\"dataframe\">\n",
       "  <thead>\n",
       "    <tr style=\"text-align: right;\">\n",
       "      <th></th>\n",
       "      <th>address</th>\n",
       "      <th>price</th>\n",
       "      <th>number_of_beds</th>\n",
       "      <th>number_of_baths</th>\n",
       "      <th>style</th>\n",
       "    </tr>\n",
       "  </thead>\n",
       "  <tbody>\n",
       "    <tr>\n",
       "      <th>0</th>\n",
       "      <td>#1912 -1 MARKET ST, Toronto, Ontario, M5E 0A2</td>\n",
       "      <td>$1,100,000</td>\n",
       "      <td>2 Beds</td>\n",
       "      <td>2 Baths</td>\n",
       "      <td>Apartment</td>\n",
       "    </tr>\n",
       "    <tr>\n",
       "      <th>1</th>\n",
       "      <td>61 BARRYMORE RD, Toronto, Ontario, M1J 1W4</td>\n",
       "      <td>$998,888</td>\n",
       "      <td>3+1 Beds</td>\n",
       "      <td>2 Baths</td>\n",
       "      <td>Detached</td>\n",
       "    </tr>\n",
       "    <tr>\n",
       "      <th>2</th>\n",
       "      <td>#1203 -5 KENNETH AVE, Toronto, Ontario, M2N 6M7</td>\n",
       "      <td>$899,000</td>\n",
       "      <td>2+1 Beds</td>\n",
       "      <td>2 Baths</td>\n",
       "      <td>Apartment</td>\n",
       "    </tr>\n",
       "    <tr>\n",
       "      <th>3</th>\n",
       "      <td>#3210 -10 PARK LAWN RD, Toronto, Ontario, M8V 0H9</td>\n",
       "      <td>$895,000</td>\n",
       "      <td>2+1 Beds</td>\n",
       "      <td>2 Baths</td>\n",
       "      <td>Apartment</td>\n",
       "    </tr>\n",
       "    <tr>\n",
       "      <th>4</th>\n",
       "      <td>#606 -60 FAIRFAX CRES, Toronto, Ontario, M1L 1Z8</td>\n",
       "      <td>$659,500</td>\n",
       "      <td>2+1 Beds</td>\n",
       "      <td>2 Baths</td>\n",
       "      <td>Apartment</td>\n",
       "    </tr>\n",
       "  </tbody>\n",
       "</table>\n",
       "</div>"
      ],
      "text/plain": [
       "                                             address       price  \\\n",
       "0      #1912 -1 MARKET ST, Toronto, Ontario, M5E 0A2  $1,100,000   \n",
       "1         61 BARRYMORE RD, Toronto, Ontario, M1J 1W4    $998,888   \n",
       "2    #1203 -5 KENNETH AVE, Toronto, Ontario, M2N 6M7    $899,000   \n",
       "3  #3210 -10 PARK LAWN RD, Toronto, Ontario, M8V 0H9    $895,000   \n",
       "4   #606 -60 FAIRFAX CRES, Toronto, Ontario, M1L 1Z8    $659,500   \n",
       "\n",
       "  number_of_beds number_of_baths      style  \n",
       "0         2 Beds         2 Baths  Apartment  \n",
       "1       3+1 Beds         2 Baths   Detached  \n",
       "2       2+1 Beds         2 Baths  Apartment  \n",
       "3       2+1 Beds         2 Baths  Apartment  \n",
       "4       2+1 Beds         2 Baths  Apartment  "
      ]
     },
     "execution_count": 101,
     "metadata": {},
     "output_type": "execute_result"
    }
   ],
   "source": [
    "df = pd.read_csv('./Resources/housing.csv')\n",
    "df.head()"
   ]
  },
  {
   "cell_type": "code",
   "execution_count": 102,
   "metadata": {},
   "outputs": [
    {
     "data": {
      "text/plain": [
       "(92, 5)"
      ]
     },
     "execution_count": 102,
     "metadata": {},
     "output_type": "execute_result"
    }
   ],
   "source": [
    "df.shape"
   ]
  },
  {
   "cell_type": "code",
   "execution_count": 103,
   "metadata": {},
   "outputs": [
    {
     "name": "stdout",
     "output_type": "stream",
     "text": [
      "<class 'pandas.core.frame.DataFrame'>\n",
      "RangeIndex: 92 entries, 0 to 91\n",
      "Data columns (total 5 columns):\n",
      " #   Column           Non-Null Count  Dtype \n",
      "---  ------           --------------  ----- \n",
      " 0   address          92 non-null     object\n",
      " 1   price            92 non-null     object\n",
      " 2   number_of_beds   92 non-null     object\n",
      " 3   number_of_baths  92 non-null     object\n",
      " 4   style            92 non-null     object\n",
      "dtypes: object(5)\n",
      "memory usage: 3.7+ KB\n"
     ]
    }
   ],
   "source": [
    "df.info()"
   ]
  },
  {
   "cell_type": "code",
   "execution_count": 106,
   "metadata": {},
   "outputs": [
    {
     "name": "stderr",
     "output_type": "stream",
     "text": [
      "C:\\Users\\User\\AppData\\Local\\Temp\\ipykernel_27012\\866137512.py:2: FutureWarning: The default value of regex will change from True to False in a future version.\n",
      "  df['number_of_baths'] = df['number_of_baths'].str.replace(r'\\D', '')\n"
     ]
    },
    {
     "data": {
      "text/plain": [
       "0       2 Beds\n",
       "1     3+1 Beds\n",
       "2     2+1 Beds\n",
       "3     2+1 Beds\n",
       "4     2+1 Beds\n",
       "        ...   \n",
       "87      3 Beds\n",
       "88    2+1 Beds\n",
       "89      2 Beds\n",
       "90      2 Beds\n",
       "91      3 Beds\n",
       "Name: number_of_beds, Length: 92, dtype: object"
      ]
     },
     "execution_count": 106,
     "metadata": {},
     "output_type": "execute_result"
    }
   ],
   "source": [
    "# Remove Bath(s) from column\n",
    "df['number_of_baths'] = df['number_of_baths'].str.replace(r'\\D', '')\n",
    "df['number_of_baths']\n",
    "\n",
    "# Remove Bed(s) from column\n",
    "# df['number_of_beds'] = df['number_of_beds'].str.replace(r'\\D', '')\n",
    "df['number_of_beds']\n",
    "\n"
   ]
  },
  {
   "cell_type": "code",
   "execution_count": 112,
   "metadata": {},
   "outputs": [
    {
     "name": "stderr",
     "output_type": "stream",
     "text": [
      "C:\\Users\\User\\AppData\\Local\\Temp\\ipykernel_27012\\1683853538.py:2: FutureWarning: The default value of regex will change from True to False in a future version.\n",
      "  df['price']= df['price'].str.replace(r'\\D', '').astype(int)\n"
     ]
    },
    {
     "data": {
      "text/plain": [
       "0     1100000\n",
       "1      998888\n",
       "2      899000\n",
       "3      895000\n",
       "4      659500\n",
       "       ...   \n",
       "87     749000\n",
       "88     749000\n",
       "89     749000\n",
       "90     735000\n",
       "91     719900\n",
       "Name: price, Length: 92, dtype: int32"
      ]
     },
     "execution_count": 112,
     "metadata": {},
     "output_type": "execute_result"
    }
   ],
   "source": [
    "# Format price column and change data type\n",
    "df['price']= df['price'].str.replace(r'\\D', '').astype(int)\n",
    "df['price']"
   ]
  },
  {
   "cell_type": "code",
   "execution_count": 113,
   "metadata": {},
   "outputs": [
    {
     "name": "stdout",
     "output_type": "stream",
     "text": [
      "<class 'pandas.core.frame.DataFrame'>\n",
      "RangeIndex: 92 entries, 0 to 91\n",
      "Data columns (total 5 columns):\n",
      " #   Column           Non-Null Count  Dtype \n",
      "---  ------           --------------  ----- \n",
      " 0   address          92 non-null     object\n",
      " 1   price            92 non-null     int32 \n",
      " 2   number_of_beds   92 non-null     object\n",
      " 3   number_of_baths  92 non-null     object\n",
      " 4   style            92 non-null     object\n",
      "dtypes: int32(1), object(4)\n",
      "memory usage: 3.4+ KB\n"
     ]
    }
   ],
   "source": [
    "df.info()"
   ]
  }
 ],
 "metadata": {
  "kernelspec": {
   "display_name": "base",
   "language": "python",
   "name": "python3"
  },
  "language_info": {
   "codemirror_mode": {
    "name": "ipython",
    "version": 3
   },
   "file_extension": ".py",
   "mimetype": "text/x-python",
   "name": "python",
   "nbconvert_exporter": "python",
   "pygments_lexer": "ipython3",
   "version": "3.9.12"
  },
  "orig_nbformat": 4
 },
 "nbformat": 4,
 "nbformat_minor": 2
}
