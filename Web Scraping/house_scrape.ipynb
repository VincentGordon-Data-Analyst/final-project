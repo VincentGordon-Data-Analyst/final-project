{
 "cells": [
  {
   "cell_type": "code",
   "execution_count": 307,
   "metadata": {},
   "outputs": [],
   "source": [
    "from splinter import Browser\n",
    "from bs4 import BeautifulSoup as bs\n",
    "\n",
    "import requests"
   ]
  },
  {
   "cell_type": "code",
   "execution_count": 308,
   "metadata": {},
   "outputs": [],
   "source": [
    "# Set up Splinter\n",
    "executable_path = {'executable_path':\"C:\\Program Files (x86)\\msedgedriver.exe\"}\n",
    "browser = Browser('edge', **executable_path)\n",
    "\n",
    "# Url for scraping\n",
    "url = \"https://www.royallepage.ca/en/search/homes/?search_str=Ontario%2C+ON%2C+CAN&csrfmiddlewaretoken=YrzRsRQ7hui5kwIngTSfFcjdmkY4uzkOpTtA8xAWppg2PQrYHUihHDD2uSNjEGZN&property_type=7%2C8%2C5&house_type=102%2C103%2C104&features=&listing_type=&lat=50.926163435000035&lng=-84.74492999999995&upper_lat=&upper_lng=&lower_lat=&lower_lng=&bypass=&radius=&zoom=&display_type=gallery-view&travel_time=&travel_time_min=30&travel_time_mode=drive&travel_time_congestion=&da_id=&segment_id=&tier2=False&tier2_proximity=0&address=Ontario&method=homes&address_type=province&city_name=&prov_code=ON&school_id=&min_price=0&max_price=3000000&min_leaseprice=0&max_leaseprice=5000%2B&beds=0&baths=0&transactionType=SALE&archive_status=All&archive_timespan=6&sfproperty_type%5B7%5D=7&sfproperty_type%5B8%5D=8&sfproperty_type%5B5%5D=5&sfhouse_type%5B102%5D=102&sfhouse_type%5B103%5D=103&sfhouse_type%5B104%5D=104&keyword=&sortby=\"\n",
    "\n",
    "browser.visit(url)\n",
    "html = browser.html\n",
    "\n",
    "soup = bs(html, 'html.parser')"
   ]
  },
  {
   "cell_type": "code",
   "execution_count": 309,
   "metadata": {},
   "outputs": [
    {
     "name": "stdout",
     "output_type": "stream",
     "text": [
      "Gathering data from page: 1\n",
      "Gathering data from page: 2\n",
      "Gathering data from page: 3\n",
      "Gathering data from page: 4\n",
      "Gathering data from page: 5\n",
      "Gathering data from page: 6\n",
      "Gathering data from page: 7\n",
      "Gathering data from page: 8\n",
      "Gathering data from page: 9\n",
      "Gathering data from page: 10\n",
      "Gathering data from page: 11\n",
      "Gathering data from page: 12\n",
      "Gathering data from page: 13\n",
      "Gathering data from page: 14\n",
      "Gathering data from page: 15\n",
      "Gathering data from page: 16\n",
      "Gathering data from page: 17\n",
      "Gathering data from page: 18\n",
      "Gathering data from page: 19\n",
      "Gathering data from page: 20\n",
      "Gathering data from page: 21\n",
      "Gathering data from page: 22\n"
     ]
    },
    {
     "data": {
      "text/plain": [
       "1012"
      ]
     },
     "execution_count": 309,
     "metadata": {},
     "output_type": "execute_result"
    }
   ],
   "source": [
    "# Go through all pages to collect data\n",
    "house_listings = []\n",
    "for x in range(1, 23):\n",
    "    html = browser.html\n",
    "    soup = bs(html, 'html.parser')\n",
    "    links = soup.find_all(class_='address-1')\n",
    "    \n",
    "    # Get all address listings for buying    \n",
    "    print('Gathering data from page:', x)\n",
    "    for link in links:\n",
    "        house_listings.append(link.a['href'])\n",
    "    browser.find_by_css('.next').click()\n",
    "\n",
    "# Number of listings\n",
    "len(house_listings)\n"
   ]
  },
  {
   "cell_type": "code",
   "execution_count": 310,
   "metadata": {},
   "outputs": [],
   "source": [
    "browser.quit()"
   ]
  },
  {
   "cell_type": "code",
   "execution_count": 450,
   "metadata": {},
   "outputs": [
    {
     "name": "stdout",
     "output_type": "stream",
     "text": [
      "Collected data for: 33 SCUFFLER DR, Vaughan, Ontario, L6A 4Y7\n",
      "Collected data for: 11134 5 SIDE RD, Halton Hills, Ontario, L7G 4S6\n",
      "Collected data for: 14541 NIAGARA RIVER PKWY, Niagara-on-the-Lake, Ontario, L0S 1L0\n",
      "Collected data for: 15415 JANE ST, King, Ontario, L7B 1A3\n",
      "Collected data for: 31 WISPI SHORE RD, Kawartha Lakes, Ontario, K9V 0K4\n",
      "Collected data for: 4282 VIVIAN RD, Whitchurch-Stouffville, Ontario, L4A 1Z2\n",
      "Collected data for: 57 ALAMOSA DR, Toronto, Ontario, M2J 2N8\n",
      "Collected data for: 121 WATERVIEW COMMON, Oakville, Ontario, L6L 0E7\n",
      "Collected data for: 3696 FERRETTI CRT, Innisfil, Ontario, L9S 0N6\n",
      "Collected data for: 643 WEST OVAL Drive, Burlington, Ontario, L7T 1C1\n",
      "Collected data for: 40 DEAN PL, Vaughan, Ontario, L3L 0A8\n",
      "Collected data for: 48 FOOTHILLS CRES, Brampton, Ontario, L6P 4G9\n"
     ]
    }
   ],
   "source": [
    "# Dependencies\n",
    "import requests\n",
    "import json\n",
    "\n",
    "# Import the API key\n",
    "from config import apiKey\n",
    "\n",
    "# Set up Splinter\n",
    "executable_path = {'executable_path':\"C:\\Program Files (x86)\\msedgedriver.exe\"}\n",
    "browser = Browser('edge', **executable_path)\n",
    "\n",
    "\n",
    "# Visit each listing and grab relevant data\n",
    "house_listing_info = []\n",
    "for i in range(len(house_listings)):\n",
    "    url = house_listings[i]\n",
    "    browser.visit(url)\n",
    "    html = browser.html\n",
    "    soup = bs(html, 'html.parser')\n",
    "    houses = {} \n",
    "    \n",
    "    # Gather information on living space\n",
    "    living_space_section = soup.find('div', class_='property-meta-info')\n",
    "\n",
    "    # Get exact address\n",
    "    address = living_space_section.find('div', class_='title--h2 u-no-margins').text\n",
    "\n",
    "\n",
    "    # Get price\n",
    "    price = living_space_section.find('span', class_=\"title title--h1 price\").text.strip()\n",
    "\n",
    "    \n",
    "    # Get number of beds\n",
    "    bed_info = living_space_section.find('div', class_='bed-bath-box__item beds')\n",
    "    bed_count = bed_info.find('p', class_='bed-bath-box__value').text\n",
    "\n",
    "\n",
    "    # Get number of baths\n",
    "    bath_info = living_space_section.find('div', class_='bed-bath-box__item baths')\n",
    "    bath_count = bath_info.find('p', class_='bed-bath-box__value').text\n",
    "    \n",
    "    \n",
    "    # House features\n",
    "    building_feature_section = soup.find('div', class_=\"details-row\")\n",
    "    labels = building_feature_section.find_all('span', class_='label')\n",
    "    values = building_feature_section.find_all('span', class_=\"value\")\n",
    "\n",
    "\n",
    "    style_type = values[0].text.strip(\":\")\n",
    "    # cooling_type = values[i].text.strip(\":\")\n",
    "    # heating_fuel = values[i].text.strip(\":\")\n",
    "    # heating_type = values[i].text.strip(\":\")\n",
    "    # fire_place = values[-4].text.strip(\":\")\n",
    "    \n",
    "    # Store in dictionary\n",
    "    houses['address'] = address\n",
    "    houses['price'] = price\n",
    "    houses['number_of_beds'] = bed_count\n",
    "    houses['number_of_baths'] = bath_count\n",
    "    houses['style'] = style_type\n",
    "    # houses['cooling_type'] = cooling_type\n",
    "    # houses['heating_fuel'] = heating_fuel\n",
    "    # houses['heating_type'] = heating_type\n",
    "    # houses['fire_place'] = fire_place\n",
    "    \n",
    "    # Build target url with address and apikey\n",
    "    string_search = address.split(\",\")[1:]\n",
    "    new_string = (\",\").join(string_search).strip()                           \n",
    "    \n",
    "    target_url = f\"https://api.geoapify.com/v1/geocode/search?text={new_string}&format=json&apiKey={apiKey}\"\n",
    "    \n",
    "    # Run a request to endpoint and convert result to json\n",
    "    geo_data = requests.get(target_url).json()\n",
    "\n",
    "    # Get coordinate information\n",
    "    lat = geo_data[\"results\"][0][\"lat\"]\n",
    "    lon = geo_data[\"results\"][0][\"lon\"]\n",
    "    \n",
    "    houses['lat'] = lat\n",
    "    houses['lon'] = lon\n",
    "        \n",
    "    print(f\"Collected data for: {address}\")\n",
    "    house_listing_info.append(houses)\n",
    "\n",
    "browser.quit()"
   ]
  },
  {
   "cell_type": "code",
   "execution_count": null,
   "metadata": {},
   "outputs": [
    {
     "name": "stdout",
     "output_type": "stream",
     "text": [
      "yes\n",
      "yes\n",
      "yes\n"
     ]
    },
    {
     "ename": "AttributeError",
     "evalue": "ResultSet object has no attribute 'strip'. You're probably treating a list of elements like a single element. Did you call find_all() when you meant to call find()?",
     "output_type": "error",
     "traceback": [
      "\u001b[1;31m---------------------------------------------------------------------------\u001b[0m",
      "\u001b[1;31mAttributeError\u001b[0m                            Traceback (most recent call last)",
      "\u001b[1;32mc:\\Users\\User\\Desktop\\ClassWork\\git\\final-project\\Web Scraping\\house_scrape.ipynb Cell 7\u001b[0m in \u001b[0;36m<cell line: 8>\u001b[1;34m()\u001b[0m\n\u001b[0;32m      <a href='vscode-notebook-cell:/c%3A/Users/User/Desktop/ClassWork/git/final-project/Web%20Scraping/house_scrape.ipynb#X40sZmlsZQ%3D%3D?line=4'>5</a>\u001b[0m             \u001b[39mif\u001b[39;00m wanted_features[i] \u001b[39min\u001b[39;00m labels[j]\u001b[39m.\u001b[39mtext:\n\u001b[0;32m      <a href='vscode-notebook-cell:/c%3A/Users/User/Desktop/ClassWork/git/final-project/Web%20Scraping/house_scrape.ipynb#X40sZmlsZQ%3D%3D?line=5'>6</a>\u001b[0m                 \u001b[39mprint\u001b[39m(\u001b[39m'\u001b[39m\u001b[39myes\u001b[39m\u001b[39m'\u001b[39m)\n\u001b[1;32m----> <a href='vscode-notebook-cell:/c%3A/Users/User/Desktop/ClassWork/git/final-project/Web%20Scraping/house_scrape.ipynb#X40sZmlsZQ%3D%3D?line=7'>8</a>\u001b[0m labels\u001b[39m.\u001b[39;49mstrip()\n",
      "File \u001b[1;32mc:\\Users\\User\\anaconda3\\lib\\site-packages\\bs4\\element.py:2289\u001b[0m, in \u001b[0;36mResultSet.__getattr__\u001b[1;34m(self, key)\u001b[0m\n\u001b[0;32m   2287\u001b[0m \u001b[39mdef\u001b[39;00m \u001b[39m__getattr__\u001b[39m(\u001b[39mself\u001b[39m, key):\n\u001b[0;32m   2288\u001b[0m     \u001b[39m\"\"\"Raise a helpful exception to explain a common code fix.\"\"\"\u001b[39;00m\n\u001b[1;32m-> 2289\u001b[0m     \u001b[39mraise\u001b[39;00m \u001b[39mAttributeError\u001b[39;00m(\n\u001b[0;32m   2290\u001b[0m         \u001b[39m\"\u001b[39m\u001b[39mResultSet object has no attribute \u001b[39m\u001b[39m'\u001b[39m\u001b[39m%s\u001b[39;00m\u001b[39m'\u001b[39m\u001b[39m. You\u001b[39m\u001b[39m'\u001b[39m\u001b[39mre probably treating a list of elements like a single element. Did you call find_all() when you meant to call find()?\u001b[39m\u001b[39m\"\u001b[39m \u001b[39m%\u001b[39m key\n\u001b[0;32m   2291\u001b[0m     )\n",
      "\u001b[1;31mAttributeError\u001b[0m: ResultSet object has no attribute 'strip'. You're probably treating a list of elements like a single element. Did you call find_all() when you meant to call find()?"
     ]
    }
   ],
   "source": [
    "wanted_features = ['Fireplace', 'Style']\n",
    "\n",
    "for i in range(len(wanted_features)):\n",
    "        for j in range(len(labels)):\n",
    "            if wanted_features[i] in labels[j].text:\n",
    "                print(wanted_features[i])\n",
    "                "
   ]
  },
  {
   "cell_type": "code",
   "execution_count": 406,
   "metadata": {},
   "outputs": [
    {
     "name": "stdout",
     "output_type": "stream",
     "text": [
      "Rows of data to work with: 2\n"
     ]
    }
   ],
   "source": [
    "print(f\"Rows of data to work with: {len(house_listing_info)}\")"
   ]
  },
  {
   "cell_type": "code",
   "execution_count": 408,
   "metadata": {},
   "outputs": [],
   "source": [
    "import csv\n",
    "\n",
    "try:\n",
    "    with open('./Resources/housing.csv', 'w') as csvfile:\n",
    "        writer = csv.DictWriter(csvfile, fieldnames=['address', 'price', 'number_of_beds', 'number_of_baths', 'style', 'cooling_type','heating_fuel', 'heating_type', 'fire_place', 'lat', 'lon'])\n",
    "        writer.writeheader()\n",
    "        for data in house_listing_info:\n",
    "            writer.writerow(data)\n",
    "except IOError:\n",
    "    print(\"I/O error\")"
   ]
  }
 ],
 "metadata": {
  "kernelspec": {
   "display_name": "Python 3 (ipykernel)",
   "language": "python",
   "name": "python3"
  },
  "language_info": {
   "codemirror_mode": {
    "name": "ipython",
    "version": 3
   },
   "file_extension": ".py",
   "mimetype": "text/x-python",
   "name": "python",
   "nbconvert_exporter": "python",
   "pygments_lexer": "ipython3",
   "version": "3.9.12"
  }
 },
 "nbformat": 4,
 "nbformat_minor": 2
}
