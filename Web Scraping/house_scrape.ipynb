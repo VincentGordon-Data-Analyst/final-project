{
 "cells": [
  {
   "cell_type": "code",
   "execution_count": 101,
   "metadata": {},
   "outputs": [],
   "source": [
    "from splinter import Browser\n",
    "from bs4 import BeautifulSoup as bs\n",
    "\n",
    "import requests"
   ]
  },
  {
   "cell_type": "code",
   "execution_count": 107,
   "metadata": {},
   "outputs": [],
   "source": [
    "# Set up Splinter\n",
    "executable_path = {'executable_path':\"C:\\Program Files (x86)\\msedgedriver.exe\"}\n",
    "browser = Browser('edge', **executable_path)\n",
    "\n",
    "# Url for scraping\n",
    "url = \"https://www.royallepage.ca/en/search/homes/?search_str=Ontario%2C+ON%2C+CAN&csrfmiddlewaretoken=jUelGI3UKUVmt5lUkK40u76bchLaIkYRKm84moNJSPTjYp4vLLu2wyq0kPApSrDQ&property_type=7%2C8&house_type=102%2C103%2C101&features=fireplace%2Cac&listing_type=recentlyCreated%2CopenHouseAvailable&lat=50.926163435000035&lng=-84.74492999999995&upper_lat=&upper_lng=&lower_lat=&lower_lng=&bypass=&radius=&zoom=&display_type=gallery-view&travel_time=&travel_time_min=30&travel_time_mode=drive&travel_time_congestion=&da_id=&segment_id=&tier2=False&tier2_proximity=0&address=Ontario&method=homes&address_type=province&city_name=&prov_code=ON&school_id=&min_price=0&max_price=2000000&min_leaseprice=0&max_leaseprice=5000%2B&beds=0&baths=0&transactionType=SALE&archive_status=All&archive_timespan=6&sfproperty_type%5B7%5D=7&sfproperty_type%5B8%5D=8&sflisting_type%5BrecentlyCreated%5D=recentlyCreated&sflisting_type%5BopenHouseAvailable%5D=openHouseAvailable&sfhouse_type%5B102%5D=102&sfhouse_type%5B103%5D=103&sfhouse_type%5B101%5D=101&sffeatures%5Bfireplace%5D=fireplace&sffeatures%5Bac%5D=ac&keyword=&sortby=\"\n",
    "\n",
    "browser.visit(url)\n",
    "html = browser.html\n",
    "\n",
    "soup = bs(html, 'html.parser')"
   ]
  },
  {
   "cell_type": "code",
   "execution_count": 108,
   "metadata": {},
   "outputs": [
    {
     "name": "stdout",
     "output_type": "stream",
     "text": [
      "Gathering data from page: 1\n",
      "Gathering data from page: 2\n",
      "Gathering data from page: 3\n",
      "Gathering data from page: 4\n",
      "Gathering data from page: 5\n",
      "Gathering data from page: 6\n",
      "Gathering data from page: 7\n",
      "Gathering data from page: 8\n",
      "Gathering data from page: 9\n",
      "Gathering data from page: 10\n",
      "Gathering data from page: 11\n",
      "Gathering data from page: 12\n",
      "Gathering data from page: 13\n",
      "Gathering data from page: 14\n",
      "Gathering data from page: 15\n",
      "Gathering data from page: 16\n",
      "Gathering data from page: 17\n",
      "Gathering data from page: 18\n"
     ]
    },
    {
     "data": {
      "text/plain": [
       "793"
      ]
     },
     "execution_count": 108,
     "metadata": {},
     "output_type": "execute_result"
    }
   ],
   "source": [
    "# Go through all pages to collect data\n",
    "house_listings = []\n",
    "for x in range(1, 19):\n",
    "    html = browser.html\n",
    "    soup = bs(html, 'html.parser')\n",
    "    links = soup.find_all(class_='address-1')\n",
    "    \n",
    "    # Get all address listings for buying    \n",
    "    print('Gathering data from page:', x)\n",
    "    for link in links:\n",
    "        house_listings.append(link.a['href'])\n",
    "    browser.find_by_css('.next').click()\n",
    "\n",
    "# Number of listings\n",
    "len(house_listings)\n"
   ]
  },
  {
   "cell_type": "code",
   "execution_count": 109,
   "metadata": {},
   "outputs": [],
   "source": [
    "browser.quit()"
   ]
  },
  {
   "cell_type": "code",
   "execution_count": 221,
   "metadata": {},
   "outputs": [
    {
     "name": "stdout",
     "output_type": "stream",
     "text": [
      "Collected data for: 2183 PHEASANT LANE, Oakville, Ontario, L6M 3R8\n",
      "Collected data for: 32 ATLANTIC AVE, Markham, Ontario, L3P 7C4\n",
      "Collected data for: 27 WATTS MEADOW, Aurora, Ontario, L4G 7L7\n",
      "Collected data for: 1965 Fieldgate Drive, Burlington, Ontario, L7P 3H4\n",
      "Collected data for: 603 QUEEN ST, Newmarket, Ontario, L3Y 2J1\n",
      "Collected data for: #PH8 -35 BOARDWALK DR, Toronto, Ontario, M4L 3Y8\n",
      "Collected data for: 251 VIA TEODORO, Vaughan, Ontario, L4H 0X6\n",
      "Collected data for: 1416 EDDIE SHAIN Drive, Oakville, Ontario, L6J 7C6\n",
      "Collected data for: 20 WHITEOAK CRT, Markham, Ontario, L3P 3Y1\n",
      "Collected data for: 181 RIVERBANK Drive, Cambridge, Ontario, N3H 4R6\n",
      "Collected data for: 1381 AVONLEA Court, Mississauga, Ontario, L5V 1S3\n",
      "Collected data for: 120 HARCOURT AVE, Toronto, Ontario, M4J 1J2\n",
      "Collected data for: 94 LAUCHLIN CRES, Halton Hills, Ontario, L7G 5R5\n",
      "Collected data for: 482 Donegal Drive, Burlington, Ontario, L7L 2M7\n",
      "Collected data for: 482 DONEGAL DR, Burlington, Ontario, L7L 2M7\n",
      "Collected data for: 5 BANQUO RD, Markham, Ontario, L3T 3G9\n",
      "Collected data for: 139 BROAD LEAF CRES N, Hamilton, Ontario, L9G 3M4\n",
      "Collected data for: 139 BROAD LEAF Crescent, Ancaster, Ontario, L9G 3M4\n",
      "Collected data for: 6737 GRACEFIELD DR, Mississauga, Ontario, L5N 6T1\n",
      "Collected data for: 3454 REGAL Road, Burlington, Ontario, L7N 1L8\n",
      "Collected data for: 258 GLENWAY CIRC, Newmarket, Ontario, L3Y 7S7\n",
      "Collected data for: 3 MEADOW GREEN CRT, Scugog, Ontario, L0C 1G0\n",
      "Collected data for: 8 MOORCREST DR, Aurora, Ontario, L4G 3R4\n",
      "Collected data for: 2584 HORNSGATE DR, Mississauga, Ontario, L5K 1P6\n",
      "Collected data for: 3483 FOURTH LINE, Oakville, Ontario, L6M 1N8\n",
      "Collected data for: 1284 TYRRELL Road, Burlington, Ontario, L7P 2S4\n",
      "Collected data for: 1284 TYRRELL RD, Burlington, Ontario, L7P 2S4\n",
      "Collected data for: 176 SHARPE CRES, New Tecumseth, Ontario, L0G 1W0\n",
      "Collected data for: 158 FIRST Street W, Elmira, Ontario, N3B 1H1\n",
      "Collected data for: 67 TRADEWIND TERR, Aurora, Ontario, L4G 6M7\n",
      "Collected data for: 1447 HEADON Road, Burlington, Ontario, L7M 3N8\n",
      "Collected data for: 2804 CATHIAN CRT, Mississauga, Ontario, L5L 2C7\n",
      "Collected data for: 45 RUBY LANG LANE, Toronto, Ontario, M8Z 0B7\n",
      "Collected data for: 23 CHESTNUT AVE, Brampton, Ontario, L6X 2A6\n",
      "Collected data for: 10 SORA DR, Mississauga, Ontario, L5M 1B2\n",
      "Collected data for: 42 STATION RD, Toronto, Ontario, M8V 2P9\n",
      "Collected data for: 1112 CHARLOTTE CRESCENT, Lakeshore, Ontario, N0R 1A0\n",
      "Collected data for: 59 STODDART DR, Aurora, Ontario, L4G 2G4\n",
      "Collected data for: 2279 WHISTLING SPRINGS CRES, Oakville, Ontario, L6M 0C5\n",
      "Collected data for: 769 CHURCHILL LANE, Georgina, Ontario, L0E 1S0\n",
      "Collected data for: 16 HEPBURN CRES, Halton Hills, Ontario, L7G 5P9\n",
      "Collected data for: 300 CHRISTINE, Belle River, Ontario, N0R 1A0\n",
      "Collected data for: 159 HIGHLANDS BLVD, Cavan Monaghan, Ontario, L0A 1G0\n",
      "Collected data for: 224 WILCROFT CRT, Pickering, Ontario, L1V 6N5\n",
      "Collected data for: 5 GREEN HOLLOW CRT, Markham, Ontario, L6E 1K7\n",
      "Collected data for: 13083 CONCESSION RD 13, Essex, Ontario, N0R 1J0\n",
      "Collected data for: 8575 FINANCIAL DR, Brampton, Ontario, L6Y 6C4\n"
     ]
    },
    {
     "ename": "NoSuchWindowException",
     "evalue": "Message: no such window: target window already closed\nfrom unknown error: web view not found\n  (Session info: MicrosoftEdge=112.0.1722.39)\n",
     "output_type": "error",
     "traceback": [
      "\u001b[1;31m---------------------------------------------------------------------------\u001b[0m",
      "\u001b[1;31mNoSuchWindowException\u001b[0m                     Traceback (most recent call last)",
      "\u001b[1;32mc:\\Users\\User\\Desktop\\ClassWork\\git\\final-project\\Web Scraping\\house_scrape.ipynb Cell 5\u001b[0m in \u001b[0;36m<cell line: 15>\u001b[1;34m()\u001b[0m\n\u001b[0;32m     <a href='vscode-notebook-cell:/c%3A/Users/User/Desktop/ClassWork/git/final-project/Web%20Scraping/house_scrape.ipynb#W4sZmlsZQ%3D%3D?line=15'>16</a>\u001b[0m url \u001b[39m=\u001b[39m house_listings[i]\n\u001b[0;32m     <a href='vscode-notebook-cell:/c%3A/Users/User/Desktop/ClassWork/git/final-project/Web%20Scraping/house_scrape.ipynb#W4sZmlsZQ%3D%3D?line=16'>17</a>\u001b[0m browser\u001b[39m.\u001b[39mvisit(url)\n\u001b[1;32m---> <a href='vscode-notebook-cell:/c%3A/Users/User/Desktop/ClassWork/git/final-project/Web%20Scraping/house_scrape.ipynb#W4sZmlsZQ%3D%3D?line=17'>18</a>\u001b[0m html \u001b[39m=\u001b[39m browser\u001b[39m.\u001b[39;49mhtml\n\u001b[0;32m     <a href='vscode-notebook-cell:/c%3A/Users/User/Desktop/ClassWork/git/final-project/Web%20Scraping/house_scrape.ipynb#W4sZmlsZQ%3D%3D?line=18'>19</a>\u001b[0m soup \u001b[39m=\u001b[39m bs(html, \u001b[39m'\u001b[39m\u001b[39mhtml.parser\u001b[39m\u001b[39m'\u001b[39m)\n\u001b[0;32m     <a href='vscode-notebook-cell:/c%3A/Users/User/Desktop/ClassWork/git/final-project/Web%20Scraping/house_scrape.ipynb#W4sZmlsZQ%3D%3D?line=19'>20</a>\u001b[0m houses \u001b[39m=\u001b[39m {} \n",
      "File \u001b[1;32mc:\\Users\\User\\anaconda3\\lib\\site-packages\\splinter\\driver\\webdriver\\__init__.py:308\u001b[0m, in \u001b[0;36mBaseWebDriver.html\u001b[1;34m(self)\u001b[0m\n\u001b[0;32m    306\u001b[0m \u001b[39m@property\u001b[39m\n\u001b[0;32m    307\u001b[0m \u001b[39mdef\u001b[39;00m \u001b[39mhtml\u001b[39m(\u001b[39mself\u001b[39m):\n\u001b[1;32m--> 308\u001b[0m     \u001b[39mreturn\u001b[39;00m \u001b[39mself\u001b[39;49m\u001b[39m.\u001b[39;49mdriver\u001b[39m.\u001b[39;49mpage_source\n",
      "File \u001b[1;32mc:\\Users\\User\\anaconda3\\lib\\site-packages\\selenium\\webdriver\\remote\\webdriver.py:679\u001b[0m, in \u001b[0;36mWebDriver.page_source\u001b[1;34m(self)\u001b[0m\n\u001b[0;32m    671\u001b[0m \u001b[39m@property\u001b[39m\n\u001b[0;32m    672\u001b[0m \u001b[39mdef\u001b[39;00m \u001b[39mpage_source\u001b[39m(\u001b[39mself\u001b[39m):\n\u001b[0;32m    673\u001b[0m     \u001b[39m\"\"\"\u001b[39;00m\n\u001b[0;32m    674\u001b[0m \u001b[39m    Gets the source of the current page.\u001b[39;00m\n\u001b[0;32m    675\u001b[0m \n\u001b[0;32m    676\u001b[0m \u001b[39m    :Usage:\u001b[39;00m\n\u001b[0;32m    677\u001b[0m \u001b[39m        driver.page_source\u001b[39;00m\n\u001b[0;32m    678\u001b[0m \u001b[39m    \"\"\"\u001b[39;00m\n\u001b[1;32m--> 679\u001b[0m     \u001b[39mreturn\u001b[39;00m \u001b[39mself\u001b[39;49m\u001b[39m.\u001b[39;49mexecute(Command\u001b[39m.\u001b[39;49mGET_PAGE_SOURCE)[\u001b[39m'\u001b[39m\u001b[39mvalue\u001b[39m\u001b[39m'\u001b[39m]\n",
      "File \u001b[1;32mc:\\Users\\User\\anaconda3\\lib\\site-packages\\selenium\\webdriver\\remote\\webdriver.py:321\u001b[0m, in \u001b[0;36mWebDriver.execute\u001b[1;34m(self, driver_command, params)\u001b[0m\n\u001b[0;32m    319\u001b[0m response \u001b[39m=\u001b[39m \u001b[39mself\u001b[39m\u001b[39m.\u001b[39mcommand_executor\u001b[39m.\u001b[39mexecute(driver_command, params)\n\u001b[0;32m    320\u001b[0m \u001b[39mif\u001b[39;00m response:\n\u001b[1;32m--> 321\u001b[0m     \u001b[39mself\u001b[39;49m\u001b[39m.\u001b[39;49merror_handler\u001b[39m.\u001b[39;49mcheck_response(response)\n\u001b[0;32m    322\u001b[0m     response[\u001b[39m'\u001b[39m\u001b[39mvalue\u001b[39m\u001b[39m'\u001b[39m] \u001b[39m=\u001b[39m \u001b[39mself\u001b[39m\u001b[39m.\u001b[39m_unwrap_value(\n\u001b[0;32m    323\u001b[0m         response\u001b[39m.\u001b[39mget(\u001b[39m'\u001b[39m\u001b[39mvalue\u001b[39m\u001b[39m'\u001b[39m, \u001b[39mNone\u001b[39;00m))\n\u001b[0;32m    324\u001b[0m     \u001b[39mreturn\u001b[39;00m response\n",
      "File \u001b[1;32mc:\\Users\\User\\anaconda3\\lib\\site-packages\\selenium\\webdriver\\remote\\errorhandler.py:242\u001b[0m, in \u001b[0;36mErrorHandler.check_response\u001b[1;34m(self, response)\u001b[0m\n\u001b[0;32m    240\u001b[0m         alert_text \u001b[39m=\u001b[39m value[\u001b[39m'\u001b[39m\u001b[39malert\u001b[39m\u001b[39m'\u001b[39m]\u001b[39m.\u001b[39mget(\u001b[39m'\u001b[39m\u001b[39mtext\u001b[39m\u001b[39m'\u001b[39m)\n\u001b[0;32m    241\u001b[0m     \u001b[39mraise\u001b[39;00m exception_class(message, screen, stacktrace, alert_text)\n\u001b[1;32m--> 242\u001b[0m \u001b[39mraise\u001b[39;00m exception_class(message, screen, stacktrace)\n",
      "\u001b[1;31mNoSuchWindowException\u001b[0m: Message: no such window: target window already closed\nfrom unknown error: web view not found\n  (Session info: MicrosoftEdge=112.0.1722.39)\n"
     ]
    }
   ],
   "source": [
    "# Dependencies\n",
    "import requests\n",
    "import json\n",
    "\n",
    "# Import the API key\n",
    "from config import apiKey\n",
    "\n",
    "# Set up Splinter\n",
    "executable_path = {'executable_path':\"C:\\Program Files (x86)\\msedgedriver.exe\"}\n",
    "browser = Browser('edge', **executable_path)\n",
    "\n",
    "\n",
    "# Visit each listing and grab relevant data\n",
    "house_listing_info = []\n",
    "for i in range(len(house_listings)):\n",
    "    url = house_listings[i]\n",
    "    browser.visit(url)\n",
    "    html = browser.html\n",
    "    soup = bs(html, 'html.parser')\n",
    "    houses = {} \n",
    "    \n",
    "    # Gather information on living space\n",
    "    living_space_section = soup.find('div', class_='property-meta-info')\n",
    "\n",
    "    # Get exact address\n",
    "    address = living_space_section.find('div', class_='title--h2 u-no-margins').text\n",
    "\n",
    "\n",
    "    # Get price\n",
    "    price = living_space_section.find('span', class_=\"title title--h1 price\").text.strip()\n",
    "\n",
    "    \n",
    "    # Get number of beds\n",
    "    bed_info = living_space_section.find('div', class_='bed-bath-box__item beds')\n",
    "    bed_count = bed_info.find('p', class_='bed-bath-box__value').text\n",
    "\n",
    "    if bed_count == \"\":\n",
    "        pass\n",
    "    else:\n",
    "        # Get number of baths\n",
    "        bath_info = living_space_section.find('div', class_='bed-bath-box__item baths')\n",
    "        bath_count = bath_info.find('p', class_='bed-bath-box__value').text\n",
    "        \n",
    "        \n",
    "        # House features\n",
    "        building_feature_section = soup.find('div', class_=\"details-row\")\n",
    "        values = building_feature_section.find_all('span', class_=\"value\")\n",
    "        \n",
    "        # Feastures of house\n",
    "        if len(values) >= 5:\n",
    "            style_type = values[0].text.strip(\":\")\n",
    "            cooling_type = values[-1].text\n",
    "            heating_fuel = values[-2].text\n",
    "            heating_type = values[-3].text\n",
    "            fire_place = values[-4].text\n",
    "        else:\n",
    "            pass\n",
    "        houses['address'] = address\n",
    "        houses['price'] = price\n",
    "        houses['number_of_beds'] = bed_count\n",
    "        houses['number_of_baths'] = bath_count\n",
    "        houses['style'] = style_type\n",
    "        houses['cooling_type'] = cooling_type\n",
    "        houses['heating_fuel'] = heating_fuel\n",
    "        houses['heating_type'] = heating_type\n",
    "        houses['fire_place'] = fire_place\n",
    "        \n",
    "        # Build target url with address and apikey\n",
    "        string_search = houses['address'].split(\",\")[1:]\n",
    "        new_string = (\",\").join(string_search).strip()                           \n",
    "        \n",
    "        target_url = f\"https://api.geoapify.com/v1/geocode/search?text={new_string}&format=json&apiKey={apiKey}\"\n",
    "        \n",
    "        # Run a request to endpoint and convert result to json\n",
    "        geo_data = requests.get(target_url).json()\n",
    "\n",
    "        # Get coordinate information\n",
    "        lat = geo_data[\"results\"][0][\"lat\"]\n",
    "        lon = geo_data[\"results\"][0][\"lon\"]\n",
    "        \n",
    "        houses['lat'] = lat\n",
    "        houses['lon'] = lon\n",
    "        \n",
    "        print(f\"Collected data for: {houses['address']}\")\n",
    "        house_listing_info.append(houses)\n",
    "    \n",
    "browser.quit()\n"
   ]
  },
  {
   "cell_type": "code",
   "execution_count": 250,
   "metadata": {},
   "outputs": [
    {
     "name": "stdout",
     "output_type": "stream",
     "text": [
      "No\n",
      "Yes\n",
      "Yes\n",
      "Yes\n",
      "Yes\n"
     ]
    },
    {
     "data": {
      "text/plain": [
       "7"
      ]
     },
     "execution_count": 250,
     "metadata": {},
     "output_type": "execute_result"
    }
   ],
   "source": [
    " # House features\n",
    "building_feature_section = soup.find('ul', class_=\"property-features-list\")\n",
    "labels = building_feature_section.find_all('span', class_=\"label\")\n",
    "values = building_feature_section.find_all('span', class_=\"value\")\n",
    "\n",
    "wanted_feature = ['Fireplace', 'Style', 'Heating Type', 'Heating Fuel', 'Cooling Type']\n",
    "listed_features = set([label.text.strip(\":\") for label in labels])\n",
    "value_features = [value.text.strip() for value in values]\n",
    "\n",
    "for i in range(len(wanted_feature)):\n",
    "    if (wanted_feature[i] in listed_features):\n",
    "        print(\"Yes\")\n",
    "        # style_type = \n",
    "    else:\n",
    "        print(\"No\")\n",
    "\n",
    "# [i in listed_features for i in wanted_feature]:\n",
    "    \n",
    "len(value_features)\n",
    " \n"
   ]
  },
  {
   "cell_type": "code",
   "execution_count": 244,
   "metadata": {},
   "outputs": [
    {
     "data": {
      "text/plain": [
       "['Townhouse',\n",
       " 'Row / Townhouse',\n",
       " 'Attached',\n",
       " 'Brick, Stone',\n",
       " 'Forced air',\n",
       " 'Natural gas',\n",
       " 'Central air conditioning']"
      ]
     },
     "execution_count": 244,
     "metadata": {},
     "output_type": "execute_result"
    }
   ],
   "source": [
    "value_features"
   ]
  },
  {
   "cell_type": "code",
   "execution_count": null,
   "metadata": {},
   "outputs": [],
   "source": []
  },
  {
   "cell_type": "code",
   "execution_count": 111,
   "metadata": {},
   "outputs": [
    {
     "data": {
      "text/plain": [
       "173"
      ]
     },
     "execution_count": 111,
     "metadata": {},
     "output_type": "execute_result"
    }
   ],
   "source": [
    "len(house_listing_info)"
   ]
  },
  {
   "cell_type": "code",
   "execution_count": null,
   "metadata": {},
   "outputs": [
    {
     "data": {
      "text/plain": [
       "[{'address': '2183 PHEASANT LANE, Oakville, Ontario, L6M 3R8',\n",
       "  'price': '$1,998,000',\n",
       "  'number_of_beds': '4+1 Beds',\n",
       "  'number_of_baths': '4 Baths',\n",
       "  'style': 'Detached',\n",
       "  'cooling_type': 'Central air conditioning',\n",
       "  'heating_fuel': 'Natural gas',\n",
       "  'heating_type': 'Forced air',\n",
       "  'fire_place': 'Yes',\n",
       "  'lat': 43.447436,\n",
       "  'lon': -79.666672},\n",
       " {'address': '32 ATLANTIC AVE, Markham, Ontario, L3P 7C4',\n",
       "  'price': '$1,899,900',\n",
       "  'number_of_beds': '4+2 Beds',\n",
       "  'number_of_baths': '4 Baths',\n",
       "  'style': 'Detached',\n",
       "  'cooling_type': 'Central air conditioning',\n",
       "  'heating_fuel': 'Natural gas',\n",
       "  'heating_type': 'Forced air',\n",
       "  'fire_place': 'Yes',\n",
       "  'lat': 43.8563707,\n",
       "  'lon': -79.3376825},\n",
       " {'address': '27 WATTS MEADOW, Aurora, Ontario, L4G 7L7',\n",
       "  'price': '$1,898,888',\n",
       "  'number_of_beds': '4 Beds',\n",
       "  'number_of_baths': '5 Baths',\n",
       "  'style': 'Detached',\n",
       "  'cooling_type': 'Central air conditioning',\n",
       "  'heating_fuel': 'Natural gas',\n",
       "  'heating_type': 'Forced air',\n",
       "  'fire_place': 'Yes',\n",
       "  'lat': 43.99973,\n",
       "  'lon': -79.467545}]"
      ]
     },
     "execution_count": 47,
     "metadata": {},
     "output_type": "execute_result"
    }
   ],
   "source": [
    "house_listing_info"
   ]
  },
  {
   "cell_type": "code",
   "execution_count": null,
   "metadata": {},
   "outputs": [
    {
     "data": {
      "text/plain": [
       "'2183 PHEASANT LANE, Oakville, Ontario, L6M 3R8'"
      ]
     },
     "execution_count": 85,
     "metadata": {},
     "output_type": "execute_result"
    }
   ],
   "source": [
    "import re\n",
    "\n",
    "txt = '2183 PHEASANT LANE, Oakville, Ontario, L6M 3R8'\n",
    "\n",
    "search_string = re.sub('.+([A-Z]|[0-9])\\s[-]','', txt)       \n",
    "search_string                  \n",
    "                           "
   ]
  },
  {
   "cell_type": "code",
   "execution_count": null,
   "metadata": {},
   "outputs": [],
   "source": [
    "import csv\n",
    "\n",
    "try:\n",
    "    with open('./Resources/housing.csv', 'w') as csvfile:\n",
    "        writer = csv.DictWriter(csvfile, fieldnames=['address', 'price', 'number_of_beds', 'number_of_baths', 'style', 'cooling_type','heating_fuel', 'heating_type', 'fire_place', 'lat', 'lon'])\n",
    "        writer.writeheader()\n",
    "        for data in house_listing_info:\n",
    "            writer.writerow(data)\n",
    "except IOError:\n",
    "    print(\"I/O error\")"
   ]
  }
 ],
 "metadata": {
  "kernelspec": {
   "display_name": "Python 3 (ipykernel)",
   "language": "python",
   "name": "python3"
  },
  "language_info": {
   "codemirror_mode": {
    "name": "ipython",
    "version": 3
   },
   "file_extension": ".py",
   "mimetype": "text/x-python",
   "name": "python",
   "nbconvert_exporter": "python",
   "pygments_lexer": "ipython3",
   "version": "3.9.12"
  }
 },
 "nbformat": 4,
 "nbformat_minor": 2
}
