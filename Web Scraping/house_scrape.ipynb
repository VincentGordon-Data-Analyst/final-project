{
 "cells": [
  {
   "cell_type": "code",
   "execution_count": 282,
   "metadata": {},
   "outputs": [],
   "source": [
    "from splinter import Browser\n",
    "from bs4 import BeautifulSoup as bs\n",
    "\n",
    "import requests"
   ]
  },
  {
   "cell_type": "code",
   "execution_count": 283,
   "metadata": {},
   "outputs": [],
   "source": [
    "# Set up Splinter\n",
    "executable_path = {'executable_path':\"C:\\Program Files (x86)\\msedgedriver.exe\"}\n",
    "browser = Browser('edge', **executable_path)\n",
    "\n",
    "# Url for scraping\n",
    "url = \"https://www.royallepage.ca/en/search/homes/?search_str=Ontario%2C+ON%2C+CAN&csrfmiddlewaretoken=JFtNsGhr8TWywqOO8l6zJx2pj75oWqsga7nw8m1ggOUv1KxpzmwBLYmerFUD6x7f&property_type=7%2C8&house_type=102%2C103%2C104&features=&listing_type=&lat=50.926163435000035&lng=-84.74492999999995&upper_lat=&upper_lng=&lower_lat=&lower_lng=&bypass=&radius=&zoom=&display_type=gallery-view&travel_time=&travel_time_min=30&travel_time_mode=drive&travel_time_congestion=&da_id=&segment_id=&tier2=False&tier2_proximity=0&address=Ontario&method=homes&address_type=province&city_name=&prov_code=ON&school_id=&min_price=0&max_price=3000000&min_leaseprice=0&max_leaseprice=5000%2B&beds=0&baths=0&transactionType=SALE&archive_status=All&archive_timespan=6&sfproperty_type%5B7%5D=7&sfproperty_type%5B8%5D=8&sfhouse_type%5B102%5D=102&sfhouse_type%5B103%5D=103&sfhouse_type%5B104%5D=104&keyword=&sortby=\"\n",
    "\n",
    "browser.visit(url)\n",
    "html = browser.html\n",
    "\n",
    "soup = bs(html, 'html.parser')"
   ]
  },
  {
   "cell_type": "code",
   "execution_count": 284,
   "metadata": {},
   "outputs": [
    {
     "name": "stdout",
     "output_type": "stream",
     "text": [
      "Gathering data from page: 1\n",
      "Gathering data from page: 2\n",
      "Gathering data from page: 3\n",
      "Gathering data from page: 4\n",
      "Gathering data from page: 5\n",
      "Gathering data from page: 6\n",
      "Gathering data from page: 7\n",
      "Gathering data from page: 8\n",
      "Gathering data from page: 9\n",
      "Gathering data from page: 10\n",
      "Gathering data from page: 11\n",
      "Gathering data from page: 12\n",
      "Gathering data from page: 13\n",
      "Gathering data from page: 14\n",
      "Gathering data from page: 15\n",
      "Gathering data from page: 16\n",
      "Gathering data from page: 17\n",
      "Gathering data from page: 18\n",
      "Gathering data from page: 19\n",
      "Gathering data from page: 20\n",
      "Gathering data from page: 21\n",
      "Gathering data from page: 22\n"
     ]
    },
    {
     "data": {
      "text/plain": [
       "1012"
      ]
     },
     "execution_count": 284,
     "metadata": {},
     "output_type": "execute_result"
    }
   ],
   "source": [
    "# Go through all pages to collect data\n",
    "house_listings = []\n",
    "for x in range(1, 23):\n",
    "    html = browser.html\n",
    "    soup = bs(html, 'html.parser')\n",
    "    links = soup.find_all(class_='address-1')\n",
    "    \n",
    "    # Get all address listings for buying    \n",
    "    print('Gathering data from page:', x)\n",
    "    for link in links:\n",
    "        house_listings.append(link.a['href'])\n",
    "    browser.find_by_css('.next').click()\n",
    "\n",
    "# Number of listings\n",
    "len(house_listings)\n"
   ]
  },
  {
   "cell_type": "code",
   "execution_count": 285,
   "metadata": {},
   "outputs": [],
   "source": [
    "browser.quit()"
   ]
  },
  {
   "cell_type": "code",
   "execution_count": 286,
   "metadata": {},
   "outputs": [
    {
     "name": "stdout",
     "output_type": "stream",
     "text": [
      "Collected data for: 121 WATERVIEW COMMON, Oakville, Ontario, L6L 0E7\n",
      "Collected data for: 1041 BRANDYWINE COURT, Ottawa, Ontario, K4M 1J2\n",
      "Collected data for: 24 LOVE CRT, Richmond Hill, Ontario, L4B 0G2\n",
      "Collected data for: 10 CHESTER HILL RD, Toronto, Ontario, M4K 1X3\n",
      "Collected data for: 88 FARRELL RD, Vaughan, Ontario, L6A 4W7\n",
      "Collected data for: 177623 GREY ROAD 18, Georgian Bluffs, Ontario, N4K 5N5\n",
      "Collected data for: 6415 DONWAY DR, Mississauga, Ontario, L5V 1J4\n",
      "Collected data for: 296 INDIAN GRVE, Toronto, Ontario, M6P 2H5\n",
      "Collected data for: 21 FIRE ROUTE 28, North Kawartha Twp, Ontario, K0L 2H0\n",
      "Collected data for: 1100 LAURIER AVENUE, LaSalle, Ontario, N9J 1N3\n",
      "Collected data for: 1001 Chateau, Windsor, Ontario, N8P 0E6\n",
      "Collected data for: 12 SOMERSET AVE, Toronto, Ontario, M6H 2R4\n",
      "Collected data for: 36 BROOKLAND AVE, Aurora, Ontario, L4G 2H8\n",
      "Collected data for: 15 KEYSTONE Crescent, Hamilton, Ontario, L0R 1P0\n",
      "Collected data for: 234 TAMPICO RD, Richmond Hill, Ontario, L4C 4R7\n",
      "Collected data for: 94 VELIA CRT, Vaughan, Ontario, L4H 4S5\n",
      "Collected data for: 549 MCBEAN AVE, Newmarket, Ontario, L3X 2N5\n",
      "Collected data for: 594 NIAGARA Street, St. Catharines, Ontario, L2M 3P7\n",
      "Collected data for: 124 Cline Avenue N, Hamilton, Ontario, L8S 3Z8\n",
      "Collected data for: 6423 DUNRAY CRT, Mississauga, Ontario, L5N 1E7\n",
      "Collected data for: 1134 MERSEA RD 6, Leamington, Ontario, N8H 3V8\n",
      "Collected data for: 5 GOLDIE AVE, Brampton, Ontario, L7A 2C7\n",
      "Collected data for: 15 GRAND FOREST DR, Barrie, Ontario, L4N 7E7\n",
      "Collected data for: 4224 Taylor Court, Lincoln, Ontario, L3J 0J9\n",
      "Collected data for: 4224 TAYLOR CRT, Lincoln, Ontario, L3J 0J9\n",
      "Collected data for: 17 HURONTARIO ST, Orangeville, Ontario, L9W 1Y9\n",
      "Collected data for: 17 HURONTARIO Street, Orangeville, Ontario, L9W 1Y9\n",
      "Collected data for: 25 GOULSTON ST, Brampton, Ontario, L7A 5C2\n",
      "Collected data for: 24 PENFIELD DR, Markham, Ontario, L3S 4C9\n",
      "Collected data for: 90 ODOARDO DI SANTO CIRC, Toronto, Ontario, M3L 0E8\n",
      "Collected data for: 15 PINE RIDGE TR, Oro-Medonte, Ontario, L4M 4Y8\n",
      "Collected data for: 5848 BAGLEY AVENUE, LaSalle, Ontario, N9H 1P1\n",
      "Collected data for: 155 TAMBLYN RD, Clarington, Ontario, L1C 3A6\n",
      "Collected data for: 22 SUZANNA DR, Guelph, Ontario, N1K 1K7\n",
      "Collected data for: 124 PRETORIA AVENUE, Ottawa, Ontario, K1S 1W9\n",
      "Collected data for: 5299 MAJOR MACKENZIE DR E, Markham, Ontario, L6C 0N3\n",
      "Collected data for: 32 DONALD FICHT  CRES, Brampton, Ontario\n",
      "Collected data for: 167 KANE AVE, Toronto, Ontario, M6M 3N4\n",
      "Collected data for: 250 ANDREW ST, Shelburne, Ontario, L9V 2Y7\n",
      "Collected data for: 568 INDIAN CREEK ROAD West, Chatham, Ontario, N7M 5J5\n",
      "Collected data for: 304 Morin, Amherstburg, Ontario, N9V 0G8\n",
      "Collected data for: #136 -326 JOHN ST, Markham, Ontario, L3T 0B1\n",
      "Collected data for: 19947 KENYON CONCESSION 6 ROAD, Alexandria, Ontario, K0C 1A0\n",
      "Collected data for: #67 -3020 CEDARGLEN GATE, Mississauga, Ontario, L5C 4S7\n",
      "Collected data for: 40 COMELY WAY, Markham, Ontario, L3R 2L8\n",
      "Collected data for: 188 APPLEFORD Court, Hamilton, Ontario, L9C 5Y5\n",
      "Collected data for: 40 COMELY WAY, Markham, Ontario, L3R 2L8\n",
      "Collected data for: 112 REDFERN Crescent, Bowmanville, Ontario, L1C 0K1\n",
      "Collected data for: 188 APPLEFORD Court, Hamilton, Ontario, L9C 5Y5\n",
      "Collected data for: 32 CUMBERLAND DR, Brampton, Ontario, L6V 1W6\n",
      "Collected data for: 72 Laurier Street E, Azilda, Ontario, P0M 1B0\n",
      "Collected data for: 9 BRIDLEWOOD Lane, Quinte West, Ontario, K8V 6N4\n",
      "Collected data for: 497 FOXHALL WAY, Kanata, Ontario, K2M 0G2\n",
      "Collected data for: 182 MORRIS STREET, Pembroke, Ontario, K8A 2L2\n",
      "Collected data for: 7 YOUNG ST, Kawartha Lakes, Ontario, L0K 1W0\n",
      "Collected data for: 41 STEELE CRES, Guelph, Ontario, N1E 0S7\n",
      "Collected data for: 83 KILLDEER Crescent, Bracebridge, Ontario, P1L 1Z2\n",
      "Collected data for: 29 Ghost Bay, Sioux Narrows, ON, P0X 1N0\n",
      "Collected data for: 1400C Bay of Islands Drive, Whitefish Falls, Ontario, P0P 2H0\n",
      "Collected data for: 1210 THORPE Road|Unit #318, Burlington, Ontario, L7S 2G8\n",
      "Collected data for: 6 CHESTNUT Drive|Unit #87, Grimsby, Ontario, L3M 0C4\n",
      "Collected data for: 115 MAIN ST S, East Luther Grand Valley, Ontario, L9W 5V3\n",
      "Collected data for: 679 ARMSTRONG LINE, Maberly, Ontario, K0H 2B0\n",
      "Collected data for: 306 TOURING WAY, Ottawa, Ontario, K2J 6N9\n",
      "Collected data for: 94 FREELAND AVE, Clarington, Ontario, L1C 4V6\n",
      "Collected data for: 774 LAKE RANGE Drive, Huron Township, Ontario, N2Z 2X3\n",
      "Collected data for: 132 EMILY JADE CRESCENT, Cornwall, Ontario, K6K 0B6\n",
      "Collected data for: 125 AVONDALE Road, Belleville, Ontario, K8P 4G2\n",
      "Collected data for: 38 BROCK ST, Barrie, Ontario, L4N 2L7\n",
      "Collected data for: 947 WESTON DRIVE, Ottawa, Ontario, K1G 1X1\n",
      "Collected data for: 51 GRAHAM  AVE S, Hamilton, Ontario, L8K 2L9\n",
      "Collected data for: 17 ARCH BROWN CRT, Barrie, Ontario, L4M 0C6\n",
      "Collected data for: 22 E MARY Street, Picton, Ontario, K0K 2T0\n",
      "Collected data for: 46 Wellington Street, St. Catharines, Ontario, L2R 5R1\n",
      "Collected data for: 1560 COUNTY RD 22, Lakeshore, Ontario, N0R 1A0\n",
      "Collected data for: 2704 MATAWATCHAN ROAD, Greater Madawaska, Ontario, K0J 2R0\n",
      "Collected data for: 424 BALL ST, Cobourg, Ontario, K9A 3J5\n",
      "Collected data for: 906 BRINKLOW RD, Bancroft, Ontario, K0L 1A0\n",
      "Collected data for: 230 BURNETT AVE, Toronto, Ontario, M2N 1V8\n",
      "Collected data for: 16 MAIN Street, Brantford, Ontario, N3R 3X2\n",
      "Collected data for: 237 LAKE Avenue N|Unit #22, Hamilton, Ontario, L8E 1L6\n",
      "Collected data for: #6 -105 ANDOVER DR, London, Ontario, N6J 4B1\n",
      "Collected data for: 4629 EAGLE CRESCENT, Windsor, Ontario, N9G 2N6\n",
      "Collected data for: 453 JOSEPH STREET, Carleton Place, Ontario, K7C 3T8\n",
      "Collected data for: 2 CRETNEY DR, Prince Edward County, Ontario, K0K 3L0\n",
      "Collected data for: 83 Kipling Court, Sudbury, Ontario, P3A 1E2\n",
      "Collected data for: 1700 MARSALA CRESCENT, Orleans, Ontario, K4A 2G9\n",
      "Collected data for: 29 WESTWINDS DRIVE, Morrisburg, Ontario, K0C 1X0\n",
      "Collected data for: 15 POWELL Lane, Cayuga, Ontario, N0A 1E0\n",
      "Collected data for: 4604 OIL SPRINGS LINE, Oil Springs, Ontario, N0N 1P0\n",
      "Collected data for: 238 Syndicate Avenue N, Thunder Bay, ON, P7C 3V8\n",
      "Collected data for: 2749 MUSCLOW-GREENVIEW Road, Bancroft, Ontario, K0L 1C0\n",
      "Collected data for: 4604 OIL SPRINGS LINE, Oil Springs, Ontario, N0N 1P0\n",
      "Collected data for: 238 Syndicate Avenue N, Thunder Bay, ON, P7C 3V8\n",
      "Collected data for: 2749 MUSCLOW-GREENVIEW Road, Bancroft, Ontario, K0L 1C0\n",
      "Collected data for: 3304 Highway 69 N, Val Caron, Ontario, P3N 1G6\n",
      "Collected data for: 1315 2ND Avenue S, Saugeen First Nations, Ontario, N0H 2L0\n",
      "Collected data for: 1869 MUSKOKA 118 Road W Unit# T301-A2, Bracebridge, Ontario, P1L 1W8\n",
      "Collected data for: 1 Synite(aka Sygnite) Street, Red Lake, ON, P0V 2M0\n",
      "Collected data for: 222 Manitou Street, Thunder Bay, ON, P7B 1P1\n",
      "Collected data for: 95 ESGORE DR, Toronto, Ontario, M5M 3S1\n",
      "Collected data for: 191 GREENFIELD AVE, Toronto, Ontario, M2N 3E2\n",
      "Collected data for: 1454 OAKHILL DR, Oakville, Ontario, L6J 1Y5\n",
      "Collected data for: 1315 Bayshire Drive, Oakville, Ontario, L6H 6C6\n",
      "Collected data for: 72 MIDSUMMER DR N, Brampton, Ontario, L6P 3E4\n",
      "Collected data for: 4866 FOREST HILL DR, Mississauga, Ontario, L5M 5B1\n"
     ]
    },
    {
     "ename": "IndexError",
     "evalue": "list index out of range",
     "output_type": "error",
     "traceback": [
      "\u001b[1;31m---------------------------------------------------------------------------\u001b[0m",
      "\u001b[1;31mIndexError\u001b[0m                                Traceback (most recent call last)",
      "\u001b[1;32mc:\\Users\\User\\Desktop\\ClassWork\\git\\final-project\\Web Scraping\\house_scrape.ipynb Cell 5\u001b[0m in \u001b[0;36m<cell line: 15>\u001b[1;34m()\u001b[0m\n\u001b[0;32m     <a href='vscode-notebook-cell:/c%3A/Users/User/Desktop/ClassWork/git/final-project/Web%20Scraping/house_scrape.ipynb#W4sZmlsZQ%3D%3D?line=47'>48</a>\u001b[0m style_type \u001b[39m=\u001b[39m values[\u001b[39m0\u001b[39m]\u001b[39m.\u001b[39mtext\u001b[39m.\u001b[39mstrip(\u001b[39m\"\u001b[39m\u001b[39m:\u001b[39m\u001b[39m\"\u001b[39m)\n\u001b[0;32m     <a href='vscode-notebook-cell:/c%3A/Users/User/Desktop/ClassWork/git/final-project/Web%20Scraping/house_scrape.ipynb#W4sZmlsZQ%3D%3D?line=48'>49</a>\u001b[0m cooling_type \u001b[39m=\u001b[39m values[\u001b[39m-\u001b[39m\u001b[39m1\u001b[39m]\u001b[39m.\u001b[39mtext\n\u001b[1;32m---> <a href='vscode-notebook-cell:/c%3A/Users/User/Desktop/ClassWork/git/final-project/Web%20Scraping/house_scrape.ipynb#W4sZmlsZQ%3D%3D?line=49'>50</a>\u001b[0m heating_fuel \u001b[39m=\u001b[39m values[\u001b[39m-\u001b[39;49m\u001b[39m2\u001b[39;49m]\u001b[39m.\u001b[39mtext\n\u001b[0;32m     <a href='vscode-notebook-cell:/c%3A/Users/User/Desktop/ClassWork/git/final-project/Web%20Scraping/house_scrape.ipynb#W4sZmlsZQ%3D%3D?line=50'>51</a>\u001b[0m heating_type \u001b[39m=\u001b[39m values[\u001b[39m-\u001b[39m\u001b[39m3\u001b[39m]\u001b[39m.\u001b[39mtext\n\u001b[0;32m     <a href='vscode-notebook-cell:/c%3A/Users/User/Desktop/ClassWork/git/final-project/Web%20Scraping/house_scrape.ipynb#W4sZmlsZQ%3D%3D?line=51'>52</a>\u001b[0m fire_place \u001b[39m=\u001b[39m values[\u001b[39m-\u001b[39m\u001b[39m4\u001b[39m]\u001b[39m.\u001b[39mtext\n",
      "\u001b[1;31mIndexError\u001b[0m: list index out of range"
     ]
    }
   ],
   "source": [
    "# Dependencies\n",
    "import requests\n",
    "import json\n",
    "\n",
    "# Import the API key\n",
    "from config import apiKey\n",
    "\n",
    "# Set up Splinter\n",
    "executable_path = {'executable_path':\"C:\\Program Files (x86)\\msedgedriver.exe\"}\n",
    "browser = Browser('edge', **executable_path)\n",
    "\n",
    "\n",
    "# Visit each listing and grab relevant data\n",
    "house_listing_info = []\n",
    "for i in range(len(house_listings)):\n",
    "    url = house_listings[i]\n",
    "    browser.visit(url)\n",
    "    html = browser.html\n",
    "    soup = bs(html, 'html.parser')\n",
    "    houses = {} \n",
    "    \n",
    "    # Gather information on living space\n",
    "    living_space_section = soup.find('div', class_='property-meta-info')\n",
    "\n",
    "    # Get exact address\n",
    "    address = living_space_section.find('div', class_='title--h2 u-no-margins').text\n",
    "\n",
    "\n",
    "    # Get price\n",
    "    price = living_space_section.find('span', class_=\"title title--h1 price\").text.strip()\n",
    "\n",
    "    \n",
    "    # Get number of beds\n",
    "    bed_info = living_space_section.find('div', class_='bed-bath-box__item beds')\n",
    "    bed_count = bed_info.find('p', class_='bed-bath-box__value').text\n",
    "\n",
    "\n",
    "    # Get number of baths\n",
    "    bath_info = living_space_section.find('div', class_='bed-bath-box__item baths')\n",
    "    bath_count = bath_info.find('p', class_='bed-bath-box__value').text\n",
    "    \n",
    "    \n",
    "    # House features\n",
    "    building_feature_section = soup.find('div', class_=\"details-row\")\n",
    "    values = building_feature_section.find_all('span', class_=\"value\")\n",
    "    \n",
    "# Feastures of house\n",
    "    style_type = values[0].text.strip(\":\")\n",
    "    cooling_type = values[-1].text\n",
    "    heating_fuel = values[-2].text\n",
    "    heating_type = values[-3].text\n",
    "    fire_place = values[-4].text\n",
    "    houses['address'] = address\n",
    "    houses['price'] = price\n",
    "    houses['number_of_beds'] = bed_count\n",
    "    houses['number_of_baths'] = bath_count\n",
    "    houses['style'] = style_type\n",
    "    houses['cooling_type'] = cooling_type\n",
    "    houses['heating_fuel'] = heating_fuel\n",
    "    houses['heating_type'] = heating_type\n",
    "    houses['fire_place'] = fire_place\n",
    "    \n",
    "    # Build target url with address and apikey\n",
    "    string_search = houses['address'].split(\",\")[1:]\n",
    "    new_string = (\",\").join(string_search).strip()                           \n",
    "    \n",
    "    target_url = f\"https://api.geoapify.com/v1/geocode/search?text={new_string}&format=json&apiKey={apiKey}\"\n",
    "    \n",
    "    # Run a request to endpoint and convert result to json\n",
    "    geo_data = requests.get(target_url).json()\n",
    "\n",
    "    # Get coordinate information\n",
    "    lat = geo_data[\"results\"][0][\"lat\"]\n",
    "    lon = geo_data[\"results\"][0][\"lon\"]\n",
    "    \n",
    "    houses['lat'] = lat\n",
    "    houses['lon'] = lon\n",
    "        \n",
    "    print(f\"Collected data for: {houses['address']}\")\n",
    "    house_listing_info.append(houses)\n",
    "\n",
    "browser.quit()\n"
   ]
  },
  {
   "cell_type": "code",
   "execution_count": null,
   "metadata": {},
   "outputs": [
    {
     "name": "stdout",
     "output_type": "stream",
     "text": [
      "No\n",
      "Yes\n",
      "Yes\n",
      "Yes\n",
      "Yes\n",
      "0\n"
     ]
    }
   ],
   "source": [
    "#  # House features\n",
    "# building_feature_section = soup.find('ul', class_=\"property-features-list\")\n",
    "# labels = building_feature_section.find_all('span', class_=\"label\")\n",
    "# values = building_feature_section.find_all('span', class_=\"value\")\n",
    "\n",
    "# wanted_feature = ['Fireplace', 'Style', 'Heating Type', 'Heating Fuel', 'Cooling Type']\n",
    "# listed_features = [label.text.strip(\":\") for label in labels]\n",
    "# value_features = [value.text.strip() for value in values]\n",
    "\n",
    "# for i in range(len(wanted_feature)):\n",
    "#     if (wanted_feature[i] in listed_features):\n",
    "#         print(\"Yes\")\n",
    "#     else:\n",
    "#         print(\"No\")\n",
    "\n",
    "# # [i in listed_features for i in wanted_feature]:\n",
    "    \n",
    "# print(style_type)\n",
    " \n"
   ]
  },
  {
   "cell_type": "code",
   "execution_count": 287,
   "metadata": {},
   "outputs": [
    {
     "data": {
      "text/plain": [
       "106"
      ]
     },
     "execution_count": 287,
     "metadata": {},
     "output_type": "execute_result"
    }
   ],
   "source": [
    "len(house_listing_info)"
   ]
  },
  {
   "cell_type": "code",
   "execution_count": null,
   "metadata": {},
   "outputs": [
    {
     "data": {
      "text/plain": [
       "[{'address': '2183 PHEASANT LANE, Oakville, Ontario, L6M 3R8',\n",
       "  'price': '$1,998,000',\n",
       "  'number_of_beds': '4+1 Beds',\n",
       "  'number_of_baths': '4 Baths',\n",
       "  'style': 'Detached',\n",
       "  'cooling_type': 'Central air conditioning',\n",
       "  'heating_fuel': 'Natural gas',\n",
       "  'heating_type': 'Forced air',\n",
       "  'fire_place': 'Yes',\n",
       "  'lat': 43.447436,\n",
       "  'lon': -79.666672},\n",
       " {'address': '32 ATLANTIC AVE, Markham, Ontario, L3P 7C4',\n",
       "  'price': '$1,899,900',\n",
       "  'number_of_beds': '4+2 Beds',\n",
       "  'number_of_baths': '4 Baths',\n",
       "  'style': 'Detached',\n",
       "  'cooling_type': 'Central air conditioning',\n",
       "  'heating_fuel': 'Natural gas',\n",
       "  'heating_type': 'Forced air',\n",
       "  'fire_place': 'Yes',\n",
       "  'lat': 43.8563707,\n",
       "  'lon': -79.3376825},\n",
       " {'address': '27 WATTS MEADOW, Aurora, Ontario, L4G 7L7',\n",
       "  'price': '$1,898,888',\n",
       "  'number_of_beds': '4 Beds',\n",
       "  'number_of_baths': '5 Baths',\n",
       "  'style': 'Detached',\n",
       "  'cooling_type': 'Central air conditioning',\n",
       "  'heating_fuel': 'Natural gas',\n",
       "  'heating_type': 'Forced air',\n",
       "  'fire_place': 'Yes',\n",
       "  'lat': 43.99973,\n",
       "  'lon': -79.467545}]"
      ]
     },
     "execution_count": 47,
     "metadata": {},
     "output_type": "execute_result"
    }
   ],
   "source": [
    "house_listing_info"
   ]
  },
  {
   "cell_type": "code",
   "execution_count": null,
   "metadata": {},
   "outputs": [
    {
     "data": {
      "text/plain": [
       "'2183 PHEASANT LANE, Oakville, Ontario, L6M 3R8'"
      ]
     },
     "execution_count": 85,
     "metadata": {},
     "output_type": "execute_result"
    }
   ],
   "source": [
    "import re\n",
    "\n",
    "txt = '2183 PHEASANT LANE, Oakville, Ontario, L6M 3R8'\n",
    "\n",
    "search_string = re.sub('.+([A-Z]|[0-9])\\s[-]','', txt)       \n",
    "search_string                  \n",
    "                           "
   ]
  },
  {
   "cell_type": "code",
   "execution_count": null,
   "metadata": {},
   "outputs": [],
   "source": [
    "import csv\n",
    "\n",
    "try:\n",
    "    with open('./Resources/housing.csv', 'w') as csvfile:\n",
    "        writer = csv.DictWriter(csvfile, fieldnames=['address', 'price', 'number_of_beds', 'number_of_baths', 'style', 'cooling_type','heating_fuel', 'heating_type', 'fire_place', 'lat', 'lon'])\n",
    "        writer.writeheader()\n",
    "        for data in house_listing_info:\n",
    "            writer.writerow(data)\n",
    "except IOError:\n",
    "    print(\"I/O error\")"
   ]
  }
 ],
 "metadata": {
  "kernelspec": {
   "display_name": "Python 3 (ipykernel)",
   "language": "python",
   "name": "python3"
  },
  "language_info": {
   "codemirror_mode": {
    "name": "ipython",
    "version": 3
   },
   "file_extension": ".py",
   "mimetype": "text/x-python",
   "name": "python",
   "nbconvert_exporter": "python",
   "pygments_lexer": "ipython3",
   "version": "3.9.12"
  }
 },
 "nbformat": 4,
 "nbformat_minor": 2
}
